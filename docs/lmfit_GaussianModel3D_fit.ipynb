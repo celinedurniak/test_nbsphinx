{
 "cells": [
  {
   "cell_type": "markdown",
   "metadata": {},
   "source": [
    "<div class=\"alert alert-warning\">\n",
    "    \n",
    "<b>Disclaimer:</b> The main objective of the <i>Jupyter</i> notebooks is to show how to use the models of the <i>QENS library</i> by\n",
    "    \n",
    "- building a fitting model: composition of models, convolution with a resolution function\n",
    "- setting and run the fit   \n",
    "- extracting and displaying information about the results\n",
    "\n",
    "These steps have a minimizer-dependent syntax. That's one of the reasons why different minimizers have been used in the notebooks provided as examples.  \n",
    "But, the initial guessed parameters might not be optimal, resulting in a poor fit of the reference data.\n",
    "</div>\n",
    "\n",
    "# Example: Gaussian Model 3D fitted with lmfit\n",
    "\n",
    "## Table of Contents\n",
    "\n",
    "- [Introduction](#Introduction)\n",
    "- [Importing the required libraries](#Importing-the-required-libraries)\n",
    "- [Plot of the fitting model](#Plot-of-the-fitting-model)\n",
    "- [Creating the reference data](#Creating-the-reference-data)\n",
    "- [Setting and fitting](#Setting-and-fitting) \n",
    "- [Plotting the results](#Plotting-the-results) "
   ]
  },
  {
   "cell_type": "markdown",
   "metadata": {},
   "source": [
    "[Top](#Table-of-Contents)\n",
    "\n",
    "## Introduction\n",
    "\n",
    "<div class=\"alert alert-info\">\n",
    "    \n",
    "The objective of this notebook is to show how to use the <b>Gaussian Model 3D</b> model to perform some \n",
    "fits using <a href=\"https://lmfit.github.io/lmfit-py/\">lmfit</a>.\n",
    "</div>\n",
    "\n",
    "### Physical units\n",
    "For information about unit conversion, please refer to the jupyter notebook called `Convert_units.ipynb` in the `tools` folder.\n",
    "\n",
    "The dictionary of units defined in the cell below specify the units of the refined parameters adapted to the convention used in the experimental datafile."
   ]
  },
  {
   "cell_type": "code",
   "execution_count": null,
   "metadata": {},
   "outputs": [],
   "source": [
    "# Units of parameters for selected QENS model and experimental data\n",
    "dict_physical_units = {'omega': \"meV\", \n",
    "                       'q': \"1/Angstrom\", \n",
    "                       'D': \"meV.Angstrom^2\", \n",
    "                       'variance_ux': \"Angstrom\", \n",
    "                       'scale': \"unit_of_signal.meV\",\n",
    "                       'center': \"meV\"}"
   ]
  },
  {
   "cell_type": "markdown",
   "metadata": {},
   "source": [
    "[Top](#Table-of-Contents)\n",
    "\n",
    "## Importing the required librairies"
   ]
  },
  {
   "cell_type": "code",
   "execution_count": null,
   "metadata": {},
   "outputs": [],
   "source": [
    "# import python modules for plotting, fitting\n",
    "from __future__ import print_function\n",
    "import numpy as np\n",
    "\n",
    "import matplotlib.pyplot as plt\n",
    "\n",
    "# for interactivity (plots, buttons...)\n",
    "from pandas import DataFrame\n",
    "import panel.widgets as pnw\n",
    "import panel as pn\n",
    "pn.extension()\n",
    "\n",
    "#%matplotlib notebook"
   ]
  },
  {
   "cell_type": "code",
   "execution_count": null,
   "metadata": {},
   "outputs": [],
   "source": [
    "# install QENSmodels (if not already installed)\n",
    "import pkgutil\n",
    "import sys\n",
    "\n",
    "if not pkgutil.find_loader(\"QENSmodels\"):\n",
    "    buttonY = pnw.Button(name='Yes', button_type='success')\n",
    "    buttonN = pnw.Button(name='No', button_type='danger')\n",
    "    choice_installation = panel.Column(\"Do you want to install the QENSmodels' library?\", panel.Row(buttonY, buttonN))\n",
    "    display(choice_installation)"
   ]
  },
  {
   "cell_type": "code",
   "execution_count": null,
   "metadata": {},
   "outputs": [],
   "source": [
    "if not pkgutil.find_loader(\"QENSmodels\"):\n",
    "    if buttonY.clicks>0:\n",
    "        !{sys.executable} -m pip install git+https://github.com/QENSlibrary/QENSmodels#egg=QENSmodels\n",
    "    elif buttonN.clicks>0:\n",
    "        print(\"You will not be able to run some of the remaining parts of this notebook\")"
   ]
  },
  {
   "cell_type": "code",
   "execution_count": null,
   "metadata": {},
   "outputs": [],
   "source": [
    "# install lmfit (if not already installed)\n",
    "if not pkgutil.find_loader(\"lmfit\"):\n",
    "    lmfitY = pnw.Button(name='Yes', button_type='success')\n",
    "    lmfitN = pnw.Button(name='No', button_type='danger')\n",
    "    choice_installation = panel.Column(\"Do you want to install lmfit?\", panel.Row(lmfitY, lmfitN))\n",
    "    display(choice_installation)"
   ]
  },
  {
   "cell_type": "code",
   "execution_count": null,
   "metadata": {},
   "outputs": [],
   "source": [
    "if not pkgutil.find_loader(\"lmfit\"):\n",
    "    if lmfitY.clicks>0:\n",
    "         !{sys.executable} -m pip install lmfit\n",
    "    elif lmfitN.clicks>0:\n",
    "        print(\"You will not be able to run some of the remaining parts of this notebook\")"
   ]
  },
  {
   "cell_type": "code",
   "execution_count": null,
   "metadata": {},
   "outputs": [],
   "source": [
    "# required imports from lmfit\n",
    "from lmfit import Model, Parameters\n",
    "\n",
    "# import model from QENS library\n",
    "import QENSmodels"
   ]
  },
  {
   "cell_type": "markdown",
   "metadata": {},
   "source": [
    "[Top](#Table-of-Contents)\n",
    "\n",
    "## Plot of the fitting model\n",
    "\n",
    "The widget below shows the peak shape function imported from QENSmodels where the function's parameters can be varied."
   ]
  },
  {
   "cell_type": "code",
   "execution_count": null,
   "metadata": {},
   "outputs": [],
   "source": [
    "ini_values = {'q': 1., 'scale': 5., 'center': 5., 'D': 1., 'variance_ux': 1.}\n",
    "\n",
    "# Define function to plot\n",
    "def mplplot(df, **kwargs):\n",
    "    fig = df.plot(legend=False).get_figure()\n",
    "    plt.grid()\n",
    "    plt.ylabel('Gaussian Model 3D')\n",
    "    plt.xlabel('x')\n",
    "    plt.close(fig)\n",
    "    return fig\n",
    "\n",
    "def gaussian_model_3d(q=1.0, scale=1.0, center=0.0, D=1., variance_ux=1.0, view_fn=mplplot):\n",
    "    xs = np.linspace(-10,10,100)\n",
    "    ys = QENSmodels.sqwGaussianModel3D(xs, q, scale, center, D, variance_ux) \n",
    "    df = DataFrame(dict(y=ys), index=xs)\n",
    "    return view_fn(df, q=q, scale=scale, center=center, D=D, variance_ux=variance_ux)\n",
    "\n",
    "# Define sliders and actions on plot\n",
    "slider_q = pnw.FloatSlider(name='q', value=ini_values['q'], start=0.2, end=10.)\n",
    "slider_scale  = pnw.FloatSlider(name='scale', value=ini_values['scale'], start=1., end=10.)\n",
    "slider_center = pnw.FloatSlider(name='center', value=ini_values['center'], start=0., end=10.)\n",
    "slider_D = pnw.FloatSlider(name='D', value=ini_values['D'], start=0., end=10.)\n",
    "slider_variance_ux =  pnw.FloatSlider(name='variance_ux', value=ini_values['variance_ux'], start=0.01, end=10.)\n",
    "\n",
    "def update(event):\n",
    "    gaus_model_3d_panel[0] = gaussian_model_3d(slider_q.value, \n",
    "                                               slider_scale.value, \n",
    "                                               slider_center.value, \n",
    "                                               slider_D.value, slider_variance_ux.value)\n",
    "    \n",
    "slider_q.param.watch(update, 'value')\n",
    "slider_scale.param.watch(update, 'value')\n",
    "slider_center.param.watch(update, 'value')\n",
    "slider_D.param.watch(update, 'value')\n",
    "slider_variance_ux.param.watch(update, 'value')\n",
    "\n",
    "# Define reset button\n",
    "reset_button = pnw.Button(name='Reset')\n",
    "\n",
    "def on_click(event):\n",
    "    \"\"\"Reset the interactive plots to inital values.\"\"\"\n",
    "    print(\"reset values\")\n",
    "    slider_q.value = ini_values['q']\n",
    "    slider_scale.value = ini_values['scale']\n",
    "    slider_center.value = ini_values['center']\n",
    "    slider_D.value = ini_values['D']\n",
    "    slider_variance_ux.value = ini_values['variance_ux']\n",
    "    \n",
    "reset_button.param.watch(on_click, 'clicks')\n",
    "\n",
    "# Define layout: title, plot, sliders and reset button\n",
    "widgets = pn.Column(\"#### Gaussian Model 3D\", slider_q, slider_scale, slider_center, slider_D, slider_variance_ux, reset_button)\n",
    "gaus_model_3d_panel = pn.Row(gaussian_model_3d(slider_q.value, slider_scale.value, slider_center.value, slider_D.value, slider_variance_ux.value), widgets)\n",
    "\n",
    "gaus_model_3d_panel"
   ]
  },
  {
   "cell_type": "markdown",
   "metadata": {},
   "source": [
    "[Top](#Table-of-Contents)\n",
    "\n",
    "## Creating the reference data"
   ]
  },
  {
   "cell_type": "code",
   "execution_count": null,
   "metadata": {},
   "outputs": [],
   "source": [
    "xx = np.linspace(-2,2,200)\n",
    "gaussian_model_3d_noisy = QENSmodels.sqwGaussianModel3D(xx, .5, 0.7, 0.3, 1, 1.2)*(1+0.1*np.random.normal(0,1,200)) + 0.01*np.random.normal(0,1,200)\n",
    "# plot initial mode\n",
    "fig0, ax0 = plt.subplots()\n",
    "ax0.plot(xx, gaussian_model_3d_noisy)\n",
    "ax0.grid();"
   ]
  },
  {
   "cell_type": "markdown",
   "metadata": {},
   "source": [
    "[Top](#Table-of-Contents)\n",
    "\n",
    "## Setting and fitting"
   ]
  },
  {
   "cell_type": "code",
   "execution_count": null,
   "metadata": {},
   "outputs": [],
   "source": [
    "gmodel = Model(QENSmodels.sqwGaussianModel3D)\n",
    "\n",
    "print('Names of parameters:', gmodel.param_names)\n",
    "print('Independent variable(s):', gmodel.independent_vars)\n",
    "\n",
    "initial_parameters_values = [1.22, 0.25, .3, 0.33]\n",
    "\n",
    "# Define boundaries for parameters to be refined\n",
    "gmodel.set_param_hint('scale', min=0)\n",
    "gmodel.set_param_hint('center', min=-5, max=5)\n",
    "gmodel.set_param_hint('D', min=0)\n",
    "gmodel.set_param_hint('variance_ux', min=0)\n",
    "\n",
    "# Fix some of the parameters\n",
    "gmodel.set_param_hint('q', vary=False)\n",
    "\n",
    "# Fit\n",
    "result = gmodel.fit(gaussian_model_3d_noisy, w=xx, q=1.,\n",
    "                    scale=initial_parameters_values[0], \n",
    "                    center=initial_parameters_values[1],\n",
    "                    D=initial_parameters_values[2],\n",
    "                    variance_ux=initial_parameters_values[3])"
   ]
  },
  {
   "cell_type": "code",
   "execution_count": null,
   "metadata": {},
   "outputs": [],
   "source": [
    "# Plot Initial model and reference data\n",
    "fig1, ax1 = plt.subplots()\n",
    "ax1.plot(xx, gaussian_model_3d_noisy, 'b-', label='reference data')\n",
    "ax1.plot(xx, result.init_fit, 'k--', label='model with initial guesses')\n",
    "ax1.set(xlabel='x', title='Initial model and reference data')\n",
    "ax1.grid()\n",
    "ax1.legend();"
   ]
  },
  {
   "cell_type": "markdown",
   "metadata": {},
   "source": [
    "[Top](#Table-of-Contents)\n",
    "\n",
    "## Plotting results\n",
    "\n",
    "using methods implemented in `lmfit`"
   ]
  },
  {
   "cell_type": "code",
   "execution_count": null,
   "metadata": {
    "scrolled": true
   },
   "outputs": [],
   "source": [
    "# display result\n",
    "print('Result of fit:\\n',result.fit_report())\n",
    "\n",
    "# plot fitting results using lmfit functionality\n",
    "result.plot();"
   ]
  },
  {
   "cell_type": "code",
   "execution_count": null,
   "metadata": {
    "scrolled": true
   },
   "outputs": [],
   "source": [
    "# plot fitting results and reference data using matplotlib.pyplot\n",
    "fig2, ax2 = plt.subplots()\n",
    "ax2.plot(xx, gaussian_model_3d_noisy, 'b-', label='reference data')\n",
    "ax2.plot(xx, result.best_fit, 'r.', label='fitting result')\n",
    "ax2.legend()\n",
    "ax2.set(xlabel='x', title='Fit result and reference data')\n",
    "ax2.grid();"
   ]
  },
  {
   "cell_type": "code",
   "execution_count": null,
   "metadata": {},
   "outputs": [],
   "source": []
  }
 ],
 "metadata": {
  "kernelspec": {
   "display_name": "Python 3",
   "language": "python",
   "name": "python3"
  },
  "language_info": {
   "codemirror_mode": {
    "name": "ipython",
    "version": 3
   },
   "file_extension": ".py",
   "mimetype": "text/x-python",
   "name": "python",
   "nbconvert_exporter": "python",
   "pygments_lexer": "ipython3",
   "version": "3.7.3"
  },
  "toc": {
   "base_numbering": 1,
   "nav_menu": {},
   "number_sections": true,
   "sideBar": true,
   "skip_h1_title": true,
   "title_cell": "Table of Contents",
   "title_sidebar": "Contents",
   "toc_cell": false,
   "toc_position": {},
   "toc_section_display": true,
   "toc_window_display": false
  },
  "varInspector": {
   "cols": {
    "lenName": 16,
    "lenType": 16,
    "lenVar": 40
   },
   "kernels_config": {
    "python": {
     "delete_cmd_postfix": "",
     "delete_cmd_prefix": "del ",
     "library": "var_list.py",
     "varRefreshCmd": "print(var_dic_list())"
    },
    "r": {
     "delete_cmd_postfix": ") ",
     "delete_cmd_prefix": "rm(",
     "library": "var_list.r",
     "varRefreshCmd": "cat(var_dic_list()) "
    }
   },
   "types_to_exclude": [
    "module",
    "function",
    "builtin_function_or_method",
    "instance",
    "_Feature"
   ],
   "window_display": false
  }
 },
 "nbformat": 4,
 "nbformat_minor": 2
}
