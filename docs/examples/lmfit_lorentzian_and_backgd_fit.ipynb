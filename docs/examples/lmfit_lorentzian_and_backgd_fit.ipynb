{
 "cells": [
  {
   "cell_type": "markdown",
   "metadata": {
    "tags": [
     "remove_cell"
    ]
   },
   "source": [
    "<div class=\"alert alert-warning\">\n",
    "    \n",
    "<b>Disclaimer:</b> \n",
    "    \n",
    "The main objective of the <i>Jupyter</i> notebooks is to show how to use the models of the <i>QENS library</i> by\n",
    "    \n",
    "- building a fitting model: composition of models, convolution with a resolution function  \n",
    "- setting and running the fit  \n",
    "- extracting and displaying information about the results  \n",
    "\n",
    "These steps have a minimizer-dependent syntax. That's one of the reasons why different minimizers have been used in the notebooks provided as examples.  \n",
    "But, the initial guessed parameters might not be optimal, resulting in a poor fit of the reference data.\n",
    "    \n",
    "</div>\n",
    "\n",
    "#  Lorentzian + background with lmfit\n",
    "\n",
    "## Table of Contents\n",
    "\n",
    "- [Introduction](#Introduction)\n",
    "- [Importing the required libraries](#Importing-the-required-libraries)\n",
    "- [Plot of the fitting model](#Plot-of-the-fitting-model)\n",
    "- [Creating the reference data](#Creating-the-reference-data)\n",
    "- [Setting and fitting](#Setting-and-fitting)  \n",
    "- [Plotting the results](#Plotting-the-results) "
   ]
  },
  {
   "cell_type": "markdown",
   "metadata": {
    "tags": [
     "remove_cell"
    ]
   },
   "source": [
    "[Top](#Table-of-Contents)\n",
    "\n",
    "## Introduction\n",
    "\n",
    "<div class=\"alert alert-info\">\n",
    "    \n",
    "The objective of this notebook is to show how to combine the models of \n",
    "the <a href=\"https://github.com/QENSlibrary/QENSmodels\">QENSlibrary</a>. Here, we use the <b>Lorentzian</b> profile and a flat background, created from <b>background_polynomials</b>, to perform some fits.\n",
    "\n",
    "<a href=\"https://lmfit.github.io/lmfit-py/\">lmfit</a> is used for fitting.\n",
    "</div>"
   ]
  },
  {
   "cell_type": "markdown",
   "metadata": {
    "tags": [
     "remove_cell"
    ]
   },
   "source": [
    "[Top](#Table-of-Contents)\n",
    "\n",
    "## Importing the required librairies"
   ]
  },
  {
   "cell_type": "code",
   "execution_count": null,
   "metadata": {
    "tags": [
     "import_cell"
    ]
   },
   "outputs": [],
   "source": [
    "# import python modules for plotting, fitting\n",
    "from __future__ import print_function\n",
    "import numpy as np\n",
    "import matplotlib.pyplot as plt"
   ]
  },
  {
   "cell_type": "code",
   "execution_count": null,
   "metadata": {
    "tags": [
     "remove_cell"
    ]
   },
   "outputs": [],
   "source": [
    "import ipywidgets"
   ]
  },
  {
   "cell_type": "code",
   "execution_count": null,
   "metadata": {
    "tags": [
     "remove_cell"
    ]
   },
   "outputs": [],
   "source": [
    "# install QENSmodels (if not already installed)\n",
    "import pkgutil\n",
    "import sys\n",
    "\n",
    "if not pkgutil.find_loader(\"QENSmodels\"):\n",
    "    buttonY = ipywidgets.Button(description='Yes', button_style='success')\n",
    "    buttonN = ipywidgets.Button(description='No', button_style='danger')\n",
    "    choice_installation = ipywidgets.VBox(\n",
    "    [ipywidgets.Label(\"Do you want to install the QENSmodels' library?\"), ipywidgets.HBox([buttonY, buttonN])],\n",
    "    layout=ipywidgets.Layout(width='50%', height='80px'))\n",
    "    \n",
    "    display(choice_installation)\n",
    "    \n",
    "    def on_buttonY_clicked(b):\n",
    "        !{sys.executable} -m pip install git+https://github.com/QENSlibrary/QENSmodels#egg=QENSmodels\n",
    "\n",
    "    def on_buttonN_clicked(b):\n",
    "        print(\"You will not be able to run some of the remaining parts of this notebook\")\n",
    "     \n",
    "    buttonY.on_click(on_buttonY_clicked)\n",
    "    buttonN.on_click(on_buttonN_clicked) "
   ]
  },
  {
   "cell_type": "code",
   "execution_count": null,
   "metadata": {
    "tags": [
     "remove_cell"
    ]
   },
   "outputs": [],
   "source": [
    "# install lmfit (if not already installed)\n",
    "if not pkgutil.find_loader(\"lmfit\"):\n",
    "    lmfitY = ipywidgets.Button(description='Yes', button_style='success')\n",
    "    lmfitN = ipywidgets.Button(description='No', button_style='danger')\n",
    "    choice_installation = ipywidgets.VBox(\n",
    "    [ipywidgets.Label(\"Do you want to install lmfit?\"), ipywidgets.HBox([lmfitY, lmfitN])],\n",
    "    layout=ipywidgets.Layout(width='30%', height='80px'))\n",
    "\n",
    "    display(choice_installation)\n",
    "    \n",
    "    def on_lmfitY_clicked(b):\n",
    "        !{sys.executable} -m pip install lmfit\n",
    "    def on_lmfitN_clicked(b):\n",
    "        print(\"You will not be able to run some of the remaining parts of this notebook\")  \n",
    "    lmfitY.on_click(on_lmfitY_clicked)\n",
    "    lmfitN.on_click(on_lmfitN_clicked) "
   ]
  },
  {
   "cell_type": "code",
   "execution_count": null,
   "metadata": {},
   "outputs": [],
   "source": [
    "# required imports from lmfit\n",
    "from lmfit import Model\n",
    "\n",
    "# import model from QENS library\n",
    "import QENSmodels"
   ]
  },
  {
   "cell_type": "markdown",
   "metadata": {
    "tags": [
     "remove_cell"
    ]
   },
   "source": [
    "### Physical units\n",
    "\n",
    "For information about unit conversion, please refer to the jupyter notebook called `Convert_units.ipynb` in the `tools` folder.\n",
    "\n",
    "The dictionary of units defined in the cell below specify the units of the refined parameters adapted to the convention used in the experimental datafile."
   ]
  },
  {
   "cell_type": "code",
   "execution_count": null,
   "metadata": {},
   "outputs": [],
   "source": [
    "# Units of parameters for selected QENS model and experimental data\n",
    "dict_physical_units = {'omega': \"1/ps\",\n",
    "                       'scale': \"unit_of_signal/ps\",\n",
    "                       'center': \"1/ps\",\n",
    "                       'hwhm': \"1/ps\"}"
   ]
  },
  {
   "cell_type": "markdown",
   "metadata": {
    "tags": [
     "remove_cell"
    ]
   },
   "source": [
    "[Top](#Table-of-Contents)\n",
    "\n",
    "## Plot of the fitting model\n",
    "\n",
    "The widget below shows the lorentzian peak shape function with a constant background imported from QENSmodels where the functions' parameters *Scale*, *Center*, *FWHM* and *background* can be varied."
   ]
  },
  {
   "cell_type": "code",
   "execution_count": null,
   "metadata": {
    "tags": [
     "remove_cell"
    ]
   },
   "outputs": [],
   "source": [
    "# Dictionary of initial values\n",
    "ini_parameters = {'scale': 5, 'center': 0, 'hwhm': 3, 'background': 0.}\n",
    "\n",
    "def interactive_fct(scale, center, hwhm, background):\n",
    "    xs = np.linspace(-10, 10, 100)\n",
    "    \n",
    "    fig1, ax1 = plt.subplots()\n",
    "    ax1.plot(xs, QENSmodels.lorentzian(xs, scale, center, hwhm) +\\\n",
    "             QENSmodels.background_polynomials(xs, background))\n",
    "    ax1.set_xlabel('x')\n",
    "    ax1.grid()\n",
    "\n",
    "# Define sliders for modifiable parameters and their range of variations\n",
    "\n",
    "scale_slider = ipywidgets.FloatSlider(value=ini_parameters['scale'],\n",
    "                                      min=0.1, max=10, step=0.1,\n",
    "                                      description='scale',\n",
    "                                      continuous_update=False) \n",
    "\n",
    "center_slider = ipywidgets.IntSlider(value=ini_parameters['center'],\n",
    "                                     min=-10, max=10, step=1,\n",
    "                                     description='center', \n",
    "                                     continuous_update=False) \n",
    "\n",
    "hwhm_slider = ipywidgets.FloatSlider(value=ini_parameters['hwhm'],\n",
    "                                     min=0.1, max=10, step=0.1,\n",
    "                                     description='hwhm',\n",
    "                                     continuous_update=False)\n",
    "\n",
    "background_slider = ipywidgets.FloatSlider(value=ini_parameters['background'],\n",
    "                                       min=0.1, max=10, step=0.1,\n",
    "                                       description='background',\n",
    "                                       continuous_update=False)\n",
    "\n",
    "grid_sliders = ipywidgets.HBox([ipywidgets.VBox([scale_slider, center_slider])\n",
    "                                ,ipywidgets.VBox([hwhm_slider, background_slider])])\n",
    "                               \n",
    "# Define function to reset all parameters' values to the initial ones\n",
    "def reset_values(b):\n",
    "    \"\"\"Reset the interactive plots to inital values.\"\"\"\n",
    "    scale_slider.value = ini_parameters['scale'] \n",
    "    center_slider.value = ini_parameters['center']  \n",
    "    hwhm_slider.value = ini_parameters['hwhm'] \n",
    "    background_slider.value = ini_parameters['background'] \n",
    "\n",
    "\n",
    "# Define reset button and occurring action when clicking on it\n",
    "reset_button = ipywidgets.Button(description = \"Reset\")\n",
    "reset_button.on_click(reset_values)\n",
    "\n",
    "# Display the interactive plot\n",
    "interactive_plot = ipywidgets.interactive_output(interactive_fct,       \n",
    "                                         {'scale': scale_slider,\n",
    "                                          'center': center_slider,\n",
    "                                          'hwhm': hwhm_slider,\n",
    "                                          'background': background_slider})  \n",
    "                                            \n",
    "display(grid_sliders, interactive_plot, reset_button)"
   ]
  },
  {
   "cell_type": "markdown",
   "metadata": {
    "tags": [
     "remove_cell"
    ]
   },
   "source": [
    "[Top](#Table-of-Contents)\n",
    "\n",
    "## Creating the reference data"
   ]
  },
  {
   "cell_type": "code",
   "execution_count": null,
   "metadata": {},
   "outputs": [],
   "source": [
    "# Create array of reference data: noisy lorentzian with background\n",
    "nb_points = 100\n",
    "xx = np.linspace(-5, 5, nb_points)\n",
    "added_noise = 0.02 * np.random.normal(0, 1, nb_points)\n",
    "lorentzian_noisy = QENSmodels.lorentzian(xx,\n",
    "                                         scale=0.89,\n",
    "                                         center=-0.025,\n",
    "                                         hwhm=0.45) * (1 + 5 * added_noise)\n",
    "lorentzian_noisy += 0.5 * (1. + added_noise)"
   ]
  },
  {
   "cell_type": "markdown",
   "metadata": {
    "tags": [
     "remove_cell"
    ]
   },
   "source": [
    "[Top](#Table-of-Contents)\n",
    "\n",
    "## Setting and fitting"
   ]
  },
  {
   "cell_type": "code",
   "execution_count": null,
   "metadata": {},
   "outputs": [],
   "source": [
    "def flat_background(x, A0):\n",
    "    \"\"\" Define flat background ot be added to fitting model\"\"\"\n",
    "    return QENSmodels.background_polynomials(x, A0)"
   ]
  },
  {
   "cell_type": "code",
   "execution_count": null,
   "metadata": {},
   "outputs": [],
   "source": [
    "gmodel = Model(QENSmodels.lorentzian) + Model(flat_background)\n",
    "print('Names of parameters:', gmodel.param_names)\n",
    "print('Independent variable(s):', gmodel.independent_vars)\n",
    "\n",
    "initial_parameters_values = [1, 0.2, 0.5, 0.33]\n",
    "\n",
    "# Fit\n",
    "result = gmodel.fit(lorentzian_noisy,\n",
    "                    x=xx,\n",
    "                    scale=initial_parameters_values[0],\n",
    "                    center=initial_parameters_values[1],\n",
    "                    hwhm=initial_parameters_values[2],\n",
    "                    A0=initial_parameters_values[3])"
   ]
  },
  {
   "cell_type": "code",
   "execution_count": null,
   "metadata": {
    "scrolled": true
   },
   "outputs": [],
   "source": [
    "# Plot initial model and reference data\n",
    "fig0, ax0 = plt.subplots()\n",
    "ax0.plot(xx, lorentzian_noisy, 'b-', label='reference data')\n",
    "ax0.plot(xx, result.init_fit, 'k--', label='model with initial guesses')\n",
    "ax0.set(xlabel='x', title='Initial model and reference data')\n",
    "ax0.grid()\n",
    "ax0.legend();"
   ]
  },
  {
   "cell_type": "markdown",
   "metadata": {
    "tags": [
     "remove_cell"
    ]
   },
   "source": [
    "[Top](#Table-of-Contents)\n",
    "\n",
    "## Plotting results\n",
    "\n",
    "using methods implemented in `lmfit`"
   ]
  },
  {
   "cell_type": "code",
   "execution_count": null,
   "metadata": {},
   "outputs": [],
   "source": [
    "# display result\n",
    "print('Result of fit:\\n', result.fit_report())"
   ]
  },
  {
   "cell_type": "code",
   "execution_count": null,
   "metadata": {},
   "outputs": [],
   "source": [
    "# plot fitting result using lmfit functionality\n",
    "result.plot()"
   ]
  },
  {
   "cell_type": "code",
   "execution_count": null,
   "metadata": {
    "scrolled": true
   },
   "outputs": [],
   "source": [
    "# Plot fitting result and reference data using matplotlib.pyplot\n",
    "fig1, ax1 = plt.subplots()\n",
    "ax1.plot(xx, lorentzian_noisy, 'b-', label='reference data')\n",
    "ax1.plot(xx, result.best_fit, 'r.', label='fitting result')\n",
    "ax1.legend()\n",
    "ax1.set(xlabel='x', title='Fit result and reference data')\n",
    "ax1.grid();"
   ]
  },
  {
   "cell_type": "code",
   "execution_count": null,
   "metadata": {},
   "outputs": [],
   "source": [
    "for item in ['hwhm', 'center', 'scale']:\n",
    "    print(item,\n",
    "          result.params[item].value, '+/-', result.params[item].stderr, dict_physical_units[item])"
   ]
  },
  {
   "cell_type": "code",
   "execution_count": null,
   "metadata": {},
   "outputs": [],
   "source": []
  }
 ],
 "metadata": {
  "celltoolbar": "Tags",
  "kernelspec": {
   "display_name": "Python 3",
   "language": "python",
   "name": "python3"
  },
  "language_info": {
   "codemirror_mode": {
    "name": "ipython",
    "version": 3
   },
   "file_extension": ".py",
   "mimetype": "text/x-python",
   "name": "python",
   "nbconvert_exporter": "python",
   "pygments_lexer": "ipython3",
   "version": "3.7.3"
  },
  "toc": {
   "base_numbering": 1,
   "nav_menu": {},
   "number_sections": true,
   "sideBar": true,
   "skip_h1_title": true,
   "title_cell": "Table of Contents",
   "title_sidebar": "Contents",
   "toc_cell": false,
   "toc_position": {
    "height": "calc(100% - 180px)",
    "left": "10px",
    "top": "150px",
    "width": "165.4px"
   },
   "toc_section_display": true,
   "toc_window_display": false
  },
  "varInspector": {
   "cols": {
    "lenName": 16,
    "lenType": 16,
    "lenVar": 40
   },
   "kernels_config": {
    "python": {
     "delete_cmd_postfix": "",
     "delete_cmd_prefix": "del ",
     "library": "var_list.py",
     "varRefreshCmd": "print(var_dic_list())"
    },
    "r": {
     "delete_cmd_postfix": ") ",
     "delete_cmd_prefix": "rm(",
     "library": "var_list.r",
     "varRefreshCmd": "cat(var_dic_list()) "
    }
   },
   "types_to_exclude": [
    "module",
    "function",
    "builtin_function_or_method",
    "instance",
    "_Feature"
   ],
   "window_display": false
  }
 },
 "nbformat": 4,
 "nbformat_minor": 2
}
