{
 "cells": [
  {
   "cell_type": "markdown",
   "metadata": {},
   "source": [
    "<div class=\"alert alert-warning\">\n",
    "    \n",
    "<b>Disclaimer:</b> \n",
    "    \n",
    "The main objective of the <i>Jupyter</i> notebooks is to show how to use the models of the <i>QENS library</i> by\n",
    "    \n",
    "- building a fitting model: composition of models, convolution with a resolution function  \n",
    "- setting and running the fit  \n",
    "- extracting and displaying information about the results  \n",
    "\n",
    "These steps have a minimizer-dependent syntax. That's one of the reasons why different minimizers have been used in the notebooks provided as examples.  \n",
    "But, note that the initial guessed parameters might not be optimal, resulting in a poor fit of the reference data.\n",
    "    \n",
    "</div>\n",
    "\n",
    "# Lorentzian + background with lmfit\n",
    "\n",
    "## Introduction\n",
    "\n",
    "<div class=\"alert alert-info\">\n",
    "    \n",
    "The objective of this notebook is to show how to combine the models of \n",
    "the <a href=\"https://github.com/QENSlibrary/QENSmodels\">QENSlibrary</a>. Here, we use the <b>Lorentzian</b> profile and a flat background, created from <b>background_polynomials</b>, to perform some fits.\n",
    "\n",
    "<a href=\"https://lmfit.github.io/lmfit-py/\">lmfit</a> is used for fitting.\n",
    "</div>\n",
    "\n",
    "### Physical units\n",
    "\n",
    "For information about unit conversion, please refer to the jupyter notebook called `Convert_units.ipynb` in the `tools` folder.\n",
    "\n",
    "The dictionary of units defined in the cell below specify the units of the refined parameters adapted to the convention used in the experimental datafile."
   ]
  },
  {
   "cell_type": "code",
   "execution_count": null,
   "metadata": {},
   "outputs": [],
   "source": [
    "# Units of parameters for selected QENS model and experimental data\n",
    "dict_physical_units = {'omega': \"1/ps\", \n",
    "                       'scale': \"unit_of_signal/ps\", \n",
    "                       'center': \"1/ps\", \n",
    "                       'hwhm': \"1/ps\",}"
   ]
  },
  {
   "cell_type": "markdown",
   "metadata": {},
   "source": [
    "## Import libraries"
   ]
  },
  {
   "cell_type": "code",
   "execution_count": null,
   "metadata": {},
   "outputs": [],
   "source": [
    "import numpy as np\n",
    "import matplotlib.pyplot as plt\n",
    "import ipywidgets\n",
    "import lmfit\n",
    "import QENSmodels"
   ]
  },
  {
   "cell_type": "markdown",
   "metadata": {},
   "source": [
    "## Plot fitting model\n",
    "\n",
    "The widget below shows the lorentzian peak shape function with a constant background imported from QENSmodels where the functions' parameters *Scale*, *Center*, *FWHM* and *background* can be varied."
   ]
  },
  {
   "cell_type": "code",
   "execution_count": null,
   "metadata": {},
   "outputs": [],
   "source": [
    "# Dictionary of initial values\n",
    "ini_parameters = {'scale': 5, 'center': 0, 'hwhm': 3, 'background': 0.}\n",
    "\n",
    "def interactive_fct(scale, center, hwhm, background):\n",
    "    \"\"\"\n",
    "    Plot to be updated when ipywidgets sliders are modified\n",
    "    \"\"\"\n",
    "    xs = np.linspace(-10, 10, 100)\n",
    "    \n",
    "    fig1, ax1 = plt.subplots()\n",
    "    ax1.plot(xs, \n",
    "             QENSmodels.lorentzian(xs, scale, center, hwhm) +\\\n",
    "             QENSmodels.background_polynomials(xs, background))\n",
    "    ax1.set_xlabel('x')\n",
    "    ax1.grid()\n",
    "\n",
    "# Define sliders for modifiable parameters and their range of variations\n",
    "\n",
    "scale_slider = ipywidgets.FloatSlider(value=ini_parameters['scale'],\n",
    "                                      min=0.1, max=10, step=0.1,\n",
    "                                      description='scale',\n",
    "                                      continuous_update=False) \n",
    "\n",
    "center_slider = ipywidgets.IntSlider(value=ini_parameters['center'],\n",
    "                                     min=-10, max=10, step=1,\n",
    "                                     description='center', \n",
    "                                     continuous_update=False) \n",
    "\n",
    "hwhm_slider = ipywidgets.FloatSlider(value=ini_parameters['hwhm'],\n",
    "                                     min=0.1, max=10, step=0.1,\n",
    "                                     description='hwhm',\n",
    "                                     continuous_update=False)\n",
    "\n",
    "background_slider = ipywidgets.FloatSlider(value=ini_parameters['background'],\n",
    "                                       min=0.1, max=10, step=0.1,\n",
    "                                       description='background',\n",
    "                                       continuous_update=False)\n",
    "\n",
    "grid_sliders = ipywidgets.HBox([ipywidgets.VBox([scale_slider, center_slider]), \n",
    "                                ipywidgets.VBox([hwhm_slider, background_slider])])\n",
    "                               \n",
    "# Define function to reset all parameters' values to the initial ones\n",
    "def reset_values(b):\n",
    "    \"\"\"\n",
    "    Reset the interactive plots to inital values\n",
    "    \"\"\"\n",
    "    scale_slider.value = ini_parameters['scale'] \n",
    "    center_slider.value = ini_parameters['center']  \n",
    "    hwhm_slider.value = ini_parameters['hwhm'] \n",
    "    background_slider.value = ini_parameters['background'] \n",
    "\n",
    "\n",
    "# Define reset button and occurring action when clicking on it\n",
    "reset_button = ipywidgets.Button(description = \"Reset\")\n",
    "reset_button.on_click(reset_values)\n",
    "\n",
    "# Display the interactive plot\n",
    "interactive_plot = ipywidgets.interactive_output(interactive_fct,       \n",
    "                                         {'scale': scale_slider,\n",
    "                                          'center': center_slider,\n",
    "                                          'hwhm': hwhm_slider,\n",
    "                                          'background': background_slider})  \n",
    "                                            \n",
    "display(grid_sliders, interactive_plot, reset_button)"
   ]
  },
  {
   "cell_type": "markdown",
   "metadata": {},
   "source": [
    "## Create the reference data"
   ]
  },
  {
   "cell_type": "code",
   "execution_count": null,
   "metadata": {},
   "outputs": [],
   "source": [
    "# Create array of reference data: noisy lorentzian with background\n",
    "nb_points = 100\n",
    "xx = np.linspace(-5, 5, nb_points)\n",
    "added_noise = np.random.normal(0, 1, nb_points)\n",
    "lorentzian_noisy = QENSmodels.lorentzian(\n",
    "    xx, \n",
    "    scale=0.89, \n",
    "    center=-0.025, \n",
    "    hwhm=0.45\n",
    ") * (1 + 0.1 * added_noise) + 0.5 * (1 + 0.02 * added_noise)"
   ]
  },
  {
   "cell_type": "markdown",
   "metadata": {},
   "source": [
    "## Setting and fitting"
   ]
  },
  {
   "cell_type": "code",
   "execution_count": null,
   "metadata": {},
   "outputs": [],
   "source": [
    "def flat_background(x, A0):\n",
    "    \"\"\" \n",
    "    Define flat background to be added to fitting model\n",
    "    \"\"\"\n",
    "    return QENSmodels.background_polynomials(x, A0)"
   ]
  },
  {
   "cell_type": "code",
   "execution_count": null,
   "metadata": {},
   "outputs": [],
   "source": [
    "gmodel = lmfit.Model(QENSmodels.lorentzian) + lmfit.Model(flat_background)\n",
    "print(f'Names of parameters: {gmodel.param_names}\\nIndependent variable(s): {gmodel.independent_vars}')\n",
    "\n",
    "initial_parameters_values = {'scale': 1, 'center':0.2, 'hwhm': 0.5, 'A0': 0.33}\n",
    "\n",
    "# Fit\n",
    "result = gmodel.fit(\n",
    "    lorentzian_noisy,\n",
    "    x=xx,\n",
    "    scale=initial_parameters_values['scale'], \n",
    "    center=initial_parameters_values['center'],\n",
    "    hwhm=initial_parameters_values['hwhm'],\n",
    "    A0=initial_parameters_values['A0']\n",
    ")"
   ]
  },
  {
   "cell_type": "code",
   "execution_count": null,
   "metadata": {
    "scrolled": true
   },
   "outputs": [],
   "source": [
    "# Plot initial model and reference data\n",
    "fig0 = plt.figure()\n",
    "plt.plot(xx, lorentzian_noisy, 'b-', label='reference data')\n",
    "plt.plot(xx, result.init_fit, 'k--', label='model with initial guesses')\n",
    "plt.xlabel('x')\n",
    "plt.title('Initial model and reference data')\n",
    "plt.grid()\n",
    "plt.legend();"
   ]
  },
  {
   "cell_type": "markdown",
   "metadata": {},
   "source": [
    "## Plot results\n",
    "\n",
    "using methods implemented in `lmfit`"
   ]
  },
  {
   "cell_type": "code",
   "execution_count": null,
   "metadata": {},
   "outputs": [],
   "source": [
    "# display result\n",
    "print('Result of fit:\\n', result.fit_report())\n",
    "\n",
    "# plot fitting result using lmfit functionality\n",
    "result.plot()"
   ]
  },
  {
   "cell_type": "markdown",
   "metadata": {},
   "source": [
    "Other option: plot fitting result and reference data using matplotlib.pyplot"
   ]
  },
  {
   "cell_type": "code",
   "execution_count": null,
   "metadata": {
    "scrolled": true
   },
   "outputs": [],
   "source": [
    "fig1 = plt.figure()\n",
    "plt.plot(xx, lorentzian_noisy, 'b-', label='reference data')\n",
    "plt.plot(xx, result.best_fit, 'r.', label='fitting result')\n",
    "plt.legend()\n",
    "plt.xlabel('x')\n",
    "plt.title('Fit result and reference data')\n",
    "plt.grid();"
   ]
  },
  {
   "cell_type": "markdown",
   "metadata": {},
   "source": [
    "Print values and errors of refined parameters:"
   ]
  },
  {
   "cell_type": "code",
   "execution_count": null,
   "metadata": {},
   "outputs": [],
   "source": [
    "for item in ['hwhm', 'center', 'scale']:\n",
    "    print(f\"{item}: {result.params[item].value} +/- {result.params[item].stderr} {dict_physical_units[item]}\")"
   ]
  },
  {
   "cell_type": "code",
   "execution_count": null,
   "metadata": {},
   "outputs": [],
   "source": []
  }
 ],
 "metadata": {
  "hide_input": false,
  "kernelspec": {
   "display_name": "Python 3 (ipykernel)",
   "language": "python",
   "name": "python3"
  },
  "language_info": {
   "codemirror_mode": {
    "name": "ipython",
    "version": 3
   },
   "file_extension": ".py",
   "mimetype": "text/x-python",
   "name": "python",
   "nbconvert_exporter": "python",
   "pygments_lexer": "ipython3",
   "version": "3.8.9"
  },
  "toc": {
   "base_numbering": 1,
   "nav_menu": {},
   "number_sections": true,
   "sideBar": true,
   "skip_h1_title": true,
   "title_cell": "Table of Contents",
   "title_sidebar": "Contents",
   "toc_cell": false,
   "toc_position": {
    "height": "calc(100% - 180px)",
    "left": "10px",
    "top": "150px",
    "width": "165.4px"
   },
   "toc_section_display": true,
   "toc_window_display": false
  },
  "varInspector": {
   "cols": {
    "lenName": 16,
    "lenType": 16,
    "lenVar": 40
   },
   "kernels_config": {
    "python": {
     "delete_cmd_postfix": "",
     "delete_cmd_prefix": "del ",
     "library": "var_list.py",
     "varRefreshCmd": "print(var_dic_list())"
    },
    "r": {
     "delete_cmd_postfix": ") ",
     "delete_cmd_prefix": "rm(",
     "library": "var_list.r",
     "varRefreshCmd": "cat(var_dic_list()) "
    }
   },
   "types_to_exclude": [
    "module",
    "function",
    "builtin_function_or_method",
    "instance",
    "_Feature"
   ],
   "window_display": false
  }
 },
 "nbformat": 4,
 "nbformat_minor": 4
}
