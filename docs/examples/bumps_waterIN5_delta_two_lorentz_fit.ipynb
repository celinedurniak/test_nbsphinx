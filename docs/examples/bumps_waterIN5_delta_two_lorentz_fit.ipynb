{
 "cells": [
  {
   "cell_type": "markdown",
   "metadata": {
    "tags": [
     "remove_cell"
    ]
   },
   "source": [
    "<div class=\"alert alert-warning\">\n",
    "    \n",
    "<b>Disclaimer:</b> \n",
    "    \n",
    "The main objective of the <i>Jupyter</i> notebooks is to show how to use the models of the <i>QENS library</i> by\n",
    "    \n",
    "- building a fitting model: composition of models, convolution with a resolution function  \n",
    "- setting and running the fit  \n",
    "- extracting and displaying information about the results  \n",
    "\n",
    "These steps have a minimizer-dependent syntax. That's one of the reasons why different minimizers have been used in the notebooks provided as examples.  \n",
    "But, the initial guessed parameters might not be optimal, resulting in a poor fit of the reference data.\n",
    "\n",
    "</div>\n",
    "\n",
    "\n",
    "# Delta and two Lorentzian &lowast;  Resolution with bumps (2 wavelengths)\n",
    "\n",
    "## Table of Contents\n",
    "\n",
    "- [Introduction](#Introduction)\n",
    "- [Import and install required libraries](#Import-and-install-required-libraries) \n",
    "- [Setting of fitting](#Setting-of-fitting)\n",
    "- [Running the fit](#Running-the-fit)  \n",
    "- [Showing the results](#Showing-the-results) "
   ]
  },
  {
   "cell_type": "markdown",
   "metadata": {
    "tags": [
     "remove_cell"
    ]
   },
   "source": [
    "[Top](#Table-of-Contents)\n",
    "\n",
    "## Introduction\n",
    "\n",
    "<div class=\"alert alert-info\">\n",
    "    \n",
    "The objective of this notebook is to show how to use the <b>delta_two_lorentz</b> model .\n",
    "</div>\n",
    "\n",
    "The data are two sets of water data measured at IN5 (ILL) using two different wavelengths.\n",
    "\n",
    "**Reference:** J. Qvist, H. Schober and B. Halle, *J. Chem. Phys.* **134**, 144508 (2011)\n",
    "\n",
    "### Physical units\n",
    "For information about unit conversion, please refer to the jupyter notebook called `Convert_units.ipynb` in the `tools` folder."
   ]
  },
  {
   "cell_type": "markdown",
   "metadata": {
    "tags": [
     "remove_cell"
    ]
   },
   "source": [
    "[Top](#Table-of-Contents)\n",
    "\n",
    "## Import and install required libraries"
   ]
  },
  {
   "cell_type": "code",
   "execution_count": null,
   "metadata": {
    "tags": [
     "import_cell"
    ]
   },
   "outputs": [],
   "source": [
    "from __future__ import print_function"
   ]
  },
  {
   "cell_type": "code",
   "execution_count": null,
   "metadata": {
    "tags": [
     "remove_cell"
    ]
   },
   "outputs": [],
   "source": [
    "import ipywidgets\n",
    "\n",
    "# the following two lines are to remove the warning about too many figures open simultaneously\n",
    "from matplotlib import rcParams\n",
    "rcParams.update({'figure.max_open_warning': 0})"
   ]
  },
  {
   "cell_type": "code",
   "execution_count": null,
   "metadata": {
    "tags": [
     "remove_cell"
    ]
   },
   "outputs": [],
   "source": [
    "# install bumps (if not already installed)\n",
    "import sys\n",
    "import os\n",
    "import pkgutil\n",
    "\n",
    "if not pkgutil.find_loader(\"bumps\"):   \n",
    "    bumpsY = ipywidgets.Button(description='Yes', button_style='success')\n",
    "    bumpsN = ipywidgets.Button(description='No', button_style='danger')\n",
    "    choice_installation = ipywidgets.VBox(\n",
    "    [ipywidgets.Label(\"Do you want to install bumps?\"), ipywidgets.HBox([bumpsY, bumpsN])],\n",
    "    layout=ipywidgets.Layout(width='30%', height='80px'))\n",
    "\n",
    "    display(choice_installation)\n",
    "    \n",
    "    def on_bumpsY_clicked(b):\n",
    "        !{sys.executable} -m pip install bumps==0.7.12\n",
    "    def on_bumpsN_clicked(b):\n",
    "        print(\"You will not be able to run some of the remaining parts of this notebook\")\n",
    "        \n",
    "    bumpsY.on_click(on_bumpsY_clicked)\n",
    "    bumpsN.on_click(on_bumpsN_clicked) "
   ]
  },
  {
   "cell_type": "code",
   "execution_count": null,
   "metadata": {
    "tags": [
     "remove_cell"
    ]
   },
   "outputs": [],
   "source": [
    "# check version of bumps installed\n",
    "# Information message if installed version not recent enough\n",
    "import bumps\n",
    "\n",
    "from distutils.version import StrictVersion\n",
    "if StrictVersion(bumps.__version__) <= StrictVersion('0.7.6'):\n",
    "    print(\"\"\"The version of bumps installed is not recent \n",
    "    enough to run the examples. \n",
    "    Please update bumps. The minimum version required is 0.7.8\"\"\")"
   ]
  },
  {
   "cell_type": "markdown",
   "metadata": {
    "tags": [
     "remove_cell"
    ]
   },
   "source": [
    "[Top](#Table-of-Contents)\n",
    "\n",
    "## Setting of fitting\n",
    "\n",
    "### install QENSmodels (if not already installed) "
   ]
  },
  {
   "cell_type": "code",
   "execution_count": null,
   "metadata": {
    "tags": [
     "remove_cell"
    ]
   },
   "outputs": [],
   "source": [
    "if not pkgutil.find_loader(\"QENSmodels\"):\n",
    "    buttonY = ipywidgets.Button(description='Yes', button_style='success')\n",
    "    buttonN = ipywidgets.Button(description='No', button_style='danger')\n",
    "    choice_installation = ipywidgets.VBox(\n",
    "    [ipywidgets.Label(\"Do you want to install the QENSmodels' library?\"), ipywidgets.HBox([buttonY, buttonN])],\n",
    "    layout=ipywidgets.Layout(width='50%', height='80px'))\n",
    "    \n",
    "    display(choice_installation)\n",
    "    \n",
    "    def on_buttonY_clicked(b):\n",
    "        !{sys.executable} -m pip install git+https://github.com/QENSlibrary/QENSmodels#egg=QENSmodels\n",
    "\n",
    "    def on_buttonN_clicked(b):\n",
    "        print(\"You will not be able to run some of the remaining parts of this notebook\")\n",
    "     \n",
    "    buttonY.on_click(on_buttonY_clicked)\n",
    "    buttonN.on_click(on_buttonN_clicked) "
   ]
  },
  {
   "cell_type": "markdown",
   "metadata": {
    "tags": [
     "remove_cell"
    ]
   },
   "source": [
    "### import reference data"
   ]
  },
  {
   "cell_type": "code",
   "execution_count": null,
   "metadata": {},
   "outputs": [],
   "source": [
    "import h5py\n",
    "import QENSmodels\n",
    "import numpy as np\n",
    "from scipy.integrate import simps\n",
    "import bumps.names as bmp\n",
    "from bumps.fitters import fit\n",
    "from bumps.formatnum import format_uncertainty\n",
    "\n",
    "path_to_data = './data/'\n",
    "\n",
    "# Data\n",
    "# Wavelength 5 Angstrom\n",
    "with h5py.File(path_to_data + 'H2O_293K_5A.hdf', 'r') as f:\n",
    "    hw_5A = f['entry1']['data1']['X'][:]\n",
    "    q_5A = f['entry1']['data1']['Y'][:]\n",
    "    unit_w5A = f['entry1']['data1']['X'].attrs['long_name']\n",
    "    unit_q5A = f['entry1']['data1']['Y'].attrs['long_name']\n",
    "    sqw_5A = np.transpose(f['entry1']['data1']['DATA'][:])\n",
    "    err_5A = np.transpose(f['entry1']['data1']['errors'][:])\n",
    "\n",
    "# Wavelength 8 Angstrom\n",
    "with h5py.File(path_to_data + 'H2O_293K_8A.hdf', 'r') as f:\n",
    "    hw_8A = f['entry1']['data1']['X'][:]\n",
    "    q_8A = f['entry1']['data1']['Y'][:]\n",
    "    unit_w8A = f['entry1']['data1']['X'].attrs['long_name']\n",
    "    unit_q8A = f['entry1']['data1']['Y'].attrs['long_name']\n",
    "    sqw_8A = np.transpose(f['entry1']['data1']['DATA'][:])\n",
    "    err_8A = np.transpose(f['entry1']['data1']['errors'][:])\n",
    "\n",
    "# Resolution\n",
    "# Wavelength 5 Angstrom\n",
    "with h5py.File(path_to_data + 'V_273K_5A.hdf', 'r') as f:\n",
    "    res_5A = np.transpose(f['entry1']['data1']['DATA'][:])\n",
    "\n",
    "# Wavelength 8 Angstrom\n",
    "with h5py.File(path_to_data + 'V_273K_8A.hdf', 'r') as f:\n",
    "    res_8A = np.transpose(f['entry1']['data1']['DATA'][:])\n",
    "\n",
    "# Force resolution function to have unit area\n",
    "# 5 Angstrom\n",
    "for i in range(len(q_5A)):\n",
    "    area = simps(res_5A[:, i], hw_5A)\n",
    "    res_5A[:, i] /= area\n",
    "\n",
    "# 8 Angstrom\n",
    "for i in range(len(q_8A)):\n",
    "    area = simps(res_8A[:, i], hw_8A)\n",
    "    res_8A[:, i] /= area\n",
    "\n",
    "# Fit range -1 to +1 meV\n",
    "idx_5A = np.where(np.logical_and(hw_5A > -1.0, hw_5A < 1.0))\n",
    "idx_8A = np.where(np.logical_and(hw_8A > -1.0, hw_8A < 1.0))\n",
    "\n",
    "\n",
    "def model_convol(x, q, scale=1, center=0, A0=1.0, A1=1.0, hwhm1=1.0, hwhm2=1.0, resolution=None):\n",
    "    model = QENSmodels.sqwDeltaTwoLorentz(x, q, scale, center, A0, A1, hwhm1, hwhm2)\n",
    "    return np.convolve(resolution / resolution.sum(), model, mode='same')"
   ]
  },
  {
   "cell_type": "markdown",
   "metadata": {
    "tags": [
     "remove_cell"
    ]
   },
   "source": [
    "### display units of input data\n",
    "\n",
    "Just for information in order to determine if a convertion of units is required before using the QENSmodels"
   ]
  },
  {
   "cell_type": "code",
   "execution_count": null,
   "metadata": {},
   "outputs": [],
   "source": [
    "print(f\"\"\"At 5 Angstroms, the names and units of `w` ( `x`axis) and `q` are: \n",
    "{str(unit_w5A[0], 'utf-8')} and {str(unit_q5A[0], 'utf-8')}, respectively.\"\"\")\n",
    "\n",
    "print(f\"\"\"At 8 Angstroms, the names and units of `w` ( `x`axis) and `q` are: \n",
    "{str(unit_w8A[0], 'utf-8')} and {str(unit_q8A[0], 'utf-8')}, respectively.\"\"\")"
   ]
  },
  {
   "cell_type": "markdown",
   "metadata": {
    "tags": [
     "remove_cell"
    ]
   },
   "source": [
    "### create fitting model"
   ]
  },
  {
   "cell_type": "code",
   "execution_count": null,
   "metadata": {},
   "outputs": [],
   "source": [
    "# Fit\n",
    "M = []\n",
    "\n",
    "# First dataset: wavelength=5 Angstrom\n",
    "for i in range(len(q_5A)):\n",
    "\n",
    "    x = hw_5A[idx_5A]\n",
    "    data = sqw_5A[idx_5A, i]\n",
    "    error = err_5A[idx_5A, i]\n",
    "    resol = res_5A[idx_5A, i]\n",
    "\n",
    "    # Select only valid data (error = -1 for Q, w points not accessible)\n",
    "    valid = np.where(error > 0.0)\n",
    "\n",
    "    x = x[valid[1]]\n",
    "    if len(valid[1]) != len(x):\n",
    "        print(i, \"truncate to make vectors symmetric with respect to max\")\n",
    "\n",
    "    data = data[valid]\n",
    "    error = error[valid]\n",
    "    resol = resol[valid]\n",
    "\n",
    "    # Teixeira model\n",
    "    Mq = bmp.Curve(model_convol,\n",
    "                   x,\n",
    "                   data,\n",
    "                   error,\n",
    "                   q=q_5A[i],\n",
    "                   scale=20,\n",
    "                   center=0.0,\n",
    "                   A0=0.0,\n",
    "                   A1=0.9,\n",
    "                   hwhm1=0.05,\n",
    "                   hwhm2=0.3,\n",
    "                   resolution=resol)\n",
    "\n",
    "    # Fitted parameters\n",
    "    Mq.scale.range(1.e-12, 20)\n",
    "    Mq.center.range(-0.1, 0.1)\n",
    "    Mq.A0.range(0, 0.05)\n",
    "    Mq.A1.range(0, 1)\n",
    "    Mq.hwhm1.range(0, 0.5)\n",
    "    Mq.hwhm2.range(0, 3)\n",
    "\n",
    "    # Q-independent parameters\n",
    "    if i == 0:\n",
    "        QA0 = Mq.A0\n",
    "    else:\n",
    "        Mq.A0 = QA0\n",
    "\n",
    "    M.append(Mq)\n",
    "\n",
    "# Second dataset: wavelength=8 Angstrom\n",
    "for i in range(len(q_8A)):\n",
    "    x = hw_8A[idx_8A]\n",
    "    data = sqw_8A[idx_8A, i]\n",
    "    error = err_8A[idx_8A, i]\n",
    "    resol = res_8A[idx_8A, i]\n",
    "\n",
    "    # Select only valid data (error = -1 for Q, w points not accessible)\n",
    "    valid = np.where(error > 0.0)\n",
    "    if len(valid[1]) != len(x):\n",
    "        print(i, \"truncate to make vectors symmetric with respect to max\")\n",
    "\n",
    "    x = x[valid[1]]\n",
    "    data = data[valid]\n",
    "    error = error[valid]\n",
    "    resol = resol[valid]\n",
    "\n",
    "    Mq = bmp.Curve(model_convol,\n",
    "                   x,\n",
    "                   data,\n",
    "                   error,\n",
    "                   q=q_8A[i],\n",
    "                   scale=35,\n",
    "                   center=0.0,\n",
    "                   A0=0.0,\n",
    "                   A1=0.9,\n",
    "                   hwhm1=0.05,\n",
    "                   hwhm2=0.3, \n",
    "                   resolution=resol)\n",
    "\n",
    "    # Fitted parameters\n",
    "    Mq.scale.range(0.1, 40)\n",
    "    Mq.center.range(-0.1, 0.1)\n",
    "    Mq.A0.range(0, 0.05)\n",
    "    Mq.A1.range(0, 1)\n",
    "    Mq.hwhm1.range(0, 0.5)\n",
    "    Mq.hwhm2.range(0, 3)\n",
    "    \n",
    "    # Q-independent parameters\n",
    "    if i == 0:\n",
    "        QA0 = Mq.A0\n",
    "    else:\n",
    "        Mq.A0 = QA0\n",
    "\n",
    "    M.append(Mq)\n",
    "\n",
    "problem = bmp.FitProblem(M)"
   ]
  },
  {
   "cell_type": "markdown",
   "metadata": {
    "tags": [
     "remove_cell"
    ]
   },
   "source": [
    "#### Choice of minimizer"
   ]
  },
  {
   "cell_type": "code",
   "execution_count": null,
   "metadata": {
    "tags": [
     "remove_cell"
    ]
   },
   "outputs": [],
   "source": [
    "options_dict={'Levenberg-Marquardt': \"lm\", \n",
    "             'Nelder-Mead Simplex': \"amoeba\", \n",
    "             'DREAM': \"dream\", \n",
    "             'Differential Evolution': \"de\", \n",
    "             'Quasi-Newton BFGS': \"newton\", \n",
    "             'Random Lines (experimental)': \"rl\", \n",
    "             'Particle Swarm (experimental)': \"ps\", \n",
    "             'Parallel Tempering (experimental)': \"pt\"}\n",
    "\n",
    "w_choice_minimizer = ipywidgets.Dropdown(\n",
    "    options=list(options_dict.keys()),\n",
    "    value='Levenberg-Marquardt',\n",
    "    description='Minimizer:',\n",
    "    layout=ipywidgets.Layout(height='40px')\n",
    ")\n",
    "w_choice_minimizer"
   ]
  },
  {
   "cell_type": "markdown",
   "metadata": {
    "tags": [
     "remove_cell"
    ]
   },
   "source": [
    "### Setting for running bumps"
   ]
  },
  {
   "cell_type": "code",
   "execution_count": null,
   "metadata": {
    "tags": [
     "remove_cell"
    ]
   },
   "outputs": [],
   "source": [
    "steps_fitting = ipywidgets.IntText(\n",
    "    value=500,\n",
    "    description='Number of steps when fitting',\n",
    "    style={'description_width': 'initial'})\n",
    "\n",
    "steps_fitting"
   ]
  },
  {
   "cell_type": "code",
   "execution_count": null,
   "metadata": {},
   "outputs": [],
   "source": [
    "# Preview of the settings\n",
    "print('Initial chisq', problem.chisq_str())"
   ]
  },
  {
   "cell_type": "code",
   "execution_count": null,
   "metadata": {},
   "outputs": [],
   "source": [
    "problem.plot()"
   ]
  },
  {
   "cell_type": "markdown",
   "metadata": {
    "tags": [
     "remove_cell"
    ]
   },
   "source": [
    "[Top](#Table-of-Contents)\n",
    "\n",
    "## Running the fit\n",
    "\n",
    "Run the fit using the *minimizer* defined above with a number of *steps* also specified above"
   ]
  },
  {
   "cell_type": "code",
   "execution_count": null,
   "metadata": {
    "tags": [
     "ipywidgets_data_cell"
    ]
   },
   "outputs": [],
   "source": [
    "result = fit(problem,\n",
    "             method=options_dict[w_choice_minimizer.value],\n",
    "             steps=int(steps_fitting.value),\n",
    "             verbose=True)"
   ]
  },
  {
   "cell_type": "markdown",
   "metadata": {
    "tags": [
     "remove_cell"
    ]
   },
   "source": [
    "[Top]('#Table-of-Contents)\n",
    "\n",
    "## Showing the results"
   ]
  },
  {
   "cell_type": "code",
   "execution_count": null,
   "metadata": {},
   "outputs": [],
   "source": [
    "problem.plot()"
   ]
  },
  {
   "cell_type": "code",
   "execution_count": null,
   "metadata": {},
   "outputs": [],
   "source": [
    "# Print chi**2 and parameters' values after fit\n",
    "print(\"final chisq\", problem.chisq_str())\n",
    "for k, v, dv in zip(problem.labels(), result.x, result.dx):\n",
    "    print(k, \":\", format_uncertainty(v, dv))"
   ]
  },
  {
   "cell_type": "code",
   "execution_count": null,
   "metadata": {},
   "outputs": [],
   "source": []
  }
 ],
 "metadata": {
  "celltoolbar": "Tags",
  "kernelspec": {
   "display_name": "Python 3",
   "language": "python",
   "name": "python3"
  },
  "language_info": {
   "codemirror_mode": {
    "name": "ipython",
    "version": 3
   },
   "file_extension": ".py",
   "mimetype": "text/x-python",
   "name": "python",
   "nbconvert_exporter": "python",
   "pygments_lexer": "ipython3",
   "version": "3.7.3"
  },
  "toc": {
   "base_numbering": 1,
   "nav_menu": {},
   "number_sections": true,
   "sideBar": true,
   "skip_h1_title": true,
   "title_cell": "Table of Contents",
   "title_sidebar": "Contents",
   "toc_cell": false,
   "toc_position": {},
   "toc_section_display": true,
   "toc_window_display": false
  },
  "varInspector": {
   "cols": {
    "lenName": 16,
    "lenType": 16,
    "lenVar": 40
   },
   "kernels_config": {
    "python": {
     "delete_cmd_postfix": "",
     "delete_cmd_prefix": "del ",
     "library": "var_list.py",
     "varRefreshCmd": "print(var_dic_list())"
    },
    "r": {
     "delete_cmd_postfix": ") ",
     "delete_cmd_prefix": "rm(",
     "library": "var_list.r",
     "varRefreshCmd": "cat(var_dic_list()) "
    }
   },
   "types_to_exclude": [
    "module",
    "function",
    "builtin_function_or_method",
    "instance",
    "_Feature"
   ],
   "window_display": false
  }
 },
 "nbformat": 4,
 "nbformat_minor": 2
}
