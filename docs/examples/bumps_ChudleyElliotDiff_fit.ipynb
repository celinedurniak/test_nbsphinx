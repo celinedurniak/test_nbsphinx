{
 "cells": [
  {
   "cell_type": "markdown",
   "metadata": {
    "tags": [
     "remove_cell"
    ]
   },
   "source": [
    "<div class=\"alert alert-warning\">\n",
    "    \n",
    "<b>Disclaimer:</b> \n",
    "    \n",
    "The main objective of the <i>Jupyter</i> notebooks is to show how to use the models of the <i>QENS library</i> by\n",
    "\n",
    "    \n",
    "- building a fitting model: composition of models, convolution with a resolution function  \n",
    "- setting and running the fit  \n",
    "- extracting and displaying information about the results  \n",
    "\n",
    "\n",
    "These steps have a minimizer-dependent syntax. That's one of the reasons why different minimizers have been used in the notebooks provided as examples.  \n",
    "But, the initial guessed parameters might not be optimal, resulting in a poor fit of the reference data.\n",
    "\n",
    "</div>\n",
    "\n",
    "# Chudley-Elliot diffusion with bumps\n",
    "\n",
    "## Table of Contents\n",
    "\n",
    "- [Introduction](#introduction)\n",
    "- [Import and install required libraries](#Import-and-install-required-libraries) \n",
    "- [Setting of fitting](#Setting-of-fitting)  \n",
    "- [Running the fit](#Running-the-fit)\n",
    "- [Showing the results](#Showing-the-results)"
   ]
  },
  {
   "cell_type": "markdown",
   "metadata": {
    "tags": [
     "remove_cell"
    ]
   },
   "source": [
    "[Top](#Table-of-Contents)\n",
    "\n",
    "## Introduction\n",
    "\n",
    "<div class=\"alert alert-info\">\n",
    "    \n",
    "The objective of this notebook is to show how to use the <b>Chudley Elliot diffusion</b> model to perform some \n",
    "fits using <a href=\"https://github.com/bumps/bumps\">bumps</a> .\n",
    "</div>"
   ]
  },
  {
   "cell_type": "markdown",
   "metadata": {
    "tags": [
     "remove_cell"
    ]
   },
   "source": [
    "[Top](#Table-of-Contents) \n",
    "\n",
    "## Import and install required libraries "
   ]
  },
  {
   "cell_type": "code",
   "execution_count": null,
   "metadata": {
    "tags": [
     "import_cell"
    ]
   },
   "outputs": [],
   "source": [
    "# Imported required libraries\n",
    "from __future__ import print_function\n",
    "import numpy as np"
   ]
  },
  {
   "cell_type": "code",
   "execution_count": null,
   "metadata": {
    "tags": [
     "remove_cell"
    ]
   },
   "outputs": [],
   "source": [
    "import ipywidgets"
   ]
  },
  {
   "cell_type": "code",
   "execution_count": null,
   "metadata": {
    "tags": [
     "remove_cell"
    ]
   },
   "outputs": [],
   "source": [
    "# install bumps (if not already installed)\n",
    "import sys\n",
    "import os\n",
    "import pkgutil\n",
    "if not pkgutil.find_loader(\"bumps\"):   \n",
    "    bumpsY = ipywidgets.Button(description='Yes', button_style='success')\n",
    "    bumpsN = ipywidgets.Button(description='No', button_style='danger')\n",
    "    choice_installation = ipywidgets.VBox(\n",
    "    [ipywidgets.Label(\"Do you want to install bumps?\"), ipywidgets.HBox([bumpsY, bumpsN])],\n",
    "    layout=ipywidgets.Layout(width='30%', height='80px'))\n",
    "\n",
    "    display(choice_installation)\n",
    "    \n",
    "    def on_bumpsY_clicked(b):\n",
    "        !{sys.executable} -m pip install bumps==0.7.12\n",
    "    def on_bumpsN_clicked(b):\n",
    "        print(\"You will not be able to run some of the remaining parts of this notebook\")\n",
    "        \n",
    "    bumpsY.on_click(on_bumpsY_clicked)\n",
    "    bumpsN.on_click(on_bumpsN_clicked)"
   ]
  },
  {
   "cell_type": "code",
   "execution_count": null,
   "metadata": {
    "tags": [
     "remove_cell"
    ]
   },
   "outputs": [],
   "source": [
    "import bumps\n",
    "\n",
    "# check version of bumps installed\n",
    "# Information message if installed version not recent enough\n",
    "from distutils.version import StrictVersion\n",
    "if StrictVersion(bumps.__version__) <= StrictVersion('0.7.6'):\n",
    "    print(\"\"\"The version of bumps installed is not recent \n",
    "    enough to run the examples. \n",
    "    Please update bumps. The minimum version required is 0.7.8\"\"\")"
   ]
  },
  {
   "cell_type": "code",
   "execution_count": null,
   "metadata": {},
   "outputs": [],
   "source": [
    "import bumps.names as bmp\n",
    "from bumps.fitters import fit"
   ]
  },
  {
   "cell_type": "markdown",
   "metadata": {
    "tags": [
     "remove_cell"
    ]
   },
   "source": [
    "[Top](#Table-of-Contents)\n",
    "\n",
    "## Setting of fitting\n",
    "\n",
    "### install QENSmodels (if not already installed)"
   ]
  },
  {
   "cell_type": "code",
   "execution_count": null,
   "metadata": {
    "tags": [
     "remove_cell"
    ]
   },
   "outputs": [],
   "source": [
    "if not pkgutil.find_loader(\"QENSmodels\"):\n",
    "    buttonY = ipywidgets.Button(description='Yes', button_style='success')\n",
    "    buttonN = ipywidgets.Button(description='No', button_style='danger')\n",
    "    choice_installation = ipywidgets.VBox(\n",
    "    [ipywidgets.Label(\"Do you want to install the QENSmodels' library?\"), ipywidgets.HBox([buttonY, buttonN])],\n",
    "    layout=ipywidgets.Layout(width='50%', height='80px'))\n",
    "    display(choice_installation)\n",
    "    \n",
    "    def on_buttonY_clicked(b):\n",
    "        !{sys.executable} -m pip install git+https://github.com/QENSlibrary/QENSmodels#egg=QENSmodels\n",
    "\n",
    "    def on_buttonN_clicked(b):\n",
    "        print(\"You will not be able to run some of the remaining parts of this notebook\")\n",
    "     \n",
    "    buttonY.on_click(on_buttonY_clicked)\n",
    "    buttonN.on_click(on_buttonN_clicked) "
   ]
  },
  {
   "cell_type": "code",
   "execution_count": null,
   "metadata": {},
   "outputs": [],
   "source": [
    "import QENSmodels"
   ]
  },
  {
   "cell_type": "markdown",
   "metadata": {
    "tags": [
     "remove_cell"
    ]
   },
   "source": [
    "###  create reference data"
   ]
  },
  {
   "cell_type": "code",
   "execution_count": null,
   "metadata": {},
   "outputs": [],
   "source": [
    "nb_points = 500\n",
    "xx = np.linspace(-4, 4, nb_points)\n",
    "q = np.linspace(0.2, 2, 10)\n",
    "added_noise = 0.1 * np.random.normal(0, 1, nb_points)\n",
    "chudley_elliot_noisy = QENSmodels.sqwChudleyElliotDiffusion(xx,\n",
    "                                                            q,\n",
    "                                                            scale=1.,\n",
    "                                                            center=0.,\n",
    "                                                            D=0.23,\n",
    "                                                            L=1.) * (1. + added_noise) \n",
    "chudley_elliot_noisy += 0.1 * added_noise"
   ]
  },
  {
   "cell_type": "markdown",
   "metadata": {
    "tags": [
     "remove_cell"
    ]
   },
   "source": [
    "### Physical units\n",
    "For information about unit conversion, please refer to the jupyter notebook called `Convert_units.ipynb` in the `tools` folder.\n",
    "\n",
    "The dictionary of units defined in the cell below specify the units of the refined parameters adapted to the convention used in the experimental datafile."
   ]
  },
  {
   "cell_type": "code",
   "execution_count": null,
   "metadata": {},
   "outputs": [],
   "source": [
    "# Units of parameters for selected QENS model and experimental data\n",
    "dict_physical_units = {'omega': \"1/ps\",\n",
    "                       'q': \"1/Angstrom\",\n",
    "                       'D': \"ps.Angstrom^2\",\n",
    "                       'L': \"Angstrom\",\n",
    "                       'scale': \"unit_of_signal/ps\",\n",
    "                       'center': \"1/ps\"}"
   ]
  },
  {
   "cell_type": "markdown",
   "metadata": {
    "tags": [
     "remove_cell"
    ]
   },
   "source": [
    "### create fitting model"
   ]
  },
  {
   "cell_type": "code",
   "execution_count": null,
   "metadata": {},
   "outputs": [],
   "source": [
    "M = []\n",
    "for i in range(len(q)):\n",
    "    # Bumps fitting model\n",
    "    Mq = bmp.Curve(QENSmodels.sqwChudleyElliotDiffusion,\n",
    "                   xx,\n",
    "                   chudley_elliot_noisy[i],\n",
    "                   q[i],\n",
    "                   scale=1,\n",
    "                   center=0,\n",
    "                   D=0.2,\n",
    "                   L=0.7)\n",
    "\n",
    "    Mq.scale.range(0.1, 1e5)\n",
    "    Mq.center.range(-0.1, 0.1)\n",
    "    Mq.D.range(0.1, 1)\n",
    "    Mq.L.range(0.1, 3)\n",
    "\n",
    "    # Q-independent parameters\n",
    "    if i == 0:\n",
    "        QD = Mq.D\n",
    "        QL = Mq.L\n",
    "    else:\n",
    "        Mq.D = QD\n",
    "        Mq.L = QL\n",
    "\n",
    "    M.append(Mq)\n",
    "\n",
    "problem = bmp.FitProblem(M)"
   ]
  },
  {
   "cell_type": "markdown",
   "metadata": {
    "tags": [
     "remove_cell"
    ]
   },
   "source": [
    "### Choice of minimizer for bumps"
   ]
  },
  {
   "cell_type": "code",
   "execution_count": null,
   "metadata": {
    "tags": [
     "remove_cell"
    ]
   },
   "outputs": [],
   "source": [
    "options_dict={'Levenberg-Marquardt': \"lm\", \n",
    "             'Nelder-Mead Simplex': \"amoeba\", \n",
    "             'DREAM': \"dream\", \n",
    "             'Differential Evolution': \"de\", \n",
    "             'Quasi-Newton BFGS': \"newton\", \n",
    "             'Random Lines (experimental)': \"rl\", \n",
    "             'Particle Swarm (experimental)': \"ps\", \n",
    "             'Parallel Tempering (experimental)': \"pt\"}\n",
    "\n",
    "w_choice_minimizer = ipywidgets.Dropdown(\n",
    "    options=list(options_dict.keys()),\n",
    "    value='Levenberg-Marquardt',\n",
    "    description='Minimizer:',\n",
    "    layout=ipywidgets.Layout(height='40px')\n",
    ")\n",
    "w_choice_minimizer"
   ]
  },
  {
   "cell_type": "markdown",
   "metadata": {
    "tags": [
     "remove_cell"
    ]
   },
   "source": [
    "### Setting for running bumps"
   ]
  },
  {
   "cell_type": "code",
   "execution_count": null,
   "metadata": {
    "tags": [
     "remove_cell"
    ]
   },
   "outputs": [],
   "source": [
    " steps_fitting = ipywidgets.IntText(\n",
    "    value=100,\n",
    "    description='Number of steps when fitting',\n",
    "    style={'description_width': 'initial'})\n",
    "\n",
    "steps_fitting"
   ]
  },
  {
   "cell_type": "code",
   "execution_count": null,
   "metadata": {},
   "outputs": [],
   "source": [
    "# Preview of the settings\n",
    "print('Initial chisq', problem.chisq_str())"
   ]
  },
  {
   "cell_type": "code",
   "execution_count": null,
   "metadata": {},
   "outputs": [],
   "source": [
    "problem.plot()"
   ]
  },
  {
   "cell_type": "markdown",
   "metadata": {
    "tags": [
     "remove_cell"
    ]
   },
   "source": [
    "[Top](#Table-of-Contents)\n",
    "\n",
    "## Running the fit\n",
    "\n",
    "Run the fit using the *minimizer* defined above with a number of *steps* also specified above"
   ]
  },
  {
   "cell_type": "code",
   "execution_count": null,
   "metadata": {
    "tags": [
     "ipywidgets_data_cell"
    ]
   },
   "outputs": [],
   "source": [
    "result = fit(problem,\n",
    "             method=options_dict[w_choice_minimizer.value], \n",
    "             steps=int(steps_fitting.value), \n",
    "             verbose=True)"
   ]
  },
  {
   "cell_type": "markdown",
   "metadata": {
    "tags": [
     "remove_cell"
    ]
   },
   "source": [
    "[Top](#Table-of-Contents)\n",
    "\n",
    "## Showing the results"
   ]
  },
  {
   "cell_type": "code",
   "execution_count": null,
   "metadata": {
    "scrolled": true
   },
   "outputs": [],
   "source": [
    "problem.plot()"
   ]
  },
  {
   "cell_type": "code",
   "execution_count": null,
   "metadata": {},
   "outputs": [],
   "source": [
    "# Print chi**2 and parameters' values after fit\n",
    "print(\"final chisq\", problem.chisq_str())\n",
    "\n",
    "for k, v, dv in zip(problem.labels(), result.x, result.dx):\n",
    "    if k in dict_physical_units.keys():\n",
    "        print(k, \":\", v, dv, dict_physical_units[k])\n",
    "    else:\n",
    "        print(k, \":\", v, dv)"
   ]
  },
  {
   "cell_type": "code",
   "execution_count": null,
   "metadata": {},
   "outputs": [],
   "source": []
  }
 ],
 "metadata": {
  "celltoolbar": "Tags",
  "kernelspec": {
   "display_name": "Python 3",
   "language": "python",
   "name": "python3"
  },
  "language_info": {
   "codemirror_mode": {
    "name": "ipython",
    "version": 3
   },
   "file_extension": ".py",
   "mimetype": "text/x-python",
   "name": "python",
   "nbconvert_exporter": "python",
   "pygments_lexer": "ipython3",
   "version": "3.7.3"
  },
  "toc": {
   "base_numbering": 1,
   "nav_menu": {},
   "number_sections": true,
   "sideBar": true,
   "skip_h1_title": true,
   "title_cell": "Table of Contents",
   "title_sidebar": "Contents",
   "toc_cell": false,
   "toc_position": {},
   "toc_section_display": true,
   "toc_window_display": false
  },
  "varInspector": {
   "cols": {
    "lenName": 16,
    "lenType": 16,
    "lenVar": 40
   },
   "kernels_config": {
    "python": {
     "delete_cmd_postfix": "",
     "delete_cmd_prefix": "del ",
     "library": "var_list.py",
     "varRefreshCmd": "print(var_dic_list())"
    },
    "r": {
     "delete_cmd_postfix": ") ",
     "delete_cmd_prefix": "rm(",
     "library": "var_list.r",
     "varRefreshCmd": "cat(var_dic_list()) "
    }
   },
   "types_to_exclude": [
    "module",
    "function",
    "builtin_function_or_method",
    "instance",
    "_Feature"
   ],
   "window_display": false
  }
 },
 "nbformat": 4,
 "nbformat_minor": 2
}
