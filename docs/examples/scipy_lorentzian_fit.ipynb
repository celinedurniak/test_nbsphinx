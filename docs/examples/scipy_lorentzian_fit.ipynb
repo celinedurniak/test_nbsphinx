{
 "cells": [
  {
   "cell_type": "markdown",
   "metadata": {
    "slideshow": {
     "slide_type": "slide"
    }
   },
   "source": [
    "<div class=\"alert alert-warning\">\n",
    "    \n",
    "<b>Disclaimer:</b> \n",
    "    \n",
    "The main objective of the <i>Jupyter</i> notebooks is to show how to use the models of the <i>QENS library</i> by\n",
    "    \n",
    "- building a fitting model: composition of models, convolution with a resolution function  \n",
    "- setting and running the fit  \n",
    "- extracting and displaying information about the results  \n",
    "\n",
    "These steps have a minimizer-dependent syntax. That is one of the reasons why different minimizers have been used in the notebooks provided as examples.  \n",
    "But, the initial guessed parameters might not be optimal, resulting in a poor fit of the reference data.\n",
    "\n",
    "</div>\n",
    "\n",
    "# Lorentzian with lmfit \n",
    "\n",
    "## Introduction\n",
    "\n",
    "<div class=\"alert alert-info\">\n",
    "    \n",
    "The objective of this notebook is to show how to use one of the models of \n",
    "the <a href=\"https://github.com/QENSlibrary/QENSmodels\">QENSlibrary</a>, <b>lorentzian</b>, to perform some fits. \n",
    "\n",
    "<a href=\"https://docs.scipy.org/doc/scipy/reference/generated/scipy.optimize.curve_fit.html\">scipy.optimize.curve_fit</a> is used for fitting.\n",
    "</div>\n",
    "\n",
    "### Physical units\n",
    "\n",
    "For information about unit conversion, please refer to the jupyter notebook called `Convert_units.ipynb` in the `tools` folder.\n",
    "\n",
    "The dictionary of units defined in the cell below specify the units of the refined parameters adapted to the convention used in the experimental datafile."
   ]
  },
  {
   "cell_type": "code",
   "execution_count": 1,
   "metadata": {},
   "outputs": [],
   "source": [
    "# Units of parameters for selected QENS model and experimental data\n",
    "dict_physical_units = {\"omega\": \"1/ps\", \n",
    "                       'scale': \"unit_of_signal.ps\", \n",
    "                       'center': \"1/ps\", \n",
    "                       'hwhm': \"1/ps\"}"
   ]
  },
  {
   "cell_type": "markdown",
   "metadata": {
    "slideshow": {
     "slide_type": "slide"
    }
   },
   "source": [
    "## Importing libraries"
   ]
  },
  {
   "cell_type": "code",
   "execution_count": 2,
   "metadata": {
    "slideshow": {
     "slide_type": "subslide"
    }
   },
   "outputs": [],
   "source": [
    "# import python modules for plotting, fitting\n",
    "from __future__ import print_function\n",
    "import numpy as np\n",
    "\n",
    "import matplotlib.pyplot as plt\n",
    "from scipy.optimize import curve_fit\n",
    "\n",
    "# for interactivity (plots, buttons...)\n",
    "import ipywidgets\n",
    "\n",
    "# import model from QENS library\n",
    "import QENSmodels"
   ]
  },
  {
   "cell_type": "markdown",
   "metadata": {
    "slideshow": {
     "slide_type": "slide"
    }
   },
   "source": [
    "## Plot of the fitting model\n",
    "\n",
    "The widget below shows the lorentzian peak shape function imported from QENSmodels where the function's parameters *Scale*, *Center* and *FWHM* can be varied."
   ]
  },
  {
   "cell_type": "code",
   "execution_count": 3,
   "metadata": {
    "slideshow": {
     "slide_type": "subslide"
    }
   },
   "outputs": [
    {
     "data": {
      "application/vnd.jupyter.widget-view+json": {
       "model_id": "0e0fbbd07d9d40208ed81a1b24df306c",
       "version_major": 2,
       "version_minor": 0
      },
      "text/plain": [
       "HBox(children=(VBox(children=(FloatSlider(value=5.0, continuous_update=False, description='scale', max=10.0, m…"
      ]
     },
     "metadata": {},
     "output_type": "display_data"
    },
    {
     "data": {
      "application/vnd.jupyter.widget-view+json": {
       "model_id": "8a1db8104dd0445ba9d6e688f71b9401",
       "version_major": 2,
       "version_minor": 0
      },
      "text/plain": [
       "Output()"
      ]
     },
     "metadata": {},
     "output_type": "display_data"
    },
    {
     "data": {
      "application/vnd.jupyter.widget-view+json": {
       "model_id": "ccea59ff9b4840faabb12fcadaee5aa8",
       "version_major": 2,
       "version_minor": 0
      },
      "text/plain": [
       "Button(description='Reset', style=ButtonStyle())"
      ]
     },
     "metadata": {},
     "output_type": "display_data"
    }
   ],
   "source": [
    "# Dictionary of initial values\n",
    "ini_parameters = {'scale': 5., 'center': 5., 'hwhm': 3.}\n",
    "\n",
    "def interactive_fct(scale, center, hwhm):\n",
    "    xs = np.linspace(-10, 10, 100)\n",
    "    \n",
    "    fig1, ax1 = plt.subplots()\n",
    "    ax1.plot(xs, QENSmodels.lorentzian(xs, scale, center, hwhm))\n",
    "    ax1.set_xlabel('x')\n",
    "    ax1.grid()\n",
    "\n",
    "# Define sliders for modifiable parameters and their range of variations\n",
    "scale_slider = ipywidgets.FloatSlider(value=ini_parameters['scale'],\n",
    "                                      min=0.1, max=10, step=0.1,\n",
    "                                      description='scale',\n",
    "                                      continuous_update=False) \n",
    "\n",
    "center_slider = ipywidgets.IntSlider(value=ini_parameters['center'],\n",
    "                                     min=-10, max=10, step=1,\n",
    "                                     description='center', \n",
    "                                     continuous_update=False) \n",
    "\n",
    "hwhm_slider = ipywidgets.FloatSlider(value=ini_parameters['hwhm'],\n",
    "                                        min=0.1, max=10, step=0.1,\n",
    "                                        description='hwhm', \n",
    "                                        continuous_update=False)\n",
    "\n",
    "grid_sliders = ipywidgets.HBox([ipywidgets.VBox([scale_slider, center_slider])\n",
    "                                ,ipywidgets.VBox([hwhm_slider])])\n",
    "                             \n",
    "# Define function to reset all parameters' values to the initial ones\n",
    "def reset_values(b):\n",
    "    \"\"\"Reset the interactive plots to inital values.\"\"\"\n",
    "    scale_slider.value = ini_parameters['scale'] \n",
    "    center_slider.value = ini_parameters['center']  \n",
    "    hwhm_slider.value = ini_parameters['hwhm']\n",
    "\n",
    "# Define reset button and occurring action when clicking on it\n",
    "reset_button = ipywidgets.Button(description = \"Reset\")\n",
    "reset_button.on_click(reset_values)\n",
    "\n",
    "# Display the interactive plot\n",
    "interactive_plot = ipywidgets.interactive_output(interactive_fct,       \n",
    "                                         {'scale': scale_slider,\n",
    "                                          'center': center_slider,\n",
    "                                          'hwhm': hwhm_slider})  \n",
    "                                            \n",
    "display(grid_sliders, interactive_plot, reset_button)"
   ]
  },
  {
   "cell_type": "markdown",
   "metadata": {
    "slideshow": {
     "slide_type": "slide"
    }
   },
   "source": [
    "## Creating reference data\n",
    "\n",
    "**Input:** the reference data for this simple example correspond to a Lorentzian with added noise.\n",
    "\n",
    "The fit is performed using `scipy.optimize.curve_fit`. <br> The example is based on implementations from https://docs.scipy.org/doc/scipy/reference/generated/scipy.optimize.curve_fit.html"
   ]
  },
  {
   "cell_type": "code",
   "execution_count": 4,
   "metadata": {
    "slideshow": {
     "slide_type": "subslide"
    }
   },
   "outputs": [
    {
     "data": {
      "image/png": "[encoded data removed]",
      "text/plain": [
       "<Figure size 432x288 with 1 Axes>"
      ]
     },
     "metadata": {
      "needs_background": "light"
     },
     "output_type": "display_data"
    }
   ],
   "source": [
    "# Creation of reference data\n",
    "nb_points = 100\n",
    "xx = np.linspace(-10, 10, nb_points)\n",
    "added_noise = np.random.normal(0, 1, nb_points)\n",
    "lorentzian_noisy = QENSmodels.lorentzian(xx, scale=0.89, center=-0.025, hwhm=0.45)*(1. + 0.1*added_noise) + 0.01*added_noise\n",
    "\n",
    "fig0, ax0 = plt.subplots()\n",
    "ax0.plot(xx, lorentzian_noisy, label='reference data')\n",
    "ax0.set_xlabel('x')\n",
    "ax0.grid()\n",
    "ax0.legend();"
   ]
  },
  {
   "cell_type": "markdown",
   "metadata": {
    "slideshow": {
     "slide_type": "slide"
    }
   },
   "source": [
    "## Setting and fitting"
   ]
  },
  {
   "cell_type": "code",
   "execution_count": 5,
   "metadata": {
    "slideshow": {
     "slide_type": "subslide"
    }
   },
   "outputs": [
    {
     "data": {
      "image/png": "[encoded data removed]",
      "text/plain": [
       "<Figure size 432x288 with 1 Axes>"
      ]
     },
     "metadata": {
      "needs_background": "light"
     },
     "output_type": "display_data"
    }
   ],
   "source": [
    "# From https://docs.scipy.org/doc/scipy/reference/generated/scipy.optimize.curve_fit.html\n",
    "# perform fit with initial guesses scale=1, center=0.2 HWHM=0.5\n",
    "initial_parameters_values = [1, 0.2, 0.5]\n",
    "\n",
    "fig1, ax1 = plt.subplots()\n",
    "ax1.plot(xx, lorentzian_noisy, 'b-', label='reference data')\n",
    "ax1.plot(xx, QENSmodels.lorentzian(xx, *initial_parameters_values), 'r-', label='model with initial guesses')\n",
    "ax1.set_xlabel('x')\n",
    "ax1.legend(bbox_to_anchor=(0., 1.15), loc='upper left', borderaxespad=0.)\n",
    "ax1.grid();"
   ]
  },
  {
   "cell_type": "code",
   "execution_count": 6,
   "metadata": {},
   "outputs": [],
   "source": [
    "popt, pcov = curve_fit(QENSmodels.lorentzian, xx, lorentzian_noisy, p0=initial_parameters_values)"
   ]
  },
  {
   "cell_type": "markdown",
   "metadata": {
    "slideshow": {
     "slide_type": "slide"
    }
   },
   "source": [
    "## Plotting the results"
   ]
  },
  {
   "cell_type": "code",
   "execution_count": 7,
   "metadata": {
    "scrolled": true,
    "slideshow": {
     "slide_type": "subslide"
    }
   },
   "outputs": [
    {
     "name": "stdout",
     "output_type": "stream",
     "text": [
      "Values of refined parameters:\n",
      "scale: 0.9292828887916907 +/- 0.014819749115384164 unit_of_signal.ps\n",
      "center : 0.009699290835895564 +/- 0.0070537957514746645 1/ps\n",
      "HWHM 0.4429742289504747 +/- 0.00999933383287716 1/ps\n"
     ]
    }
   ],
   "source": [
    "# Calculation of the errors on the refined parameters:\n",
    "perr = np.sqrt(np.diag(pcov))\n",
    "\n",
    "print('Values of refined parameters:')\n",
    "print('scale:', popt[0],'+/-', perr[0], dict_physical_units['scale'])\n",
    "print('center :', popt[1],'+/-', perr[1], dict_physical_units['center'])\n",
    "print('HWHM', popt[2],'+/-', perr[2], dict_physical_units['hwhm'])"
   ]
  },
  {
   "cell_type": "code",
   "execution_count": 8,
   "metadata": {},
   "outputs": [
    {
     "data": {
      "image/png": "[encoded data removed]",
      "text/plain": [
       "<Figure size 432x288 with 1 Axes>"
      ]
     },
     "metadata": {
      "needs_background": "light"
     },
     "output_type": "display_data"
    }
   ],
   "source": [
    " # Comparison of reference data with fitting result\n",
    "fig2, ax2 = plt.subplots()\n",
    "ax2.plot(xx, lorentzian_noisy, 'b-', label='reference data')\n",
    "ax2.plot(xx, QENSmodels.lorentzian(xx, *popt), 'g--', label='fit: %5.3f, %5.3f, %5.3f' % tuple(popt))\n",
    "ax2.legend()\n",
    "ax2.set_xlabel('x')\n",
    "ax2.grid();"
   ]
  },
  {
   "cell_type": "code",
   "execution_count": null,
   "metadata": {},
   "outputs": [],
   "source": []
  }
 ],
 "metadata": {
  "hide_input": false,
  "kernelspec": {
   "display_name": "Python 3",
   "language": "python",
   "name": "python3"
  },
  "language_info": {
   "codemirror_mode": {
    "name": "ipython",
    "version": 3
   },
   "file_extension": ".py",
   "mimetype": "text/x-python",
   "name": "python",
   "nbconvert_exporter": "python",
   "pygments_lexer": "ipython3",
   "version": "3.9.12"
  },
  "livereveal": {
   "scroll": true
  },
  "toc": {
   "base_numbering": 1,
   "nav_menu": {},
   "number_sections": true,
   "sideBar": true,
   "skip_h1_title": true,
   "title_cell": "Table of Contents",
   "title_sidebar": "Contents",
   "toc_cell": false,
   "toc_position": {},
   "toc_section_display": true,
   "toc_window_display": false
  },
  "varInspector": {
   "cols": {
    "lenName": 16,
    "lenType": 16,
    "lenVar": 40
   },
   "kernels_config": {
    "python": {
     "delete_cmd_postfix": "",
     "delete_cmd_prefix": "del ",
     "library": "var_list.py",
     "varRefreshCmd": "print(var_dic_list())"
    },
    "r": {
     "delete_cmd_postfix": ") ",
     "delete_cmd_prefix": "rm(",
     "library": "var_list.r",
     "varRefreshCmd": "cat(var_dic_list()) "
    }
   },
   "types_to_exclude": [
    "module",
    "function",
    "builtin_function_or_method",
    "instance",
    "_Feature"
   ],
   "window_display": false
  }
 },
 "nbformat": 4,
 "nbformat_minor": 4
}
