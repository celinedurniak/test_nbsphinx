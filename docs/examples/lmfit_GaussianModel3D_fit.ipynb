{
 "cells": [
  {
   "cell_type": "markdown",
   "metadata": {},
   "source": [
    "<div class=\"alert alert-warning\">\n",
    "    \n",
    "<b>Disclaimer:</b> \n",
    "    \n",
    "The main objective of the <i>Jupyter</i> notebooks is to show how to use the models of the <i>QENS library</i> by\n",
    "    \n",
    "- building a fitting model: composition of models, convolution with a resolution function  \n",
    "- setting and running the fit  \n",
    "- extracting and displaying information about the results  \n",
    "\n",
    "These steps have a minimizer-dependent syntax. That's one of the reasons why different minimizers have been used in the notebooks provided as examples.  \n",
    "But, the initial guessed parameters might not be optimal, resulting in a poor fit of the reference data.\n",
    "\n",
    "</div>\n",
    "\n",
    "# Gaussian Model 3D with lmfit\n",
    "\n",
    "## Introduction\n",
    "\n",
    "<div class=\"alert alert-info\">\n",
    "    \n",
    "The objective of this notebook is to show how to use the <b>Gaussian Model 3D</b> model to perform some \n",
    "fits using <a href=\"https://lmfit.github.io/lmfit-py/\">lmfit</a>.\n",
    "</div>\n",
    "\n",
    "### Physical units\n",
    "For information about unit conversion, please refer to the jupyter notebook called `Convert_units.ipynb` in the `tools` folder.\n",
    "\n",
    "The dictionary of units defined in the cell below specify the units of the refined parameters adapted to the convention used in the experimental datafile."
   ]
  },
  {
   "cell_type": "code",
   "execution_count": null,
   "metadata": {},
   "outputs": [],
   "source": [
    "# Units of parameters for selected QENS model and experimental data\n",
    "dict_physical_units = {'omega': \"meV\", \n",
    "                       'q': \"1/Angstrom\", \n",
    "                       'D': \"meV.Angstrom^2\", \n",
    "                       'variance_ux': \"Angstrom\", \n",
    "                       'scale': \"unit_of_signal.meV\",\n",
    "                       'center': \"meV\"}"
   ]
  },
  {
   "cell_type": "markdown",
   "metadata": {},
   "source": [
    "## Importing the required librairies"
   ]
  },
  {
   "cell_type": "code",
   "execution_count": null,
   "metadata": {},
   "outputs": [],
   "source": [
    "# import python modules for plotting, fitting\n",
    "from __future__ import print_function\n",
    "import numpy as np\n",
    "\n",
    "import matplotlib.pyplot as plt\n",
    "\n",
    "# for interactivity (plots, buttons...)\n",
    "import ipywidgets\n",
    "\n",
    "from lmfit import Model, Parameters\n",
    "\n",
    "import QENSmodels"
   ]
  },
  {
   "cell_type": "markdown",
   "metadata": {},
   "source": [
    "## Plot of the fitting model\n",
    "\n",
    "The widget below shows the peak shape function imported from QENSmodels where the function's parameters can be varied."
   ]
  },
  {
   "cell_type": "code",
   "execution_count": null,
   "metadata": {},
   "outputs": [],
   "source": [
    "# Dictionary of initial values\n",
    "ini_parameters = {'q': 1., 'scale': 5., 'center': 0., 'D': 1., 'variance_ux': 1.}\n",
    "\n",
    "def interactive_fct(q, scale, center, D, variance_ux):\n",
    "    xs = np.linspace(-10, 10, 100)\n",
    "    \n",
    "    fig1, ax1 = plt.subplots()\n",
    "    ax1.plot(xs, QENSmodels.sqwGaussianModel3D(xs, q, scale, center, D, variance_ux))\n",
    "    ax1.set_xlabel('x')\n",
    "    ax1.grid()\n",
    "\n",
    "# Define sliders for modifiable parameters and their range of variations\n",
    "\n",
    "q_slider = ipywidgets.FloatSlider(value=ini_parameters['q'],\n",
    "                                  min=0.1, max=10., step=0.1,\n",
    "                                  description='q', \n",
    "                                  continuous_update=False) \n",
    "\n",
    "scale_slider = ipywidgets.FloatSlider(value=ini_parameters['scale'],\n",
    "                                      min=0.1, max=10, step=0.1,\n",
    "                                      description='scale',\n",
    "                                      continuous_update=False) \n",
    "\n",
    "center_slider = ipywidgets.IntSlider(value=ini_parameters['center'],\n",
    "                                     min=-10, max=10, step=1,\n",
    "                                     description='center', \n",
    "                                     continuous_update=False) \n",
    "\n",
    "D_slider = ipywidgets.FloatSlider(value=ini_parameters['D'],\n",
    "                                     min=0.1, max=10, step=0.1,\n",
    "                                     description='D',\n",
    "                                     continuous_update=False)\n",
    "\n",
    "variance_ux_slider = ipywidgets.FloatSlider(value=ini_parameters['variance_ux'],\n",
    "                                       min=0.1, max=10, step=0.1,\n",
    "                                       description='variance_ux',\n",
    "                                       continuous_update=False)\n",
    "\n",
    "grid_sliders = ipywidgets.HBox([ipywidgets.VBox([q_slider, scale_slider, center_slider])\n",
    "                                ,ipywidgets.VBox([D_slider, variance_ux_slider])])\n",
    "\n",
    "# Define function to reset all parameters' values to the initial ones\n",
    "def reset_values(b):\n",
    "    \"\"\"Reset the interactive plots to inital values.\"\"\"\n",
    "    q_slider.value = ini_parameters['q'] \n",
    "    scale_slider.value = ini_parameters['scale'] \n",
    "    center_slider.value = ini_parameters['center']  \n",
    "    D_slider.value = ini_parameters['D'] \n",
    "    variance_ux_slider.value = ini_parameters['variance_ux'] \n",
    "\n",
    "# Define reset button and occurring action when clicking on it\n",
    "reset_button = ipywidgets.Button(description = \"Reset\")\n",
    "reset_button.on_click(reset_values)\n",
    "\n",
    "# Display the interactive plot\n",
    "interactive_plot = ipywidgets.interactive_output(interactive_fct,       \n",
    "                                         {'q': q_slider, \n",
    "                                          'scale': scale_slider,\n",
    "                                          'center': center_slider,\n",
    "                                          'D': D_slider,\n",
    "                                          'variance_ux': variance_ux_slider})  \n",
    "                                            \n",
    "display(grid_sliders, interactive_plot, reset_button)"
   ]
  },
  {
   "cell_type": "markdown",
   "metadata": {},
   "source": [
    "## Creating the reference data"
   ]
  },
  {
   "cell_type": "code",
   "execution_count": null,
   "metadata": {},
   "outputs": [],
   "source": [
    "nb_points = 200\n",
    "xx = np.linspace(-2, 2, nb_points)\n",
    "added_noise = np.random.normal(0, 1, nb_points)\n",
    "\n",
    "gaussian_model_3d_noisy = QENSmodels.sqwGaussianModel3D(\n",
    "    xx,\n",
    "    q=.5,\n",
    "    scale=0.7,\n",
    "    center=0.3,\n",
    "    D=1,\n",
    "    variance_ux=1.2\n",
    ") * (1 + 0.1 * added_noise) + 0.01 * added_noise\n",
    "\n",
    "# plot initial mode\n",
    "fig0, ax0 = plt.subplots()\n",
    "ax0.plot(xx, gaussian_model_3d_noisy)\n",
    "ax0.grid();"
   ]
  },
  {
   "cell_type": "markdown",
   "metadata": {},
   "source": [
    "## Setting and fitting"
   ]
  },
  {
   "cell_type": "code",
   "execution_count": null,
   "metadata": {},
   "outputs": [],
   "source": [
    "gmodel = Model(QENSmodels.sqwGaussianModel3D)\n",
    "\n",
    "print('Names of parameters:', gmodel.param_names)\n",
    "print('Independent variable(s):', gmodel.independent_vars)\n",
    "\n",
    "initial_parameters_values = [1.22, 0.25, .3, 0.33]\n",
    "\n",
    "# Define boundaries for parameters to be refined\n",
    "gmodel.set_param_hint('scale', min=0)\n",
    "gmodel.set_param_hint('center', min=-5, max=5)\n",
    "gmodel.set_param_hint('D', min=0)\n",
    "gmodel.set_param_hint('variance_ux', min=0)\n",
    "\n",
    "# Fix some of the parameters\n",
    "gmodel.set_param_hint('q', vary=False)\n",
    "\n",
    "# Fit\n",
    "result = gmodel.fit(gaussian_model_3d_noisy, w=xx, q=1.,\n",
    "                    scale=initial_parameters_values[0], \n",
    "                    center=initial_parameters_values[1],\n",
    "                    D=initial_parameters_values[2],\n",
    "                    variance_ux=initial_parameters_values[3])"
   ]
  },
  {
   "cell_type": "code",
   "execution_count": null,
   "metadata": {},
   "outputs": [],
   "source": [
    "# Plot Initial model and reference data\n",
    "fig1, ax1 = plt.subplots()\n",
    "ax1.plot(xx, gaussian_model_3d_noisy, 'b-', label='reference data')\n",
    "ax1.plot(xx, result.init_fit, 'k--', label='model with initial guesses')\n",
    "ax1.set(xlabel='x', title='Initial model and reference data')\n",
    "ax1.grid()\n",
    "ax1.legend();"
   ]
  },
  {
   "cell_type": "markdown",
   "metadata": {},
   "source": [
    "## Plotting results\n",
    "\n",
    "using methods implemented in `lmfit`"
   ]
  },
  {
   "cell_type": "code",
   "execution_count": null,
   "metadata": {
    "scrolled": true
   },
   "outputs": [],
   "source": [
    "# display result\n",
    "print('Result of fit:\\n',result.fit_report())\n",
    "\n",
    "# plot fitting results using lmfit functionality\n",
    "result.plot();"
   ]
  },
  {
   "cell_type": "code",
   "execution_count": null,
   "metadata": {
    "scrolled": true
   },
   "outputs": [],
   "source": [
    "# plot fitting results and reference data using matplotlib.pyplot\n",
    "fig2, ax2 = plt.subplots()\n",
    "ax2.plot(xx, gaussian_model_3d_noisy, 'b-', label='reference data')\n",
    "ax2.plot(xx, result.best_fit, 'r.', label='fitting result')\n",
    "ax2.legend()\n",
    "ax2.set(xlabel='x', title='Fit result and reference data')\n",
    "ax2.grid();"
   ]
  },
  {
   "cell_type": "code",
   "execution_count": null,
   "metadata": {},
   "outputs": [],
   "source": []
  }
 ],
 "metadata": {
  "hide_input": false,
  "kernelspec": {
   "display_name": "Python 3",
   "language": "python",
   "name": "python3"
  },
  "language_info": {
   "codemirror_mode": {
    "name": "ipython",
    "version": 3
   },
   "file_extension": ".py",
   "mimetype": "text/x-python",
   "name": "python",
   "nbconvert_exporter": "python",
   "pygments_lexer": "ipython3",
   "version": "3.9.12"
  },
  "toc": {
   "base_numbering": 1,
   "nav_menu": {},
   "number_sections": true,
   "sideBar": true,
   "skip_h1_title": true,
   "title_cell": "Table of Contents",
   "title_sidebar": "Contents",
   "toc_cell": false,
   "toc_position": {},
   "toc_section_display": true,
   "toc_window_display": false
  },
  "varInspector": {
   "cols": {
    "lenName": 16,
    "lenType": 16,
    "lenVar": 40
   },
   "kernels_config": {
    "python": {
     "delete_cmd_postfix": "",
     "delete_cmd_prefix": "del ",
     "library": "var_list.py",
     "varRefreshCmd": "print(var_dic_list())"
    },
    "r": {
     "delete_cmd_postfix": ") ",
     "delete_cmd_prefix": "rm(",
     "library": "var_list.r",
     "varRefreshCmd": "cat(var_dic_list()) "
    }
   },
   "types_to_exclude": [
    "module",
    "function",
    "builtin_function_or_method",
    "instance",
    "_Feature"
   ],
   "window_display": false
  }
 },
 "nbformat": 4,
 "nbformat_minor": 4
}
