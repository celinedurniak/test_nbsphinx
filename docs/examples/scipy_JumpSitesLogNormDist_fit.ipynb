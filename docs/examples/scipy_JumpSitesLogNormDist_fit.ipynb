{
 "cells": [
  {
   "cell_type": "markdown",
   "metadata": {},
   "source": [
    "<div class=\"alert alert-warning\">\n",
    "    \n",
    "<b>Disclaimer:</b> \n",
    "    \n",
    "The main objective of the <i>Jupyter</i> notebooks is to show how to use the models of the <i>QENS library</i> by\n",
    "    \n",
    "- building a fitting model: composition of models, convolution with a resolution function  \n",
    "- setting and running the fit  \n",
    "- extracting and displaying information about the results  \n",
    "\n",
    "These steps have a minimizer-dependent syntax. That's one of the reasons why different minimizers have been used in the notebooks provided as examples.  \n",
    "But, the initial guessed parameters might not be optimal, resulting in a poor fit of the reference data.\n",
    "\n",
    "</div>\n",
    "\n",
    "# Jump sites log norm diffusion with scipy\n",
    "\n",
    "## Introduction\n",
    "\n",
    "<div class=\"alert alert-info\">\n",
    "    \n",
    "The objective of this notebook is to show how to use one of the models of \n",
    "the <a href=\"https://github.com/QENSlibrary/QENSmodels\">QENSlibrary</a>, <b>sqwJumpSitesLogNormDist</b>, to perform some fits. \n",
    "\n",
    "<a href=\"https://docs.scipy.org/doc/scipy/reference/generated/scipy.optimize.curve_fit.html\">scipy.optimize.curve_fit</a> is used for fitting.\n",
    "</div>\n",
    "\n",
    "### Physical units\n",
    "\n",
    "For information about unit conversion, please refer to the jupyter notebook called `Convert_units.ipynb` in the `tools` folder.\n",
    "\n",
    "The dictionary of units defined in the cell below specify the units of the refined parameters adapted to the convention used in the experimental datafile."
   ]
  },
  {
   "cell_type": "code",
   "execution_count": 1,
   "metadata": {},
   "outputs": [],
   "source": [
    "# Units of parameters for selected QENS model and experimental data\n",
    "\n",
    "dict_physical_units = {'scale': \"unit_of_signal.ps\", \n",
    "                       'center': \"1/ps\", \n",
    "                       'radius': 'Angstrom', \n",
    "                       'resTime': 'ps'}"
   ]
  },
  {
   "cell_type": "markdown",
   "metadata": {},
   "source": [
    "## Importing libraries"
   ]
  },
  {
   "cell_type": "code",
   "execution_count": 2,
   "metadata": {},
   "outputs": [],
   "source": [
    "# import python modules for plotting, fitting\n",
    "from __future__ import print_function\n",
    "import numpy as np\n",
    "\n",
    "import matplotlib.pyplot as plt\n",
    "from scipy.optimize import curve_fit\n",
    "\n",
    "# for interactivity (plots, buttons...)\n",
    "import ipywidgets\n",
    "\n",
    "# import model from QENS library\n",
    "import QENSmodels"
   ]
  },
  {
   "cell_type": "markdown",
   "metadata": {},
   "source": [
    "## Plot of the fitting model\n",
    "\n",
    "The widget below shows the peak shape function imported from QENSmodels where the function's parameters can be varied."
   ]
  },
  {
   "cell_type": "code",
   "execution_count": 3,
   "metadata": {},
   "outputs": [
    {
     "data": {
      "application/vnd.jupyter.widget-view+json": {
       "model_id": "ef9735b1683149129eaa58f50a66cde0",
       "version_major": 2,
       "version_minor": 0
      },
      "text/plain": [
       "HBox(children=(VBox(children=(FloatSlider(value=1.0, continuous_update=False, description='q', max=10.0, min=0…"
      ]
     },
     "metadata": {},
     "output_type": "display_data"
    },
    {
     "data": {
      "application/vnd.jupyter.widget-view+json": {
       "model_id": "2fa846165bae4e92b8cfc1218cd16959",
       "version_major": 2,
       "version_minor": 0
      },
      "text/plain": [
       "Output()"
      ]
     },
     "metadata": {},
     "output_type": "display_data"
    },
    {
     "data": {
      "application/vnd.jupyter.widget-view+json": {
       "model_id": "20850216602c4c1284be5c544caf5b6b",
       "version_major": 2,
       "version_minor": 0
      },
      "text/plain": [
       "Button(description='Reset', style=ButtonStyle())"
      ]
     },
     "metadata": {},
     "output_type": "display_data"
    }
   ],
   "source": [
    "# Dictionary of initial values\n",
    "ini_parameters = {'q': 1., 'scale': 5., 'center': 5., 'Nsites': 3, 'radius': 1., 'resTime':1., 'sigma': 1.}\n",
    "\n",
    "def interactive_fct(q, scale, center, Nsites, radius, resTime, sigma):\n",
    "    xs = np.linspace(-10, 10, 100)\n",
    "    fig1, ax1 = plt.subplots()\n",
    "    ax1.plot(xs, QENSmodels.sqwJumpSitesLogNormDist(xs, q, scale, center, Nsites, radius, resTime, sigma))\n",
    "    ax1.set_xlabel('x')\n",
    "    ax1.grid()\n",
    "\n",
    "# Define sliders for modifiable parameters and their range of variations\n",
    "q_slider = ipywidgets.FloatSlider(value=ini_parameters['q'],\n",
    "                                  min=0.1, max=10., step=0.1,\n",
    "                                  description='q', \n",
    "                                  continuous_update=False) \n",
    "\n",
    "scale_slider = ipywidgets.FloatSlider(value=ini_parameters['scale'],\n",
    "                                      min=0.1, max=10, step=0.1,\n",
    "                                      description='scale',\n",
    "                                      continuous_update=False) \n",
    "\n",
    "center_slider = ipywidgets.IntSlider(value=ini_parameters['center'],\n",
    "                                     min=-10, max=10, step=1,\n",
    "                                     description='center', \n",
    "                                     continuous_update=False) \n",
    "\n",
    "Nsites_slider = ipywidgets.IntSlider(value=ini_parameters['Nsites'],\n",
    "                                     min=2, max=10, step=1,\n",
    "                                     description='Nsites',\n",
    "                                     continuous_update=False)\n",
    "\n",
    "radius_slider = ipywidgets.FloatSlider(value=ini_parameters['radius'],\n",
    "                                       min=0.1, max=10, step=0.1,\n",
    "                                       description='radius',\n",
    "                                       continuous_update=False)\n",
    "\n",
    "resTime_slider = ipywidgets.FloatSlider(value=ini_parameters['resTime'],\n",
    "                                        min=0.1, max=10, step=0.1,\n",
    "                                        description='resTime', \n",
    "                                        continuous_update=False)\n",
    "\n",
    "sigma_slider = ipywidgets.FloatSlider(value=ini_parameters['sigma'],\n",
    "                                        min=0.1, max=10, step=0.1,\n",
    "                                        description='sigma', \n",
    "                                        continuous_update=False)\n",
    "\n",
    "grid_sliders = ipywidgets.HBox([ipywidgets.VBox([q_slider, scale_slider, center_slider, Nsites_slider])\n",
    "                                ,ipywidgets.VBox([radius_slider, resTime_slider, sigma_slider])])\n",
    "                              \n",
    "# Define function to reset all parameters' values to the initial ones\n",
    "def reset_values(b):\n",
    "    \"\"\"Reset the interactive plots to inital values.\"\"\"\n",
    "    q_slider.value = ini_parameters['q'] \n",
    "    scale_slider.value = ini_parameters['scale'] \n",
    "    center_slider.value = ini_parameters['center']  \n",
    "    Nsites_slider.value = ini_parameters['Nsites'] \n",
    "    radius_slider.value = ini_parameters['radius'] \n",
    "    resTime_slider.value = ini_parameters['resTime']\n",
    "    sigma_slider.value = ini_parameters['slider']\n",
    "\n",
    "# Define reset button and occurring action when clicking on it\n",
    "reset_button = ipywidgets.Button(description = \"Reset\")\n",
    "reset_button.on_click(reset_values)\n",
    "\n",
    "# Display the interactive plot\n",
    "interactive_plot = ipywidgets.interactive_output(interactive_fct,       \n",
    "                                         {'q': q_slider, \n",
    "                                          'scale': scale_slider,\n",
    "                                          'center': center_slider,\n",
    "                                          'Nsites': Nsites_slider,\n",
    "                                          'radius': radius_slider,\n",
    "                                          'resTime': resTime_slider,\n",
    "                                          'sigma': sigma_slider})  \n",
    "                                            \n",
    "display(grid_sliders, interactive_plot, reset_button)"
   ]
  },
  {
   "cell_type": "markdown",
   "metadata": {},
   "source": [
    "## Creating reference data\n",
    "\n",
    "**Input:** the reference data for this simple example correspond to sqwJumpSitesLogNormDist with added noise.\n",
    "\n",
    "The fit is performed using `scipy.optimize.curve_fit`. <br> The example is based on implementations from https://docs.scipy.org/doc/scipy/reference/generated/scipy.optimize.curve_fit.html"
   ]
  },
  {
   "cell_type": "code",
   "execution_count": 4,
   "metadata": {},
   "outputs": [
    {
     "data": {
      "image/png": "[encoded data removed]",
      "text/plain": [
       "<Figure size 432x288 with 1 Axes>"
      ]
     },
     "metadata": {
      "needs_background": "light"
     },
     "output_type": "display_data"
    }
   ],
   "source": [
    "# Creation of reference data\n",
    "nb_points = 100\n",
    "xx = np.linspace(-10, 10, nb_points)\n",
    "added_noise = np.random.normal(0, 1, nb_points)\n",
    "sqw_jump_sites_noisy = QENSmodels.sqwJumpSitesLogNormDist(xx, q=0.89, scale=1, center=0.3, Nsites=5, radius=2, resTime=0.45, sigma=0.25)*(1. + 0.04*added_noise) + 0.02*added_noise\n",
    "\n",
    "fig0, ax0 = plt.subplots()\n",
    "ax0.plot(xx, sqw_jump_sites_noisy, label='reference data')\n",
    "ax0.set_xlabel('x')\n",
    "ax0.grid()\n",
    "ax0.legend();"
   ]
  },
  {
   "cell_type": "markdown",
   "metadata": {},
   "source": [
    "## Setting and fitting"
   ]
  },
  {
   "cell_type": "code",
   "execution_count": 5,
   "metadata": {},
   "outputs": [
    {
     "data": {
      "image/png": "[encoded data removed]",
      "text/plain": [
       "<Figure size 432x288 with 1 Axes>"
      ]
     },
     "metadata": {
      "needs_background": "light"
     },
     "output_type": "display_data"
    }
   ],
   "source": [
    "# From https://docs.scipy.org/doc/scipy/reference/generated/scipy.optimize.curve_fit.html\n",
    "# perform fit with initial guesses scale=0.95, center=0.2, radius=2, resTime=0.45, sigma=0.25\n",
    "# Nsites=5 and q =0.89 are fixed\n",
    "\n",
    "def func_to_fit(xx, scale, center, radius, resTime, sigma):\n",
    "    return QENSmodels.sqwJumpSitesLogNormDist(xx, 0.89, scale, center, 5, radius, resTime, sigma)\n",
    "\n",
    "fig0, ax0 = plt.subplots()\n",
    "ax0.plot(xx, sqw_jump_sites_noisy, 'b-', label='reference data')\n",
    "ax0.plot(xx, QENSmodels.sqwJumpSitesLogNormDist(xx, 0.89, scale=0.95, center=0.2, Nsites=5, radius=2, resTime=0.45, sigma=0.25), 'r-', label='model with initial guesses')\n",
    "ax0.set_xlabel('x')\n",
    "ax0.grid()\n",
    "ax0.legend(bbox_to_anchor=(0.6, 1), loc=2, borderaxespad=0.);"
   ]
  },
  {
   "cell_type": "code",
   "execution_count": 6,
   "metadata": {},
   "outputs": [],
   "source": [
    "success_fit = True\n",
    "\n",
    "try:\n",
    "    popt, pcov = curve_fit(func_to_fit, xx, sqw_jump_sites_noisy, p0=[0.95, 0.2, 2, 0.45, 0.25], \n",
    "                       bounds=((0.1, -2, 0.1, 0.1, 0.1), (5., 2., 5., 11., 1.)))\n",
    "    \n",
    "except RuntimeError:\n",
    "    success_fit = False\n",
    "    print(\"Error - curve_fit failed\")"
   ]
  },
  {
   "cell_type": "markdown",
   "metadata": {},
   "source": [
    "## Plotting the results"
   ]
  },
  {
   "cell_type": "code",
   "execution_count": 7,
   "metadata": {},
   "outputs": [
    {
     "name": "stdout",
     "output_type": "stream",
     "text": [
      "Values of refined parameters:\n",
      "scale: 1.015765504244459 +/- 0.06717082484006974 unit_of_signal.ps\n",
      "center : 0.4040403876589705 +/- 0.1142326093403423 1/ps\n",
      "radius 2.1066202309311417 +/- 0.06300303456669253 Angstrom\n",
      "resTime 0.4144134384949737 +/- 0.06506041194363285 ps\n",
      "sigma 0.31055072036955667 +/- 0.4756821073430132\n"
     ]
    }
   ],
   "source": [
    "# Calculation of the errors on the refined parameters:\n",
    "if success_fit: \n",
    "    perr = np.sqrt(np.diag(pcov))\n",
    "    print('Values of refined parameters:')\n",
    "    print('scale:'  , popt[0],'+/-', perr[0], dict_physical_units['scale'])\n",
    "    print('center :', popt[1],'+/-', perr[1], dict_physical_units['center'])\n",
    "    print('radius'  , popt[2],'+/-', perr[2], dict_physical_units['radius'])\n",
    "    print('resTime' , popt[3],'+/-', perr[3], dict_physical_units['resTime'])\n",
    "    print('sigma'   , popt[4],'+/-', perr[4])"
   ]
  },
  {
   "cell_type": "code",
   "execution_count": 8,
   "metadata": {},
   "outputs": [
    {
     "data": {
      "image/png": "[encoded data removed]",
      "text/plain": [
       "<Figure size 432x288 with 1 Axes>"
      ]
     },
     "metadata": {
      "needs_background": "light"
     },
     "output_type": "display_data"
    }
   ],
   "source": [
    "# Comparison of reference data with fitting result\n",
    "if success_fit: \n",
    "    fig1, ax1 = plt.subplots()\n",
    "    ax1.plot(xx, sqw_jump_sites_noisy, 'b-', label='reference data')\n",
    "    ax1.plot(xx, func_to_fit(xx, *popt), 'g--', label='fit: %5.3f, %5.3f, %5.3f, %5.3f, %5.3f' % tuple(popt))\n",
    "    ax1.legend(bbox_to_anchor=(0., 1.15), loc='upper left', borderaxespad=0.)\n",
    "    ax1.set_xlabel('x')\n",
    "    ax1.grid();"
   ]
  },
  {
   "cell_type": "code",
   "execution_count": null,
   "metadata": {},
   "outputs": [],
   "source": []
  }
 ],
 "metadata": {
  "hide_input": false,
  "kernelspec": {
   "display_name": "Python 3",
   "language": "python",
   "name": "python3"
  },
  "language_info": {
   "codemirror_mode": {
    "name": "ipython",
    "version": 3
   },
   "file_extension": ".py",
   "mimetype": "text/x-python",
   "name": "python",
   "nbconvert_exporter": "python",
   "pygments_lexer": "ipython3",
   "version": "3.9.12"
  },
  "toc": {
   "base_numbering": 1,
   "nav_menu": {},
   "number_sections": true,
   "sideBar": true,
   "skip_h1_title": false,
   "title_cell": "Table of Contents",
   "title_sidebar": "Contents",
   "toc_cell": false,
   "toc_position": {},
   "toc_section_display": true,
   "toc_window_display": false
  },
  "varInspector": {
   "cols": {
    "lenName": 16,
    "lenType": 16,
    "lenVar": 40
   },
   "kernels_config": {
    "python": {
     "delete_cmd_postfix": "",
     "delete_cmd_prefix": "del ",
     "library": "var_list.py",
     "varRefreshCmd": "print(var_dic_list())"
    },
    "r": {
     "delete_cmd_postfix": ") ",
     "delete_cmd_prefix": "rm(",
     "library": "var_list.r",
     "varRefreshCmd": "cat(var_dic_list()) "
    }
   },
   "types_to_exclude": [
    "module",
    "function",
    "builtin_function_or_method",
    "instance",
    "_Feature"
   ],
   "window_display": false
  }
 },
 "nbformat": 4,
 "nbformat_minor": 4
}
