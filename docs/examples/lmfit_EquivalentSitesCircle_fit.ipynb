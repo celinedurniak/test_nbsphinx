{
 "cells": [
  {
   "cell_type": "markdown",
   "metadata": {},
   "source": [
    "<div class=\"alert alert-warning\">\n",
    "    \n",
    "<b>Disclaimer:</b> \n",
    "    \n",
    "The main objective of the <i>Jupyter</i> notebooks is to show how to use the models of the <i>QENS library</i> by\n",
    "    \n",
    "- building a fitting model: composition of models, convolution with a resolution function  \n",
    "- setting and running the fit  \n",
    "- extracting and displaying information about the results  \n",
    "\n",
    "These steps have a minimizer-dependent syntax. That's one of the reasons why different minimizers have been used in the notebooks provided as examples.  \n",
    "But, the initial guessed parameters might not be optimal, resulting in a poor fit of the reference data.\n",
    "    \n",
    "</div>\n",
    "\n",
    "\n",
    "# Equivalent sites circle with lmfit\n",
    "\n",
    "## Table of Contents\n",
    "\n",
    "- [Introduction](#Introduction)\n",
    "- [Importing the required libraries](#Importing-the-required-libraries)\n",
    "- [Plot of the fitting model](#Plot-of-the-fitting-model)\n",
    "- [Creating the reference data](#Creating-the-reference-data)\n",
    "- [Setting and fitting](#Setting-and-fitting)  \n",
    "- [Plotting the results](#Plotting-the-results)  "
   ]
  },
  {
   "cell_type": "markdown",
   "metadata": {},
   "source": [
    "[Top](#Table-of-Contents)\n",
    "\n",
    "## Introduction\n",
    "\n",
    "<div class=\"alert alert-info\">\n",
    "    \n",
    "The objective of this notebook is to show how to use the <b>Equivalent Sites Circle</b> model to perform some \n",
    "fits using <a href=\"https://lmfit.github.io/lmfit-py/\">lmfit</a>.\n",
    "</div>\n",
    "\n",
    "### Physical units\n",
    "Please note that the following units are used for the QENS models\n",
    "\n",
    "| Type of parameter | Unit          |\n",
    "| :---------------- | :-----------: |\n",
    "| Time              | picosecond    |\n",
    "| Length            | Angstrom      |\n",
    "| Momentum transfer | 1/Angstrom    |\n",
    "\n",
    "For information about unit conversion, please refer to the jupyter notebook called `Convert_units.ipynb` in the `tools` folder.\n",
    "\n",
    "The dictionary of units defined in the cell below specify the units of the refined parameters adapted to the convention used in the experimental datafile."
   ]
  },
  {
   "cell_type": "code",
   "execution_count": null,
   "metadata": {},
   "outputs": [],
   "source": [
    "# Units of parameters for selected QENS model and experimental data\n",
    "dict_physical_units = {'omega': \"1/ps\", \n",
    "                       'q': \"1/Angstrom\", \n",
    "                       'scale': \"unit_of_signal/ps\", \n",
    "                       'center': \"1/ps\", \n",
    "                       'radius': \"Angstrom\", \n",
    "                       'resTime': \"ps\"}"
   ]
  },
  {
   "cell_type": "markdown",
   "metadata": {},
   "source": [
    "[Top](#Table-of-Contents)\n",
    "\n",
    "## Importing the required librairies"
   ]
  },
  {
   "cell_type": "code",
   "execution_count": null,
   "metadata": {},
   "outputs": [],
   "source": [
    "# import python modules for plotting, fitting\n",
    "from __future__ import print_function\n",
    "import numpy as np\n",
    "\n",
    "# for interactivity (plots, buttons...)\n",
    "import ipywidgets\n",
    "\n",
    "import matplotlib.pyplot as plt"
   ]
  },
  {
   "cell_type": "code",
   "execution_count": null,
   "metadata": {},
   "outputs": [],
   "source": [
    "# install QENSmodels (if not already installed)\n",
    "import pkgutil\n",
    "import sys\n",
    "\n",
    "if not pkgutil.find_loader(\"QENSmodels\"):\n",
    "    buttonY = ipywidgets.Button(description='Yes', button_style='success')\n",
    "    buttonN = ipywidgets.Button(description='No', button_style='danger')\n",
    "    choice_installation = ipywidgets.VBox(\n",
    "    [ipywidgets.Label(\"Do you want to install the QENSmodels' library?\"), ipywidgets.HBox([buttonY, buttonN])],\n",
    "    layout=ipywidgets.Layout(width='50%', height='80px'))\n",
    "    display(choice_installation)\n",
    "    \n",
    "    def on_buttonY_clicked(b):\n",
    "        !{sys.executable} -m pip install git+https://github.com/QENSlibrary/QENSmodels#egg=QENSmodels\n",
    "\n",
    "    def on_buttonN_clicked(b):\n",
    "        print(\"You will not be able to run some of the remaining parts of this notebook\")\n",
    "     \n",
    "    buttonY.on_click(on_buttonY_clicked)\n",
    "    buttonN.on_click(on_buttonN_clicked) "
   ]
  },
  {
   "cell_type": "code",
   "execution_count": null,
   "metadata": {},
   "outputs": [],
   "source": [
    "# install lmfit (if not already installed)\n",
    "if not pkgutil.find_loader(\"lmfit\"):   \n",
    "    lmfitY = ipywidgets.Button(description='Yes', button_style='success')\n",
    "    lmfitN = ipywidgets.Button(description='No', button_style='danger')\n",
    "    choice_installation = ipywidgets.VBox(\n",
    "    [ipywidgets.Label(\"Do you want to install lmfit?\"), ipywidgets.HBox([lmfitY, lmfitN])],\n",
    "    layout=ipywidgets.Layout(width='30%', height='80px'))\n",
    "\n",
    "    display(choice_installation)\n",
    "    \n",
    "    def on_lmfitY_clicked(b):\n",
    "        !{sys.executable} -m pip install lmfit\n",
    "    def on_lmfitN_clicked(b):\n",
    "        print(\"You will not be able to run some of the remaining parts of this notebook\")\n",
    "        \n",
    "    lmfitY.on_click(on_lmfitY_clicked)\n",
    "    lmfitN.on_click(on_lmfitN_clicked) "
   ]
  },
  {
   "cell_type": "code",
   "execution_count": null,
   "metadata": {},
   "outputs": [],
   "source": [
    "# required imports from lmfit\n",
    "from lmfit import Model, Parameters\n",
    "\n",
    "# import model from QENS library\n",
    "import QENSmodels"
   ]
  },
  {
   "cell_type": "markdown",
   "metadata": {},
   "source": [
    "[Top](#Table-of-Contents)\n",
    "\n",
    "## Plot of the fitting model\n",
    "\n",
    "The widget below shows the peak shape function imported from QENSmodels where the function's parameters can be varied."
   ]
  },
  {
   "cell_type": "code",
   "execution_count": null,
   "metadata": {},
   "outputs": [],
   "source": [
    "# Dictionary of initial values\n",
    "ini_parameters = {'q': 1., 'scale': 5., 'center': 5., 'Nsites': 3, 'radius': 5., 'resTime': 1.} \n",
    "\n",
    "def interactive_fct(q, scale, center, Nsites, radius, resTime):\n",
    "    xs = np.linspace(-10, 10, 100)\n",
    "    \n",
    "    fig1, ax1 = plt.subplots()\n",
    "    ax1.plot(xs, QENSmodels.sqwEquivalentSitesCircle(xs, q, scale, center, Nsites, radius, resTime))\n",
    "    ax1.set_xlabel('x')\n",
    "    ax1.grid()\n",
    "\n",
    "# Define sliders for modifiable parameters and their range of variations\n",
    "\n",
    "q_slider = ipywidgets.FloatSlider(value=ini_parameters['q'],\n",
    "                                  min=0.1, max=10., step=0.1,\n",
    "                                  description='q', \n",
    "                                  continuous_update=False) \n",
    "\n",
    "scale_slider = ipywidgets.FloatSlider(value=ini_parameters['scale'],\n",
    "                                      min=0.1, max=10, step=0.1,\n",
    "                                      description='scale',\n",
    "                                      continuous_update=False) \n",
    "\n",
    "center_slider = ipywidgets.IntSlider(value=ini_parameters['center'],\n",
    "                                     min=-10, max=10, step=1,\n",
    "                                     description='center', \n",
    "                                     continuous_update=False) \n",
    "\n",
    "Nsites_slider = ipywidgets.IntSlider(value=ini_parameters['Nsites'],\n",
    "                                     min=2, max=10, step=1,\n",
    "                                     description='Nsites',\n",
    "                                     continuous_update=False)\n",
    "\n",
    "radius_slider = ipywidgets.FloatSlider(value=ini_parameters['radius'],\n",
    "                                       min=0.1, max=10, step=0.1,\n",
    "                                       description='radius',\n",
    "                                       continuous_update=False)\n",
    "\n",
    "resTime_slider = ipywidgets.FloatSlider(value=ini_parameters['resTime'],\n",
    "                                        min=0.1, max=10, step=0.1,\n",
    "                                        description='resTime', \n",
    "                                        continuous_update=False)\n",
    "\n",
    "grid_sliders = ipywidgets.HBox([ipywidgets.VBox([q_slider, scale_slider, center_slider])\n",
    "                                ,ipywidgets.VBox([Nsites_slider, radius_slider, resTime_slider])])\n",
    "                            \n",
    "\n",
    "# Define function to reset all parameters' values to the initial ones\n",
    "def reset_values(b):\n",
    "    \"\"\"Reset the interactive plots to inital values.\"\"\"\n",
    "    q_slider.value = ini_parameters['q'] \n",
    "    scale_slider.value = ini_parameters['scale'] \n",
    "    center_slider.value = ini_parameters['center']  \n",
    "    Nsites_slider.value = ini_parameters['Nsites'] \n",
    "    radius_slider.value = ini_parameters['radius'] \n",
    "    resTime_slider.value = ini_parameters['resTime']\n",
    "\n",
    "# Define reset button and occurring action when clicking on it\n",
    "reset_button = ipywidgets.Button(description = \"Reset\")\n",
    "reset_button.on_click(reset_values)\n",
    "\n",
    "# Display the interactive plot\n",
    "interactive_plot = ipywidgets.interactive_output(interactive_fct,       \n",
    "                                         {'q': q_slider, \n",
    "                                          'scale': scale_slider,\n",
    "                                          'center': center_slider,\n",
    "                                          'Nsites': Nsites_slider,\n",
    "                                          'radius': radius_slider,\n",
    "                                          'resTime': resTime_slider})  \n",
    "                                            \n",
    "display(grid_sliders, interactive_plot, reset_button)"
   ]
  },
  {
   "cell_type": "markdown",
   "metadata": {},
   "source": [
    "[Top](#Table-of-Contents)\n",
    "\n",
    "## Creating the reference data"
   ]
  },
  {
   "cell_type": "code",
   "execution_count": null,
   "metadata": {},
   "outputs": [],
   "source": [
    "nb_points = 200\n",
    "xx = np.linspace(-5, 5, nb_points)\n",
    "added_noise = np.random.normal(0, 1, nb_points)\n",
    "\n",
    "equiv_sites_circle_noisy = QENSmodels.sqwEquivalentSitesCircle(xx, \n",
    "                                                               q=1., \n",
    "                                                               scale=1.3, \n",
    "                                                               center=0.3, \n",
    "                                                               Nsites=5, \n",
    "                                                               radius=4., \n",
    "                                                               resTime=3.)*\\\n",
    "                           (1 + 0.1*added_noise) + 0.01*added_noise"
   ]
  },
  {
   "cell_type": "markdown",
   "metadata": {},
   "source": [
    "[Top](#Table-of-Contents)\n",
    "\n",
    "## Setting and fitting"
   ]
  },
  {
   "cell_type": "code",
   "execution_count": null,
   "metadata": {},
   "outputs": [],
   "source": [
    "gmodel = Model(QENSmodels.sqwEquivalentSitesCircle)\n",
    "\n",
    "print('Names of parameters:', gmodel.param_names)\n",
    "print('Independent variable(s):', gmodel.independent_vars)\n",
    "\n",
    "ini_values = {'scale': 1.22, 'center': 0.2, 'Nsites': 5, 'radius': 3.1, 'resTime': 0.33}\n",
    "\n",
    "# Define boundaries for parameters to be refined\n",
    "gmodel.set_param_hint('scale', min=0)\n",
    "gmodel.set_param_hint('center', min=-5, max=5)\n",
    "gmodel.set_param_hint('radius', min=0)\n",
    "gmodel.set_param_hint('resTime', min=0)\n",
    "\n",
    "# Fix some of the parameters\n",
    "gmodel.set_param_hint('q', vary=False)\n",
    "gmodel.set_param_hint('Nsites', vary=False)\n",
    "\n",
    "# Fit\n",
    "result = gmodel.fit(equiv_sites_circle_noisy, w=xx, q=1.,\n",
    "                    scale=ini_values['scale'], \n",
    "                    center=ini_values['center'],\n",
    "                    Nsites=ini_values['Nsites'],\n",
    "                    radius=ini_values['radius'],\n",
    "                    resTime=ini_values['resTime'])"
   ]
  },
  {
   "cell_type": "code",
   "execution_count": null,
   "metadata": {},
   "outputs": [],
   "source": [
    "# Plots - Initial model and reference data\n",
    "fig0, ax0 = plt.subplots()\n",
    "ax0.plot(xx, equiv_sites_circle_noisy, 'b.-', label='reference data')\n",
    "ax0.plot(xx, result.init_fit, 'k--', label='model with initial guesses')\n",
    "ax0.set(xlabel='x', title='Initial model and reference data')\n",
    "ax0.grid()\n",
    "ax0.legend();"
   ]
  },
  {
   "cell_type": "markdown",
   "metadata": {},
   "source": [
    "[Top](#Table-of-Contents)\n",
    "\n",
    "## Plotting results\n",
    "\n",
    "using methods implemented in `lmfit`"
   ]
  },
  {
   "cell_type": "code",
   "execution_count": null,
   "metadata": {},
   "outputs": [],
   "source": [
    "# display result\n",
    "print('Result of fit:\\n',result.fit_report())\n",
    "\n",
    "# plot fitting result using lmfit functionality\n",
    "result.plot()"
   ]
  },
  {
   "cell_type": "code",
   "execution_count": null,
   "metadata": {},
   "outputs": [],
   "source": [
    "# plot fitting resulting using matplotlib.pyplot\n",
    "fig1, ax1 = plt.subplots()\n",
    "ax1.plot(xx, equiv_sites_circle_noisy, 'b-', label='reference data')\n",
    "ax1.plot(xx, result.best_fit, 'r', label='fitting result')\n",
    "ax1.legend()\n",
    "ax1.set(xlabel='x', title='Fit result and reference data')\n",
    "ax1.grid();"
   ]
  },
  {
   "cell_type": "code",
   "execution_count": null,
   "metadata": {},
   "outputs": [],
   "source": [
    "for item in ['resTime', 'radius', 'center', 'scale']:\n",
    "    print(item, result.params[item].value, '+/-', result.params[item].stderr, dict_physical_units[item])"
   ]
  },
  {
   "cell_type": "code",
   "execution_count": null,
   "metadata": {},
   "outputs": [],
   "source": []
  }
 ],
 "metadata": {
  "hide_input": false,
  "kernelspec": {
   "display_name": "Python 3",
   "language": "python",
   "name": "python3"
  },
  "language_info": {
   "codemirror_mode": {
    "name": "ipython",
    "version": 3
   },
   "file_extension": ".py",
   "mimetype": "text/x-python",
   "name": "python",
   "nbconvert_exporter": "python",
   "pygments_lexer": "ipython3",
   "version": "3.8.8"
  },
  "toc": {
   "base_numbering": 1,
   "nav_menu": {},
   "number_sections": true,
   "sideBar": true,
   "skip_h1_title": true,
   "title_cell": "Table of Contents",
   "title_sidebar": "Contents",
   "toc_cell": false,
   "toc_position": {},
   "toc_section_display": true,
   "toc_window_display": false
  },
  "varInspector": {
   "cols": {
    "lenName": 16,
    "lenType": 16,
    "lenVar": 40
   },
   "kernels_config": {
    "python": {
     "delete_cmd_postfix": "",
     "delete_cmd_prefix": "del ",
     "library": "var_list.py",
     "varRefreshCmd": "print(var_dic_list())"
    },
    "r": {
     "delete_cmd_postfix": ") ",
     "delete_cmd_prefix": "rm(",
     "library": "var_list.r",
     "varRefreshCmd": "cat(var_dic_list()) "
    }
   },
   "types_to_exclude": [
    "module",
    "function",
    "builtin_function_or_method",
    "instance",
    "_Feature"
   ],
   "window_display": false
  }
 },
 "nbformat": 4,
 "nbformat_minor": 2
}
