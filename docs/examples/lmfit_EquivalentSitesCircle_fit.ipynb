{
 "cells": [
  {
   "cell_type": "markdown",
   "metadata": {},
   "source": [
    "<div class=\"alert alert-warning\">\n",
    "    \n",
    "<b>Disclaimer:</b> \n",
    "    \n",
    "The main objective of the <i>Jupyter</i> notebooks is to show how to use the models of the <i>QENS library</i> by\n",
    "    \n",
    "- building a fitting model: composition of models, convolution with a resolution function  \n",
    "- setting and running the fit  \n",
    "- extracting and displaying information about the results  \n",
    "\n",
    "These steps have a minimizer-dependent syntax. That's one of the reasons why different minimizers have been used in the notebooks provided as examples.  \n",
    "But, the initial guessed parameters might not be optimal, resulting in a poor fit of the reference data.\n",
    "    \n",
    "</div>\n",
    "\n",
    "\n",
    "# Equivalent sites circle with lmfit\n",
    "\n",
    "## Introduction\n",
    "\n",
    "<div class=\"alert alert-info\">\n",
    "    \n",
    "The objective of this notebook is to show how to use the <b>Equivalent Sites Circle</b> model to perform some \n",
    "fits using <a href=\"https://lmfit.github.io/lmfit-py/\">lmfit</a>.\n",
    "</div>\n",
    "\n",
    "### Physical units\n",
    "Please note that the following units are used for the QENS models\n",
    "\n",
    "| Type of parameter | Unit          |\n",
    "| :---------------- | :-----------: |\n",
    "| Time              | picosecond    |\n",
    "| Length            | Angstrom      |\n",
    "| Momentum transfer | 1/Angstrom    |\n",
    "\n",
    "For information about unit conversion, please refer to the jupyter notebook called `Convert_units.ipynb` in the `tools` folder.\n",
    "\n",
    "The dictionary of units defined in the cell below specify the units of the refined parameters adapted to the convention used in the experimental datafile."
   ]
  },
  {
   "cell_type": "code",
   "execution_count": 1,
   "metadata": {},
   "outputs": [],
   "source": [
    "# Units of parameters for selected QENS model and experimental data\n",
    "dict_physical_units = {'omega': \"1/ps\", \n",
    "                       'q': \"1/Angstrom\", \n",
    "                       'scale': \"unit_of_signal/ps\", \n",
    "                       'center': \"1/ps\", \n",
    "                       'radius': \"Angstrom\", \n",
    "                       'resTime': \"ps\"}"
   ]
  },
  {
   "cell_type": "markdown",
   "metadata": {},
   "source": [
    "## Importing the required librairies"
   ]
  },
  {
   "cell_type": "code",
   "execution_count": 2,
   "metadata": {},
   "outputs": [],
   "source": [
    "from __future__ import print_function\n",
    "import numpy as np\n",
    "\n",
    "# for interactivity (plots, buttons...)\n",
    "import ipywidgets\n",
    "\n",
    "import matplotlib.pyplot as plt\n",
    "\n",
    "from lmfit import Model, Parameters\n",
    "\n",
    "import QENSmodels"
   ]
  },
  {
   "cell_type": "markdown",
   "metadata": {},
   "source": [
    "## Plot of the fitting model\n",
    "\n",
    "The widget below shows the peak shape function imported from QENSmodels where the function's parameters can be varied."
   ]
  },
  {
   "cell_type": "code",
   "execution_count": 3,
   "metadata": {},
   "outputs": [
    {
     "data": {
      "application/vnd.jupyter.widget-view+json": {
       "model_id": "e4f898ddb854499a8f0c507b9f121a1c",
       "version_major": 2,
       "version_minor": 0
      },
      "text/plain": [
       "HBox(children=(VBox(children=(FloatSlider(value=1.0, continuous_update=False, description='q', max=10.0, min=0…"
      ]
     },
     "metadata": {},
     "output_type": "display_data"
    },
    {
     "data": {
      "application/vnd.jupyter.widget-view+json": {
       "model_id": "3e41ee59fccd464b815c6166983e8dbc",
       "version_major": 2,
       "version_minor": 0
      },
      "text/plain": [
       "Output()"
      ]
     },
     "metadata": {},
     "output_type": "display_data"
    },
    {
     "data": {
      "application/vnd.jupyter.widget-view+json": {
       "model_id": "577f3df8daeb4068984770fba4984b67",
       "version_major": 2,
       "version_minor": 0
      },
      "text/plain": [
       "Button(description='Reset', style=ButtonStyle())"
      ]
     },
     "metadata": {},
     "output_type": "display_data"
    }
   ],
   "source": [
    "# Dictionary of initial values\n",
    "ini_parameters = {'q': 1., 'scale': 5., 'center': 5., 'Nsites': 3, 'radius': 5., 'resTime': 1.} \n",
    "\n",
    "def interactive_fct(q, scale, center, Nsites, radius, resTime):\n",
    "    xs = np.linspace(-10, 10, 100)\n",
    "    \n",
    "    fig1, ax1 = plt.subplots()\n",
    "    ax1.plot(xs, QENSmodels.sqwEquivalentSitesCircle(xs, q, scale, center, Nsites, radius, resTime))\n",
    "    ax1.set_xlabel('x')\n",
    "    ax1.grid()\n",
    "\n",
    "# Define sliders for modifiable parameters and their range of variations\n",
    "\n",
    "q_slider = ipywidgets.FloatSlider(value=ini_parameters['q'],\n",
    "                                  min=0.1, max=10., step=0.1,\n",
    "                                  description='q', \n",
    "                                  continuous_update=False) \n",
    "\n",
    "scale_slider = ipywidgets.FloatSlider(value=ini_parameters['scale'],\n",
    "                                      min=0.1, max=10, step=0.1,\n",
    "                                      description='scale',\n",
    "                                      continuous_update=False) \n",
    "\n",
    "center_slider = ipywidgets.IntSlider(value=ini_parameters['center'],\n",
    "                                     min=-10, max=10, step=1,\n",
    "                                     description='center', \n",
    "                                     continuous_update=False) \n",
    "\n",
    "Nsites_slider = ipywidgets.IntSlider(value=ini_parameters['Nsites'],\n",
    "                                     min=2, max=10, step=1,\n",
    "                                     description='Nsites',\n",
    "                                     continuous_update=False)\n",
    "\n",
    "radius_slider = ipywidgets.FloatSlider(value=ini_parameters['radius'],\n",
    "                                       min=0.1, max=10, step=0.1,\n",
    "                                       description='radius',\n",
    "                                       continuous_update=False)\n",
    "\n",
    "resTime_slider = ipywidgets.FloatSlider(value=ini_parameters['resTime'],\n",
    "                                        min=0.1, max=10, step=0.1,\n",
    "                                        description='resTime', \n",
    "                                        continuous_update=False)\n",
    "\n",
    "grid_sliders = ipywidgets.HBox([ipywidgets.VBox([q_slider, scale_slider, center_slider])\n",
    "                                ,ipywidgets.VBox([Nsites_slider, radius_slider, resTime_slider])])\n",
    "                            \n",
    "\n",
    "# Define function to reset all parameters' values to the initial ones\n",
    "def reset_values(b):\n",
    "    \"\"\"Reset the interactive plots to inital values.\"\"\"\n",
    "    q_slider.value = ini_parameters['q'] \n",
    "    scale_slider.value = ini_parameters['scale'] \n",
    "    center_slider.value = ini_parameters['center']  \n",
    "    Nsites_slider.value = ini_parameters['Nsites'] \n",
    "    radius_slider.value = ini_parameters['radius'] \n",
    "    resTime_slider.value = ini_parameters['resTime']\n",
    "\n",
    "# Define reset button and occurring action when clicking on it\n",
    "reset_button = ipywidgets.Button(description = \"Reset\")\n",
    "reset_button.on_click(reset_values)\n",
    "\n",
    "# Display the interactive plot\n",
    "interactive_plot = ipywidgets.interactive_output(interactive_fct,       \n",
    "                                         {'q': q_slider, \n",
    "                                          'scale': scale_slider,\n",
    "                                          'center': center_slider,\n",
    "                                          'Nsites': Nsites_slider,\n",
    "                                          'radius': radius_slider,\n",
    "                                          'resTime': resTime_slider})  \n",
    "                                            \n",
    "display(grid_sliders, interactive_plot, reset_button)"
   ]
  },
  {
   "cell_type": "markdown",
   "metadata": {},
   "source": [
    "## Creating the reference data"
   ]
  },
  {
   "cell_type": "code",
   "execution_count": 4,
   "metadata": {},
   "outputs": [],
   "source": [
    "nb_points = 200\n",
    "xx = np.linspace(-5, 5, nb_points)\n",
    "added_noise = np.random.normal(0, 1, nb_points)\n",
    "\n",
    "equiv_sites_circle_noisy = QENSmodels.sqwEquivalentSitesCircle(xx, \n",
    "                                                               q=1., \n",
    "                                                               scale=1.3, \n",
    "                                                               center=0.3, \n",
    "                                                               Nsites=5, \n",
    "                                                               radius=4., \n",
    "                                                               resTime=3.)*\\\n",
    "                           (1 + 0.1*added_noise) + 0.01*added_noise"
   ]
  },
  {
   "cell_type": "markdown",
   "metadata": {},
   "source": [
    "## Setting and fitting"
   ]
  },
  {
   "cell_type": "code",
   "execution_count": 5,
   "metadata": {},
   "outputs": [
    {
     "name": "stdout",
     "output_type": "stream",
     "text": [
      "Names of parameters: ['q', 'scale', 'center', 'Nsites', 'radius', 'resTime']\n",
      "Independent variable(s): ['w']\n"
     ]
    }
   ],
   "source": [
    "gmodel = Model(QENSmodels.sqwEquivalentSitesCircle)\n",
    "\n",
    "print('Names of parameters:', gmodel.param_names)\n",
    "print('Independent variable(s):', gmodel.independent_vars)\n",
    "\n",
    "ini_values = {'scale': 1.22, 'center': 0.2, 'Nsites': 5, 'radius': 3.1, 'resTime': 0.33}\n",
    "\n",
    "# Define boundaries for parameters to be refined\n",
    "gmodel.set_param_hint('scale', min=0)\n",
    "gmodel.set_param_hint('center', min=-5, max=5)\n",
    "gmodel.set_param_hint('radius', min=0)\n",
    "gmodel.set_param_hint('resTime', min=0)\n",
    "\n",
    "# Fix some of the parameters\n",
    "gmodel.set_param_hint('q', vary=False)\n",
    "gmodel.set_param_hint('Nsites', vary=False)\n",
    "\n",
    "# Fit\n",
    "result = gmodel.fit(equiv_sites_circle_noisy, w=xx, q=1.,\n",
    "                    scale=ini_values['scale'], \n",
    "                    center=ini_values['center'],\n",
    "                    Nsites=ini_values['Nsites'],\n",
    "                    radius=ini_values['radius'],\n",
    "                    resTime=ini_values['resTime'])"
   ]
  },
  {
   "cell_type": "code",
   "execution_count": 6,
   "metadata": {},
   "outputs": [
    {
     "data": {
      "image/png": "[encoded data removed]",
      "text/plain": [
       "<Figure size 432x288 with 1 Axes>"
      ]
     },
     "metadata": {
      "needs_background": "light"
     },
     "output_type": "display_data"
    }
   ],
   "source": [
    "# Plots - Initial model and reference data\n",
    "fig0, ax0 = plt.subplots()\n",
    "ax0.plot(xx, equiv_sites_circle_noisy, 'b.-', label='reference data')\n",
    "ax0.plot(xx, result.init_fit, 'k--', label='model with initial guesses')\n",
    "ax0.set(xlabel='x', title='Initial model and reference data')\n",
    "ax0.grid()\n",
    "ax0.legend();"
   ]
  },
  {
   "cell_type": "markdown",
   "metadata": {},
   "source": [
    "## Plotting results\n",
    "\n",
    "using methods implemented in `lmfit`"
   ]
  },
  {
   "cell_type": "code",
   "execution_count": 7,
   "metadata": {},
   "outputs": [
    {
     "name": "stdout",
     "output_type": "stream",
     "text": [
      "Result of fit:\n",
      " [[Model]]\n",
      "    Model(sqwEquivalentSitesCircle)\n",
      "[[Fit Statistics]]\n",
      "    # fitting method   = leastsq\n",
      "    # function evals   = 117\n",
      "    # data points      = 200\n",
      "    # variables        = 4\n",
      "    chi-square         = 0.13898771\n",
      "    reduced chi-square = 7.0912e-04\n",
      "    Akaike info crit   = -1446.33742\n",
      "    Bayesian info crit = -1433.14416\n",
      "[[Variables]]\n",
      "    q:        1 (fixed)\n",
      "    scale:    1.25798371 +/- 0.01478848 (1.18%) (init = 1.22)\n",
      "    center:   0.29929989 +/- 0.00510208 (1.70%) (init = 0.2)\n",
      "    Nsites:   5 (fixed)\n",
      "    radius:   2.28768559 +/- 0.01094950 (0.48%) (init = 3.1)\n",
      "    resTime:  2.10487419 +/- 0.04298187 (2.04%) (init = 0.33)\n",
      "[[Correlations]] (unreported correlations are < 0.100)\n",
      "    C(scale, radius)   = 0.860\n",
      "    C(scale, resTime)  = -0.666\n",
      "    C(radius, resTime) = -0.416\n"
     ]
    },
    {
     "data": {
      "image/png": "[encoded data removed]",
      "text/plain": [
       "<Figure size 432x432 with 2 Axes>"
      ]
     },
     "execution_count": 7,
     "metadata": {},
     "output_type": "execute_result"
    },
    {
     "data": {
      "image/png": "[encoded data removed]",
      "text/plain": [
       "<Figure size 432x432 with 2 Axes>"
      ]
     },
     "metadata": {
      "needs_background": "light"
     },
     "output_type": "display_data"
    }
   ],
   "source": [
    "# display result\n",
    "print('Result of fit:\\n',result.fit_report())\n",
    "\n",
    "# plot fitting result using lmfit functionality\n",
    "result.plot()"
   ]
  },
  {
   "cell_type": "code",
   "execution_count": 8,
   "metadata": {},
   "outputs": [
    {
     "data": {
      "image/png": "[encoded data removed]",
      "text/plain": [
       "<Figure size 432x288 with 1 Axes>"
      ]
     },
     "metadata": {
      "needs_background": "light"
     },
     "output_type": "display_data"
    }
   ],
   "source": [
    "# plot fitting resulting using matplotlib.pyplot\n",
    "fig1, ax1 = plt.subplots()\n",
    "ax1.plot(xx, equiv_sites_circle_noisy, 'b-', label='reference data')\n",
    "ax1.plot(xx, result.best_fit, 'r', label='fitting result')\n",
    "ax1.legend()\n",
    "ax1.set(xlabel='x', title='Fit result and reference data')\n",
    "ax1.grid();"
   ]
  },
  {
   "cell_type": "code",
   "execution_count": 9,
   "metadata": {},
   "outputs": [
    {
     "name": "stdout",
     "output_type": "stream",
     "text": [
      "resTime 2.1048741873285195 +/- 0.04298187345867795 ps\n",
      "radius 2.287685586210325 +/- 0.01094950258747381 Angstrom\n",
      "center 0.2992998855751434 +/- 0.0051020751081531516 1/ps\n",
      "scale 1.2579837118257506 +/- 0.014788477110696512 unit_of_signal/ps\n"
     ]
    }
   ],
   "source": [
    "for item in ['resTime', 'radius', 'center', 'scale']:\n",
    "    print(item, result.params[item].value, '+/-', result.params[item].stderr, dict_physical_units[item])"
   ]
  },
  {
   "cell_type": "code",
   "execution_count": null,
   "metadata": {},
   "outputs": [],
   "source": []
  }
 ],
 "metadata": {
  "hide_input": false,
  "kernelspec": {
   "display_name": "Python 3",
   "language": "python",
   "name": "python3"
  },
  "language_info": {
   "codemirror_mode": {
    "name": "ipython",
    "version": 3
   },
   "file_extension": ".py",
   "mimetype": "text/x-python",
   "name": "python",
   "nbconvert_exporter": "python",
   "pygments_lexer": "ipython3",
   "version": "3.9.12"
  },
  "toc": {
   "base_numbering": 1,
   "nav_menu": {},
   "number_sections": true,
   "sideBar": true,
   "skip_h1_title": true,
   "title_cell": "Table of Contents",
   "title_sidebar": "Contents",
   "toc_cell": false,
   "toc_position": {},
   "toc_section_display": true,
   "toc_window_display": false
  },
  "varInspector": {
   "cols": {
    "lenName": 16,
    "lenType": 16,
    "lenVar": 40
   },
   "kernels_config": {
    "python": {
     "delete_cmd_postfix": "",
     "delete_cmd_prefix": "del ",
     "library": "var_list.py",
     "varRefreshCmd": "print(var_dic_list())"
    },
    "r": {
     "delete_cmd_postfix": ") ",
     "delete_cmd_prefix": "rm(",
     "library": "var_list.r",
     "varRefreshCmd": "cat(var_dic_list()) "
    }
   },
   "types_to_exclude": [
    "module",
    "function",
    "builtin_function_or_method",
    "instance",
    "_Feature"
   ],
   "window_display": false
  }
 },
 "nbformat": 4,
 "nbformat_minor": 4
}
