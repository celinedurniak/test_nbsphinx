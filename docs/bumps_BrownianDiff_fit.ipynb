{
 "cells": [
  {
   "cell_type": "markdown",
   "metadata": {
    "slideshow": {
     "slide_type": "slide"
    }
   },
   "source": [
    "<div class=\"alert alert-warning\">\n",
    "    \n",
    "<b>Disclaimer:</b> The main objective of the <i>Jupyter</i> notebooks is to show how to use the models of the <i>QENS library</i> by\n",
    "    \n",
    "- building a fitting model: composition of models, convolution with a resolution function\n",
    "- setting and run the fit   \n",
    "- extracting and displaying information about the results\n",
    "\n",
    "These steps have a minimizer-dependent syntax. That's one of the reasons why different minimizers have been used in the notebooks provided as examples.  \n",
    "But, the initial guessed parameters might not be optimal, resulting in a poor fit of the reference data.\n",
    "</div>\n",
    "\n",
    "# Example: Brownian Translational diffusion model convoluted with resolution function and fitted with bumps\n",
    "\n",
    "## Table of Contents\n",
    "\n",
    "- [Introduction](#Introduction)\n",
    "- [Import and install required libraries](#Import-and-install-required-libraries) \n",
    "- [Setting of fitting](#Setting-of-fitting)\n",
    "- [Running the fit](#Running-the-fit)  \n",
    "- [Showing the results](#Showing-the-results)"
   ]
  },
  {
   "cell_type": "markdown",
   "metadata": {
    "slideshow": {
     "slide_type": "slide"
    }
   },
   "source": [
    "[Top](#Table-of-Contents)\n",
    "\n",
    "## Introduction\n",
    "\n",
    "<div class=\"alert alert-info\">\n",
    "    \n",
    "The objective of this notebook is to show how to use the <b>Brownian Translational diffusion</b> model to perform some \n",
    "fits using <a href=\"https://github.com/bumps/bumps\">bumps</a> .\n",
    "</div>\n",
    "\n",
    "The **reference data** were generated data corresponding to a Brownian Translational diffusion model with self-diffusion coefficient = 0.145 &#x212B;$^2\\times$meV.\n",
    "\n",
    "The model was convoluted with a Gaussian resolution function \n",
    "of FWHM = 0.1 meV, centered randomly in the range \\[-0.01, +0.01\\] meV.\n",
    "\n",
    "Finally the data are sampled randomly from a Poisson distribution.\n",
    "\n",
    "The data do not have a background.\n",
    "\n",
    "### Physical units\n",
    "\n",
    "For information about unit conversion, please refer to the jupyter notebook called `Convert_units.ipynb` in the `tools` folder.\n",
    "\n",
    "The dictionary of units defined in the cell below specify the units of the refined parameters adapted to the convention used in the experimental datafile."
   ]
  },
  {
   "cell_type": "code",
   "execution_count": null,
   "metadata": {
    "scrolled": true
   },
   "outputs": [],
   "source": [
    "# Units of parameters for selected QENS model and experimental data\n",
    "dict_physical_units = {'D': \"meV.Angstrom^2\", \n",
    "                       'scale': \"unit_of_signal.meV\", \n",
    "                       'center': \"meV\"}"
   ]
  },
  {
   "cell_type": "markdown",
   "metadata": {
    "slideshow": {
     "slide_type": "slide"
    }
   },
   "source": [
    "[Top](#Table-of-Contents)\n",
    "\n",
    "## Import and install required libraries"
   ]
  },
  {
   "cell_type": "code",
   "execution_count": null,
   "metadata": {
    "scrolled": true,
    "slideshow": {
     "slide_type": "subslide"
    }
   },
   "outputs": [],
   "source": [
    "# Imported required libraries\n",
    "from __future__ import print_function\n",
    "import sys\n",
    "import os\n",
    "\n",
    "# for interactivity (plots, buttons...)\n",
    "import panel\n",
    "panel.extension()\n",
    "import panel.widgets as pnw\n",
    "\n",
    "import numpy as np"
   ]
  },
  {
   "cell_type": "code",
   "execution_count": null,
   "metadata": {
    "scrolled": true,
    "slideshow": {
     "slide_type": "subslide"
    }
   },
   "outputs": [],
   "source": [
    "# install bumps (if not already installed)\n",
    "import pkgutil\n",
    "if not pkgutil.find_loader(\"bumps\"):\n",
    "    bumpsY = pnw.Button(name='Yes', button_type='success')\n",
    "    bumpsN = pnw.Button(name='No', button_type='danger')\n",
    "    choice_installation = panel.Column(\"Do you want to install bumps?\", panel.Row(bumpsY, bumpsN))\n",
    "    display(choice_installation)"
   ]
  },
  {
   "cell_type": "code",
   "execution_count": null,
   "metadata": {
    "scrolled": true
   },
   "outputs": [],
   "source": [
    "if not pkgutil.find_loader(\"bumps\"):\n",
    "    if bumpsY.clicks>0:\n",
    "        !{sys.executable} -m pip install bumps\n",
    "    elif bumpsN.clicks>0:\n",
    "        print(\"You will not be able to run some of the remaining parts of this notebook\")"
   ]
  },
  {
   "cell_type": "code",
   "execution_count": null,
   "metadata": {
    "scrolled": true
   },
   "outputs": [],
   "source": [
    "import bumps"
   ]
  },
  {
   "cell_type": "code",
   "execution_count": null,
   "metadata": {
    "scrolled": true
   },
   "outputs": [],
   "source": [
    "# check version of bumps installed\n",
    "# Information message if installed version not recent enough\n",
    "from distutils.version import StrictVersion\n",
    "if StrictVersion(bumps.__version__) <= StrictVersion('0.7.6'):\n",
    "    print(\"\"\"The version of bumps installed is not recent \n",
    "    enough to run the examples. \n",
    "    Please update bumps. The minimum version required is 0.7.8\"\"\")"
   ]
  },
  {
   "cell_type": "markdown",
   "metadata": {
    "slideshow": {
     "slide_type": "slide"
    }
   },
   "source": [
    "[Top](#Table-of-Contents)\n",
    "\n",
    "## Setting of fitting\n",
    "\n",
    "### install QENSmodels (if not already installed)"
   ]
  },
  {
   "cell_type": "code",
   "execution_count": null,
   "metadata": {
    "scrolled": true
   },
   "outputs": [],
   "source": [
    "if not pkgutil.find_loader(\"QENSmodels\"):\n",
    "    buttonY = pnw.Button(name='Yes', button_type='success')\n",
    "    buttonN = pnw.Button(name='No', button_type='danger')\n",
    "    choice_installation = panel.Column(\"Do you want to install the QENSmodels' library?\", panel.Row(buttonY, buttonN))\n",
    "    display(choice_installation)"
   ]
  },
  {
   "cell_type": "code",
   "execution_count": null,
   "metadata": {
    "scrolled": true
   },
   "outputs": [],
   "source": [
    "if not pkgutil.find_loader(\"QENSmodels\"):\n",
    "    if buttonY.clicks>0:\n",
    "        !{sys.executable} -m pip install git+https://github.com/QENSlibrary/QENSmodels#egg=QENSmodels\n",
    "    elif buttonN.clicks>0:\n",
    "        print(\"You will not be able to run some of the remaining parts of this notebook\")"
   ]
  },
  {
   "cell_type": "markdown",
   "metadata": {},
   "source": [
    "### import reference data"
   ]
  },
  {
   "cell_type": "code",
   "execution_count": null,
   "metadata": {
    "scrolled": true,
    "slideshow": {
     "slide_type": "subslide"
    }
   },
   "outputs": [],
   "source": [
    "import h5py\n",
    "import QENSmodels\n",
    "import numpy as np\n",
    "from scipy.integrate import simps\n",
    "import bumps.names as bmp\n",
    "from bumps.fitters import fit\n",
    "from bumps.formatnum import format_uncertainty_pm\n",
    "\n",
    "path_to_data = './data/'\n",
    "\n",
    "# Read the sample\n",
    "with h5py.File(path_to_data + 'BrownianDiff_Sample.hdf', 'r') as f:\n",
    "    hw = f['entry1']['data1']['X'][:]\n",
    "    q = f['entry1']['data1']['Y'][:]\n",
    "    unit_w=f['entry1']['data1']['X'].attrs['long_name']\n",
    "    unit_q=f['entry1']['data1']['Y'].attrs['long_name']\n",
    "    sqw = np.transpose(f['entry1']['data1']['DATA'][:])\n",
    "    err = np.transpose(f['entry1']['data1']['errors'][:])\n",
    "\n",
    "# Read resolution\n",
    "with h5py.File(path_to_data + 'BrownianDiff_Resol.hdf', 'r') as f:\n",
    "    res = np.transpose(f['entry1']['data1']['DATA'][:])\n",
    "\n",
    "# Force resolution function to have unit area\n",
    "for i in range(len(q)):\n",
    "    area = simps(res[:,i], hw)\n",
    "    res[:,i] /= area   "
   ]
  },
  {
   "cell_type": "markdown",
   "metadata": {},
   "source": [
    "### display units of input data\n",
    "Just for information in order to determine if a convertion of units is required before using the QENSmodels"
   ]
  },
  {
   "cell_type": "code",
   "execution_count": null,
   "metadata": {
    "scrolled": true
   },
   "outputs": [],
   "source": [
    "print(\"The names and units of `w` ( `x`axis) and `q` are: {} and {}, respectively.\".format(str(unit_w[0], 'utf-8'), str(unit_q[0], 'utf-8')))"
   ]
  },
  {
   "cell_type": "markdown",
   "metadata": {},
   "source": [
    "### create fitting model"
   ]
  },
  {
   "cell_type": "code",
   "execution_count": null,
   "metadata": {
    "scrolled": true
   },
   "outputs": [],
   "source": [
    "# Fitting model \n",
    "def model_convol(x, q, scale=1, center=0, D=1, resolution=None):\n",
    "    model = QENSmodels.sqwBrownianTranslationalDiffusion(x, q, scale, center, D)\n",
    "    return np.convolve(model, resolution/resolution.sum(), mode='same')\n",
    "\n",
    "# Fit\n",
    "M = []\n",
    "\n",
    "for i in range(len(q)):\n",
    "    # Bumps fitting model\n",
    "    Mq = bmp.Curve(model_convol, hw, sqw[:,i], err[:,i], q=q[i],          \n",
    "               scale=1000, center=0.0, D=0.1, resolution=res[:, i])\n",
    "    Mq.scale.range(0, 1e5)\n",
    "    Mq.center.range(-0.1, 0.1)\n",
    "    Mq.D.range(0,1)\n",
    "    \n",
    "    # Q-independent parameters\n",
    "    if i == 0:\n",
    "        QD = Mq.D  \n",
    "    else:\n",
    "        Mq.D = QD\n",
    "    M.append(Mq)\n",
    "        \n",
    "problem = bmp.FitProblem(M)"
   ]
  },
  {
   "cell_type": "code",
   "execution_count": null,
   "metadata": {
    "scrolled": true
   },
   "outputs": [],
   "source": [
    "problem.summarize()"
   ]
  },
  {
   "cell_type": "markdown",
   "metadata": {
    "slideshow": {
     "slide_type": "slide"
    }
   },
   "source": [
    "###  Choice of minimizer for bumps"
   ]
  },
  {
   "cell_type": "code",
   "execution_count": null,
   "metadata": {
    "scrolled": true
   },
   "outputs": [],
   "source": [
    "options_dict={'Levenberg-Marquardt': \"lm\", \n",
    "             'Nelder-Mead Simplex': \"amoeba\", \n",
    "             'DREAM': \"dream\", \n",
    "             'Differential Evolution': \"de\", \n",
    "             'Quasi-Newton BFGS': \"newton\", \n",
    "             'Random Lines (experimental)': \"rl\", \n",
    "             'Particle Swarm (experimental)': \"ps\", \n",
    "             'Parallel Tempering (experimental)': \"pt\"}\n",
    "\n",
    "w_choice_minimizer= pnw.Select(name='Minimizer:', options=list(options_dict.keys()), value='Levenberg-Marquardt')\n",
    "\n",
    "w_choice_minimizer"
   ]
  },
  {
   "cell_type": "markdown",
   "metadata": {},
   "source": [
    "### Setting for running bumps"
   ]
  },
  {
   "cell_type": "code",
   "execution_count": null,
   "metadata": {
    "scrolled": true
   },
   "outputs": [],
   "source": [
    "steps_fitting = pnw.TextInput(\n",
    "        placeholder='number of steps when fitting',\n",
    "        width=250,\n",
    "        name='Number of steps for fit:', value='100')\n",
    "steps_fitting"
   ]
  },
  {
   "cell_type": "code",
   "execution_count": null,
   "metadata": {
    "scrolled": true
   },
   "outputs": [],
   "source": [
    "# Input chosen values to related fitting variables\n",
    "# CHOICE OF MINIMIZER\n",
    "chosen_minimizer = options_dict[w_choice_minimizer.value]\n",
    "\n",
    "# NUMBER OF STEPS WHEN RUNNING THE FIT\n",
    "steps = int(steps_fitting.value)"
   ]
  },
  {
   "cell_type": "code",
   "execution_count": null,
   "metadata": {
    "scrolled": true
   },
   "outputs": [],
   "source": [
    "# Preview of the settings\n",
    "print('Initial chisq', problem.chisq_str())\n",
    "\n",
    "problem.plot()"
   ]
  },
  {
   "cell_type": "markdown",
   "metadata": {},
   "source": [
    "[Top](#Table-of-Contents)\n",
    "\n",
    "## Running the fit\n",
    "\n",
    "Run the fit using the *minimizer* defined above with a number of *steps* also specified above"
   ]
  },
  {
   "cell_type": "code",
   "execution_count": null,
   "metadata": {
    "scrolled": false
   },
   "outputs": [],
   "source": [
    "result = fit(problem, \n",
    "             method=chosen_minimizer, \n",
    "             steps=steps, \n",
    "             verbose=True)"
   ]
  },
  {
   "cell_type": "markdown",
   "metadata": {},
   "source": [
    "[Top](#Table-of-Contents)\n",
    "\n",
    "## Showing the results"
   ]
  },
  {
   "cell_type": "code",
   "execution_count": null,
   "metadata": {
    "scrolled": false
   },
   "outputs": [],
   "source": [
    "problem.plot()"
   ]
  },
  {
   "cell_type": "code",
   "execution_count": null,
   "metadata": {
    "scrolled": true
   },
   "outputs": [],
   "source": [
    "# Print chi**2 and parameters' values after fit\n",
    "print(\"final chisq\", problem.chisq_str())\n",
    "for k, v, dv in zip(problem.labels(), result.x, result.dx):\n",
    "    if k in dict_physical_units.keys():\n",
    "        print(k, \":\", format_uncertainty_pm(v, dv), dict_physical_units[k])\n",
    "    else:\n",
    "        print(k, \":\", format_uncertainty_pm(v, dv))"
   ]
  },
  {
   "cell_type": "code",
   "execution_count": null,
   "metadata": {
    "scrolled": true
   },
   "outputs": [],
   "source": []
  }
 ],
 "metadata": {
  "celltoolbar": "Raw Cell Format",
  "kernelspec": {
   "display_name": "Python 3",
   "language": "python",
   "name": "python3"
  },
  "language_info": {
   "codemirror_mode": {
    "name": "ipython",
    "version": 3
   },
   "file_extension": ".py",
   "mimetype": "text/x-python",
   "name": "python",
   "nbconvert_exporter": "python",
   "pygments_lexer": "ipython3",
   "version": "3.7.3"
  },
  "livereveal": {
   "scroll": true,
   "start_slideshow_at": "beginning"
  },
  "toc": {
   "base_numbering": 1,
   "nav_menu": {},
   "number_sections": true,
   "sideBar": true,
   "skip_h1_title": true,
   "title_cell": "Table of Contents",
   "title_sidebar": "Contents",
   "toc_cell": false,
   "toc_position": {},
   "toc_section_display": false,
   "toc_window_display": false
  },
  "varInspector": {
   "cols": {
    "lenName": 16,
    "lenType": 16,
    "lenVar": 40
   },
   "kernels_config": {
    "python": {
     "delete_cmd_postfix": "",
     "delete_cmd_prefix": "del ",
     "library": "var_list.py",
     "varRefreshCmd": "print(var_dic_list())"
    },
    "r": {
     "delete_cmd_postfix": ") ",
     "delete_cmd_prefix": "rm(",
     "library": "var_list.r",
     "varRefreshCmd": "cat(var_dic_list()) "
    }
   },
   "types_to_exclude": [
    "module",
    "function",
    "builtin_function_or_method",
    "instance",
    "_Feature"
   ],
   "window_display": false
  }
 },
 "nbformat": 4,
 "nbformat_minor": 2
}
