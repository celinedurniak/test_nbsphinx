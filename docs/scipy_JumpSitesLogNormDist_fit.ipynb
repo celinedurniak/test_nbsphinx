{
 "cells": [
  {
   "cell_type": "markdown",
   "metadata": {},
   "source": [
    "<div class=\"alert alert-warning\">\n",
    "    \n",
    "<b>Disclaimer:</b> The main objective of the <i>Jupyter</i> notebooks is to show how to use the models of the <i>QENS library</i> by\n",
    "    \n",
    "- building a fitting model: composition of models, convolution with a resolution function\n",
    "- setting and run the fit   \n",
    "- extracting and displaying information about the results\n",
    "\n",
    "These steps have a minimizer-dependent syntax. That's one of the reasons why different minimizers have been used in the notebooks provided as examples.  \n",
    "But, the initial guessed parameters might not be optimal, resulting in a poor fit of the reference data.\n",
    "</div>\n",
    "\n",
    "# Example: Jump sites log norm diffusion model fitted with scipy\n",
    "\n",
    "## Table of Contents\n",
    "\n",
    "- [Introduction](#Introduction)\n",
    "- [Importing libraries](#Importing-libraries)\n",
    "- [Plot of the fitting model](#Plot-of-the-fitting-model)\n",
    "- [Creating reference data](#Creating-reference-data)\n",
    "- [Setting and fitting](#Setting-and-fitting)\n",
    "- [Plotting the results](#Plotting-the-results)"
   ]
  },
  {
   "cell_type": "markdown",
   "metadata": {},
   "source": [
    "[Top](#Table-of-Contents)\n",
    "\n",
    "## Introduction\n",
    "\n",
    "<div class=\"alert alert-info\">\n",
    "    \n",
    "The objective of this notebook is to show how to use one of the models of \n",
    "the <a href=\"https://github.com/QENSlibrary/QENSmodels\">QENSlibrary</a>, <b>sqwJumpSitesLogNormDist</b>, to perform some fits. \n",
    "\n",
    "<a href=\"https://docs.scipy.org/doc/scipy/reference/generated/scipy.optimize.curve_fit.html\">scipy.optimize.curve_fit</a> is used for fitting.\n",
    "</div>\n",
    "\n",
    "### Physical units\n",
    "\n",
    "For information about unit conversion, please refer to the jupyter notebook called `Convert_units.ipynb` in the `tools` folder.\n",
    "\n",
    "The dictionary of units defined in the cell below specify the units of the refined parameters adapted to the convention used in the experimental datafile."
   ]
  },
  {
   "cell_type": "code",
   "execution_count": null,
   "metadata": {},
   "outputs": [],
   "source": [
    "# Units of parameters for selected QENS model and experimental data\n",
    "\n",
    "dict_physical_units = {'scale': \"unit_of_signal.ps\", 'center': \"1/ps\", 'radius': 'Angstrom', 'resTime': 'ps'}"
   ]
  },
  {
   "cell_type": "markdown",
   "metadata": {},
   "source": [
    "[Top](#Table-of-Contents)\n",
    "\n",
    "## Importing libraries"
   ]
  },
  {
   "cell_type": "code",
   "execution_count": null,
   "metadata": {},
   "outputs": [],
   "source": [
    "# import python modules for plotting, fitting\n",
    "from __future__ import print_function\n",
    "import numpy as np\n",
    "\n",
    "import matplotlib.pyplot as plt\n",
    "from scipy.optimize import curve_fit\n",
    "\n",
    "# for interactivity (plots, buttons...)\n",
    "from pandas import DataFrame\n",
    "import panel.widgets as pnw\n",
    "import panel as pn\n",
    "pn.extension()\n",
    "\n",
    "#%matplotlib notebook"
   ]
  },
  {
   "cell_type": "code",
   "execution_count": null,
   "metadata": {},
   "outputs": [],
   "source": [
    "# install QENSmodels (if not already installed)\n",
    "import pkgutil\n",
    "import sys\n",
    "\n",
    "if not pkgutil.find_loader(\"QENSmodels\"):\n",
    "    buttonY = pnw.Button(name='Yes', button_type='success')\n",
    "    buttonN = pnw.Button(name='No', button_type='danger')\n",
    "    choice_installation = panel.Column(\"Do you want to install the QENSmodels' library?\", panel.Row(buttonY, buttonN))\n",
    "    display(choice_installation)"
   ]
  },
  {
   "cell_type": "code",
   "execution_count": null,
   "metadata": {},
   "outputs": [],
   "source": [
    "if not pkgutil.find_loader(\"QENSmodels\"):\n",
    "    if buttonY.clicks>0:\n",
    "        !{sys.executable} -m pip install git+https://github.com/QENSlibrary/QENSmodels#egg=QENSmodels\n",
    "    elif buttonN.clicks>0:\n",
    "        print(\"You will not be able to run some of the remaining parts of this notebook\")"
   ]
  },
  {
   "cell_type": "code",
   "execution_count": null,
   "metadata": {},
   "outputs": [],
   "source": [
    "# import model from QENS library\n",
    "import QENSmodels"
   ]
  },
  {
   "cell_type": "markdown",
   "metadata": {},
   "source": [
    "[Top](#Table-of-Contents)\n",
    "\n",
    "## Plot of the fitting model\n",
    "\n",
    "The widget below shows the peak shape function imported from QENSmodels where the function's parameters can be varied."
   ]
  },
  {
   "cell_type": "code",
   "execution_count": null,
   "metadata": {},
   "outputs": [],
   "source": [
    "ini_values = {'q': 1., 'scale': 5., 'center': 5., 'Nsites': 3, 'radius': 1., 'resTime':1., 'sigma': 1.}\n",
    "\n",
    "# Define function to plot\n",
    "def mplplot(df, **kwargs):\n",
    "    fig = df.plot(legend=False).get_figure()\n",
    "    plt.grid()\n",
    "    plt.ylabel('jump sites log normal distribution')\n",
    "    plt.xlabel('x')\n",
    "    plt.close(fig)\n",
    "    return fig\n",
    "\n",
    "def jump_log_norm(q=1., scale=1., center=1., Nsites=3, radius=1., resTime=1., sigma=1., view_fn=mplplot):\n",
    "    xs = np.linspace(-10,10,100)\n",
    "    ys = QENSmodels.sqwJumpSitesLogNormDist(xs, q, scale, center, Nsites, radius, resTime, sigma)\n",
    "    df = DataFrame(dict(y=ys), index=xs)\n",
    "    return view_fn(df, q=q, scale=scale, center=center, Nsites=Nsites, radius=radius, resTime=resTime, sigma=sigma)\n",
    "\n",
    "# Define sliders and actions on plot\n",
    "slider_q = pnw.FloatSlider(name='q', value=ini_values['q'], start=.1, end=10)\n",
    "slider_scale  = pnw.FloatSlider(name='scale', value=ini_values['scale'], start=1., end=10)\n",
    "slider_center = pnw.FloatSlider(name='center', value=ini_values['center'], start=0, end=10)\n",
    "slider_Nsites = pnw.IntSlider(name='Nsites', value=ini_values['Nsites'], start=2, end=10)\n",
    "slider_radius = pnw.FloatSlider(name='radius', value=ini_values['radius'], start=1, end=10)\n",
    "slider_resTime = pnw.FloatSlider(name='resTime', value=ini_values['resTime'], start=1, end=10)\n",
    "slider_sigma = pnw.FloatSlider(name='sigma', value=ini_values['sigma'], start=0.1, end=10)\n",
    "\n",
    "def update(event):\n",
    "    jump_log_norm_panel[0] = jump_log_norm(slider_q.value, \n",
    "                                           slider_scale.value, \n",
    "                                           slider_center.value, \n",
    "                                           slider_Nsites.value, \n",
    "                                           slider_radius.value, \n",
    "                                           slider_resTime.value, \n",
    "                                           slider_sigma.value)\n",
    "    \n",
    "slider_q.param.watch(update, 'value')\n",
    "slider_scale.param.watch(update, 'value')\n",
    "slider_center.param.watch(update, 'value')\n",
    "slider_Nsites.param.watch(update, 'value')\n",
    "slider_radius.param.watch(update, 'value')\n",
    "slider_resTime.param.watch(update, 'value')\n",
    "slider_sigma.param.watch(update, 'value')\n",
    "\n",
    "# Define reset button\n",
    "reset_button = pnw.Button(name='Reset')\n",
    "\n",
    "def on_click(event):\n",
    "    \"\"\"Reset the interactive plots to inital values.\"\"\"\n",
    "    print(\"reset values\")\n",
    "    slider_q.value = ini_values['q']\n",
    "    slider_scale.value = ini_values['scale']\n",
    "    slider_center.value = ini_values['center']\n",
    "    slider_Nsites.value = ini_values['Nsites']\n",
    "    slider_radius.value = ini_values['radius']\n",
    "    slider_resTime.value = ini_values['resTime']\n",
    "    slider_sigma.value = ini_values['sigma']\n",
    "\n",
    "reset_button.param.watch(on_click, 'clicks')\n",
    "\n",
    "# Define layout: title, plot, sliders and reset button\n",
    "widgets = pn.Column(\"#### sqwJumpSitesLogNormDist\", slider_q, slider_scale, slider_center, slider_Nsites, slider_radius, slider_resTime, slider_sigma, reset_button)\n",
    "jump_log_norm_panel = pn.Row(jump_log_norm(slider_q.value, slider_scale.value, slider_center.value, slider_Nsites.value, slider_radius.value, slider_resTime.value, slider_sigma.value), widgets)\n",
    "\n",
    "jump_log_norm_panel"
   ]
  },
  {
   "cell_type": "markdown",
   "metadata": {},
   "source": [
    "[Top](#Table-of-Contents)\n",
    "\n",
    "## Creating reference data\n",
    "\n",
    "**Input:** the reference data for this simple example correspond to sqwJumpSitesLogNormDist with added noise.\n",
    "\n",
    "The fit is performed using `scipy.optimize.curve_fit`. <br> The example is based on implementations from https://docs.scipy.org/doc/scipy/reference/generated/scipy.optimize.curve_fit.html"
   ]
  },
  {
   "cell_type": "code",
   "execution_count": null,
   "metadata": {},
   "outputs": [],
   "source": [
    "# Creation of reference data\n",
    "xx = np.linspace(-10,10,100)\n",
    "sqw_jump_sites_noisy = QENSmodels.sqwJumpSitesLogNormDist(xx, 0.89, 1, 0.3, 5, 2, 0.45, 0.25)*(1. + 0.04*np.random.normal(0,1,100)) + 0.02*np.random.normal(0,1,100)\n",
    "\n",
    "fig0, ax0 = plt.subplots()\n",
    "ax0.plot(xx, sqw_jump_sites_noisy, label='reference data')\n",
    "ax0.set_xlabel('x')\n",
    "ax0.grid()\n",
    "ax0.legend();"
   ]
  },
  {
   "cell_type": "markdown",
   "metadata": {},
   "source": [
    "[Top](#Table-of-Contents)\n",
    "\n",
    "## Setting and fitting"
   ]
  },
  {
   "cell_type": "code",
   "execution_count": null,
   "metadata": {},
   "outputs": [],
   "source": [
    "# From https://docs.scipy.org/doc/scipy/reference/generated/scipy.optimize.curve_fit.html\n",
    "# perform fit with initial guesses scale=0.95, center=0.2, radius=2, resTime=0.45, sigma=0.25\n",
    "# Nsites=5 and q =0.89 are fixed\n",
    "\n",
    "def func_to_fit(xx, scale, center, radius, resTime, sigma):\n",
    "    return QENSmodels.sqwJumpSitesLogNormDist(xx, 0.89, scale, center, 5, radius, resTime, sigma)\n",
    "\n",
    "fig0, ax0 = plt.subplots()\n",
    "ax0.plot(xx, sqw_jump_sites_noisy, 'b-', label='reference data')\n",
    "ax0.plot(xx, QENSmodels.sqwJumpSitesLogNormDist(xx, 0.89, scale=0.95, center=0.2, Nsites=5, radius=2, resTime=0.45, sigma=0.25), 'r-', label='model with initial guesses')\n",
    "ax0.set_xlabel('x')\n",
    "ax0.grid()\n",
    "ax0.legend(bbox_to_anchor=(0.6, 1), loc=2, borderaxespad=0.);"
   ]
  },
  {
   "cell_type": "code",
   "execution_count": null,
   "metadata": {},
   "outputs": [],
   "source": [
    "popt, pcov = curve_fit(func_to_fit, xx, sqw_jump_sites_noisy, p0=[0.95, 0.2, 2, 0.45, 0.25], \n",
    "                       bounds=((0.1, -2, 0.1, 0.1, 0.1), (5, 2, 5, 11, 1)))"
   ]
  },
  {
   "cell_type": "markdown",
   "metadata": {},
   "source": [
    "[Top](#Table-of-Contents)\n",
    "\n",
    "## Plotting the results"
   ]
  },
  {
   "cell_type": "code",
   "execution_count": null,
   "metadata": {},
   "outputs": [],
   "source": [
    "# Calculation of the errors on the refined parameters:\n",
    "perr = np.sqrt(np.diag(pcov))\n",
    "\n",
    "print('Values of refined parameters:')\n",
    "print('scale:'  , popt[0],'+/-', perr[0], dict_physical_units['scale'])\n",
    "print('center :', popt[1],'+/-', perr[1], dict_physical_units['center'])\n",
    "print('radius'  , popt[2],'+/-', perr[2], dict_physical_units['radius'])\n",
    "print('resTime' , popt[3],'+/-', perr[3], dict_physical_units['resTime'])\n",
    "print('sigma'   , popt[4],'+/-', perr[4])"
   ]
  },
  {
   "cell_type": "code",
   "execution_count": null,
   "metadata": {},
   "outputs": [],
   "source": [
    "# Comparison of reference data with fitting result\n",
    "fig1, ax1 = plt.subplots()\n",
    "ax1.plot(xx, sqw_jump_sites_noisy, 'b-', label='reference data')\n",
    "ax1.plot(xx, func_to_fit(xx, *popt), 'g--', label='fit: %5.3f, %5.3f, %5.3f, %5.3f, %5.3f' % tuple(popt))\n",
    "ax1.legend(bbox_to_anchor=(0., 1.15), loc='upper left', borderaxespad=0.)\n",
    "ax1.set_xlabel('x')\n",
    "ax1.grid();"
   ]
  },
  {
   "cell_type": "code",
   "execution_count": null,
   "metadata": {},
   "outputs": [],
   "source": []
  }
 ],
 "metadata": {
  "kernelspec": {
   "display_name": "Python 3",
   "language": "python",
   "name": "python3"
  },
  "language_info": {
   "codemirror_mode": {
    "name": "ipython",
    "version": 3
   },
   "file_extension": ".py",
   "mimetype": "text/x-python",
   "name": "python",
   "nbconvert_exporter": "python",
   "pygments_lexer": "ipython3",
   "version": "3.7.3"
  },
  "toc": {
   "base_numbering": 1,
   "nav_menu": {},
   "number_sections": true,
   "sideBar": true,
   "skip_h1_title": false,
   "title_cell": "Table of Contents",
   "title_sidebar": "Contents",
   "toc_cell": false,
   "toc_position": {},
   "toc_section_display": true,
   "toc_window_display": false
  },
  "varInspector": {
   "cols": {
    "lenName": 16,
    "lenType": 16,
    "lenVar": 40
   },
   "kernels_config": {
    "python": {
     "delete_cmd_postfix": "",
     "delete_cmd_prefix": "del ",
     "library": "var_list.py",
     "varRefreshCmd": "print(var_dic_list())"
    },
    "r": {
     "delete_cmd_postfix": ") ",
     "delete_cmd_prefix": "rm(",
     "library": "var_list.r",
     "varRefreshCmd": "cat(var_dic_list()) "
    }
   },
   "types_to_exclude": [
    "module",
    "function",
    "builtin_function_or_method",
    "instance",
    "_Feature"
   ],
   "window_display": false
  }
 },
 "nbformat": 4,
 "nbformat_minor": 2
}
