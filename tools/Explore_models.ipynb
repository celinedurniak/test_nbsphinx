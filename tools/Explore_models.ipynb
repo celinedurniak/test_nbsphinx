{
 "cells": [
  {
   "cell_type": "markdown",
   "metadata": {},
   "source": [
    "# Explore models\n",
    "\n",
    "This notebook displays the characteristics *hwhm*, *eisf* and *qisf* of a selected model of the QENS library.\n",
    "\n",
    "<a id='Table of Contents'></a><h3>Table of Contents</h3>\n",
    "- <a href='#imports'>Load packages</a>  \n",
    "- <a href='#choice_model'>Choice of model</a>  \n",
    "- <a href='#display_model'>Plot characteristics of selected model</a>\n",
    "\n",
    "\n",
    "<div class=\"alert alert-block alert-danger\">\n",
    "Only Python 3 is supported.\n",
    "</div>"
   ]
  },
  {
   "cell_type": "markdown",
   "metadata": {},
   "source": [
    "(<a href='#Table of Contents'>Top</a>)<a id='imports'></a><h2>Load packages</h2>"
   ]
  },
  {
   "cell_type": "code",
   "execution_count": null,
   "metadata": {},
   "outputs": [],
   "source": [
    "from __future__ import print_function\n",
    "\n",
    "import sys\n",
    "import numpy as np\n",
    "import matplotlib.pyplot as plt\n",
    "\n",
    "from inspect import signature\n",
    "\n",
    "import QENSmodels\n",
    "\n",
    "# for interactive plot\n",
    "import ipywidgets"
   ]
  },
  {
   "cell_type": "markdown",
   "metadata": {},
   "source": [
    "## Define Q values "
   ]
  },
  {
   "cell_type": "code",
   "execution_count": null,
   "metadata": {},
   "outputs": [],
   "source": [
    "q = np.arange(0.0, 10, 0.1)"
   ]
  },
  {
   "cell_type": "markdown",
   "metadata": {},
   "source": [
    "(<a href='#Table of Contents'>Top</a>)<a id='choice_model'></a><h2>Choice of model</h2>"
   ]
  },
  {
   "cell_type": "code",
   "execution_count": null,
   "metadata": {},
   "outputs": [],
   "source": [
    "# The `definitions` dictionary is used when asking the user to enter the values of the selected model\n",
    "definitions = {\n",
    "    \"Nsites\": ' Number of sites on circle (integer>2): ',\n",
    "    \"radius\": 'Radius (in Angstrom): ',\n",
    "    \"resTime\": 'Residence time between jumps (in ps): ',\n",
    "    \"D\": 'Self-diffusion coefficient (in Angstrom^2/ps): ',\n",
    "    \"variance_ux\": 'Variance of Gaussian random variable (in Angstrom^2 ): ',\n",
    "    \"DR\": 'Rotational diffusion coefficient (in 1/ps)?',\n",
    "    \"L\": 'Jump length (in Angstrom)',\n",
    "    \"sigma\": 'Standard deviation of the Gaussian distribution: '\n",
    "}\n",
    "\n",
    "options_list=['BrownianTranslationalDiffusion', \n",
    "              'ChudleyElliottDiffusion', \n",
    "              'EquivalentSitesCircle', \n",
    "              'GaussianModel3D', \n",
    "              'IsotropicRotationalDiffusion', \n",
    "              'JumpTranslationalDiffusion']\n",
    "\n",
    "model = ipywidgets.RadioButtons(\n",
    "    options=options_list,\n",
    "    value='BrownianTranslationalDiffusion',\n",
    "    description='Models:')\n",
    "\n",
    "model"
   ]
  },
  {
   "cell_type": "markdown",
   "metadata": {},
   "source": [
    "(<a href='#Table of Contents'>Top</a>)<a id='display_model'></a><h2>Plot characteristics of selected model</h2>\n",
    "\n",
    "Depending on the selected model, different inputs will be requested."
   ]
  },
  {
   "cell_type": "code",
   "execution_count": null,
   "metadata": {},
   "outputs": [],
   "source": [
    "function_to_plot = eval(\"QENSmodels.hwhm\" + model.value)\n",
    "sig = signature(function_to_plot)\n",
    "params = sig.parameters\n",
    "\n",
    "print('\\033[1m' + \"Selected model: \"+ '\\033[0m' + model.value)\n",
    "\n",
    "list_arg = []\n",
    "for key in params.keys():\n",
    "    if key != 'q':\n",
    "        value = input(definitions[key] + \"(default: \" + str(params[key].default) + \"): \")\n",
    "        if value is \"\":\n",
    "            value = params[key].default\n",
    "        list_arg.append(float(value))"
   ]
  },
  {
   "cell_type": "code",
   "execution_count": null,
   "metadata": {},
   "outputs": [],
   "source": [
    "hwhm, eisf, qisf = function_to_plot(q, *list_arg)\n",
    "\n",
    "fig = plt.figure(figsize=(15,10))\n",
    "\n",
    "ax1 = fig.add_subplot(131)\n",
    "ax1.plot(q, eisf, 'ro', linestyle='--')\n",
    "ax1.grid(True)\n",
    "ax1.set_xlim((0,10))\n",
    "ax1.set_ylim((0,1.1))\n",
    "ax1.set_xlabel(r'Q ($\\AA^{-1})$', fontsize=20)\n",
    "ax1.set_ylabel('EISF(Q)', fontsize=20)\n",
    "ax1.set_title('Elastic component', fontsize=20)\n",
    "ax1.tick_params(labelsize=16)\n",
    "\n",
    "ax2 = fig.add_subplot(132)\n",
    "ax2.plot(q, hwhm, linestyle='-', marker='.')\n",
    "ax2.grid(True)\n",
    "ax2.set_xlim((0,10))\n",
    "ax2.set_xlabel(r'Q ($\\AA^{-1})$', fontsize=20)\n",
    "ax2.set_ylabel('HWHM(Q) (ps$^{-1}$)', fontsize=20)\n",
    "ax2.set_title('Widths', fontsize=20)\n",
    "ax2.tick_params(labelsize=16)\n",
    "\n",
    "ax3 = fig.add_subplot(133)\n",
    "ax3.plot(q, qisf, linestyle='-')\n",
    "ax3.grid(True)\n",
    "ax3.set_xlim((0,10))\n",
    "ax3.set_ylim((0,1.1))\n",
    "ax3.set_xlabel(r'Q ($\\AA^{-1})$', fontsize=20)\n",
    "ax3.set_ylabel('QISF(Q)', fontsize=20)\n",
    "ax3.set_title('Quasi components', fontsize=20)\n",
    "ax3.tick_params(labelsize=16)\n",
    "\n",
    "plt.tight_layout()\n",
    "\n",
    "plt.show()   "
   ]
  },
  {
   "cell_type": "code",
   "execution_count": null,
   "metadata": {},
   "outputs": [],
   "source": [
    " "
   ]
  }
 ],
 "metadata": {
  "hide_input": false,
  "kernelspec": {
   "display_name": "Python 3",
   "language": "python",
   "name": "python3"
  },
  "language_info": {
   "codemirror_mode": {
    "name": "ipython",
    "version": 3
   },
   "file_extension": ".py",
   "mimetype": "text/x-python",
   "name": "python",
   "nbconvert_exporter": "python",
   "pygments_lexer": "ipython3",
   "version": "3.8.8"
  },
  "toc": {
   "base_numbering": 1,
   "nav_menu": {},
   "number_sections": true,
   "sideBar": true,
   "skip_h1_title": false,
   "title_cell": "Table of Contents",
   "title_sidebar": "Contents",
   "toc_cell": false,
   "toc_position": {},
   "toc_section_display": true,
   "toc_window_display": false
  },
  "varInspector": {
   "cols": {
    "lenName": 16,
    "lenType": 16,
    "lenVar": 40
   },
   "kernels_config": {
    "python": {
     "delete_cmd_postfix": "",
     "delete_cmd_prefix": "del ",
     "library": "var_list.py",
     "varRefreshCmd": "print(var_dic_list())"
    },
    "r": {
     "delete_cmd_postfix": ") ",
     "delete_cmd_prefix": "rm(",
     "library": "var_list.r",
     "varRefreshCmd": "cat(var_dic_list()) "
    }
   },
   "types_to_exclude": [
    "module",
    "function",
    "builtin_function_or_method",
    "instance",
    "_Feature"
   ],
   "window_display": false
  }
 },
 "nbformat": 4,
 "nbformat_minor": 2
}
