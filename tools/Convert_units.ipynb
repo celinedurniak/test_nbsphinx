{
 "cells": [
  {
   "cell_type": "markdown",
   "metadata": {},
   "source": [
    "# Converting units\n",
    "\n",
    "This notebook provides some help to convert units and some hints about the units of the parameters for the users' settings. \n",
    "\n",
    "\n",
    "### Useful tools\n",
    "The following list (non exhaustive) provides information to convert physical units related to neutron scattering:\n",
    "\n",
    "- [List of conversion factors for neutron scattering](https://www.ncnr.nist.gov/instruments/dcs/dcs_usersguide/Conversion_Factors.pdf)\n",
    "- [Documentation about units in Mantid](https://docs.mantidproject.org/nightly/concepts/UnitFactory.html)\n",
    "- ILL online tool [*Neutron scattering conversion factors*](https://www.ill.eu/fileadmin/user_upload/ILL/3_Users/Support_labs_infrastructure/Software-tools/DIF_tools/neutrons.html)\n",
    "\n",
    "<a id='tableconv'></a><h3>Examples of convention for units</h3>\n",
    "\n",
    "\n",
    "| Parameters                         | Units (convention1)| Units (convention2)|\n",
    "| ---------------------------------- | ------------------ | ------------------ |\n",
    "| &omega;                            | meV                | 1/picoseconds      |\n",
    "| q                                  | 1/&#x212B;         | 1/&#x212B;         |\n",
    "| self-diffusion coefficient `D`     | meV.&#x212B;&sup2; | &#x212B;&sup2;/ps  |\n",
    "| rotational diffusion constant `DR` | meV                | 1/picoseconds      |\n",
    "| Variance <u&#x2093;&sup2;>         | &#x212B;&sup2;     | &#x212B;&sup2;     |\n",
    "| residence time                     | 1/meV              |  picoseconds       | \n",
    "| jump distance `L`                  | &#x212B;           | &#x212B;           |\n",
    "| radius of circle `R`               | &#x212B;           | &#x212B;           |\n",
    "\n",
    "- For the models `delta_lorentz` and `delta_two_lorentz`, the coefficients of the amplitudes of the Lorentzian functions, `A0` and `A1` do not have any dimensions.\n",
    "- For `jump_sites_log_norm_dist`, the standard deviation of Gaussian distribution &#963; is dimensionless\n",
    "- `equivalent_sites_circle` and `jump_sites_log_norm_dist`, `Nsites` is dimensionless"
   ]
  },
  {
   "cell_type": "code",
   "execution_count": null,
   "metadata": {},
   "outputs": [],
   "source": [
    "import scipy.constants as csts\n",
    "\n",
    "# for interactive plot\n",
    "import panel\n",
    "panel.extension()\n",
    "import panel.widgets as pnw"
   ]
  },
  {
   "cell_type": "code",
   "execution_count": null,
   "metadata": {},
   "outputs": [],
   "source": [
    "select = pnw.Select(name='Select input units for `w`', options=['1/picoseconds','microeV', 'meV', 'GHz', 'THz', '1/nanoseconds'])\n",
    "select"
   ]
  },
  {
   "cell_type": "code",
   "execution_count": null,
   "metadata": {},
   "outputs": [],
   "source": [
    "print('Coefficient to convert to 1/picoseconds:')\n",
    "if select.value == 'meV':\n",
    "    print('1/(csts.physical_constants[\"Planck constant over 2 pi in eV s\"][0] * csts.peta) equal to', 1/(csts.physical_constants[\"Planck constant over 2 pi in eV s\"][0] * csts.peta))\n",
    "elif select.value == 'microeV': \n",
    "    print('1/(1000*csts.physical_constants[\"Planck constant over 2 pi in eV s\"][0] * csts.peta) equal to', 1/(1000.*csts.physical_constants[\"Planck constant over 2 pi in eV s\"][0] * csts.peta))\n",
    "elif select.value == 'nanoseconds':\n",
    "    print('1/(1000) equal to', 1/1000.)\n",
    "elif select.value == 'GHz':\n",
    "    print('2*csts.pi/1000 equal to', 2*csts.pi/1000)\n",
    "elif select.value == 'THz':\n",
    "    print('2*csts.pi equal to',2*csts.pi)    \n",
    "else :\n",
    "    print('nothing to be done')"
   ]
  },
  {
   "cell_type": "markdown",
   "metadata": {},
   "source": [
    "### Comment: converting all parameters in your model\n",
    "Let's say that you have some experimental data, where `q` is expressed in &#x212B; and &omega; in units that would correspond to &alpha; times 1/picoseconds, where &alpha; is a multiplicative coefficient. For example, `millimeter` = &alpha; `meter` with &alpha;=0.001\n",
    "\n",
    "Consider the example of a Lorentzian as the selected QENS model to fit your data.\n",
    "\n",
    "Its expression is \n",
    "\n",
    "\\begin{align*}\n",
    "\\text{Lorentzian}(\\omega, \\text{scale}, \\text{center}, \\text{hwhm}) &= \\frac{\\text{scale}}{\\pi} \\frac{\\text{hwhm}}{(\\omega - \\text{center})^2-\\text{hwhm}^2} \\\\\n",
    "& = \\frac{\\color{blue}{\\alpha^2}}{\\color{blue}{\\alpha^2}}\\frac{\\text{scale}}{\\pi} \\frac{\\text{hwhm}}{(\\omega - \\text{center})^2-\\text{hwhm}^2} \\\\\n",
    "&= \\frac{\\color{blue}{\\alpha}\\text{scale}}{\\pi} \\frac{\\color{blue}{\\alpha}\\text{hwhm}}{(\\color{blue}{\\alpha}\\omega - \\color{blue}{\\alpha}\\text{center})^2-(\\color{blue}{\\alpha}\\text{hwhm})^2} \\\\\n",
    "&= \\frac{\\text{SCALE}}{\\pi} \\frac{\\text{HWHM}}{(\\Omega - \\text{CENTER})^2-\\text{HWHM}^2} = \\text{Lorentzian}(\\Omega, \\text{SCALE}, \\text{CENTER}, \\text{HWHM}) \n",
    "\\end{align*}\n",
    "\n",
    "In other words, there is no need to convert the parameters to use one of the QENS models if the unit of &omega; in your data is proportional to `1/picoseconds`.\n",
    "\n",
    "It is, for example, the case when &omega; is expressed in `meV`. Columns of the <a href='#tableconv'> table of units</a> show the respective units for the different conventions."
   ]
  },
  {
   "cell_type": "code",
   "execution_count": null,
   "metadata": {},
   "outputs": [],
   "source": []
  }
 ],
 "metadata": {
  "kernelspec": {
   "display_name": "Python 3",
   "language": "python",
   "name": "python3"
  },
  "language_info": {
   "codemirror_mode": {
    "name": "ipython",
    "version": 3
   },
   "file_extension": ".py",
   "mimetype": "text/x-python",
   "name": "python",
   "nbconvert_exporter": "python",
   "pygments_lexer": "ipython3",
   "version": "3.7.4"
  },
  "toc": {
   "base_numbering": 1,
   "nav_menu": {},
   "number_sections": false,
   "sideBar": true,
   "skip_h1_title": true,
   "title_cell": "Table of Contents",
   "title_sidebar": "Contents",
   "toc_cell": false,
   "toc_position": {},
   "toc_section_display": true,
   "toc_window_display": false
  },
  "varInspector": {
   "cols": {
    "lenName": 16,
    "lenType": 16,
    "lenVar": 40
   },
   "kernels_config": {
    "python": {
     "delete_cmd_postfix": "",
     "delete_cmd_prefix": "del ",
     "library": "var_list.py",
     "varRefreshCmd": "print(var_dic_list())"
    },
    "r": {
     "delete_cmd_postfix": ") ",
     "delete_cmd_prefix": "rm(",
     "library": "var_list.r",
     "varRefreshCmd": "cat(var_dic_list()) "
    }
   },
   "types_to_exclude": [
    "module",
    "function",
    "builtin_function_or_method",
    "instance",
    "_Feature"
   ],
   "window_display": false
  }
 },
 "nbformat": 4,
 "nbformat_minor": 2
}
